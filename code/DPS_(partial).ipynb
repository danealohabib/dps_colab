{
  "cells": [
    {
      "cell_type": "markdown",
      "source": [
        "# Setup instruction:\n",
        "Step 1: Go to Runtime > Change runtime type > Change Hardware Acceleration to GPU.\n",
        "\n",
        "Step 2: Upload dpsdata.csv to colab (open left pane - file pane, right click and click upload). **Run the cell below.**\n",
        "\n",
        "Step 3: Create a new folder named \"output\", inside it create another folder named \"params\", inside \"params\" create another folder named \"notef\".\n",
        "\n",
        "Step 4: Go to Runtime > Run all."
      ],
      "metadata": {
        "id": "VHNFlmDtHfNd"
      }
    },
    {
      "cell_type": "markdown",
      "metadata": {
        "id": "U-6Tjo2llnIy"
      },
      "source": [
        "# Demand for Payment Services"
      ]
    },
    {
      "cell_type": "code",
      "source": [
        "# Step 2 - create output/params/notef\n",
        "!mkdir output\n",
        "!mkdir output/params\n",
        "!mkdir output/params/notef"
      ],
      "metadata": {
        "id": "w3uxsEt_pB8p"
      },
      "execution_count": 4,
      "outputs": []
    },
    {
      "cell_type": "markdown",
      "metadata": {
        "id": "wHlVNvhdlnIz"
      },
      "source": [
        "### Import libraries and basic settings"
      ]
    },
    {
      "cell_type": "code",
      "source": [
        "!pip3 install chaospy"
      ],
      "metadata": {
        "colab": {
          "base_uri": "https://localhost:8080/"
        },
        "id": "fraJiftLmRJM",
        "outputId": "f114555f-0574-43f2-949f-f87cc4d4c5ff"
      },
      "execution_count": 5,
      "outputs": [
        {
          "output_type": "stream",
          "name": "stdout",
          "text": [
            "Looking in indexes: https://pypi.org/simple, https://us-python.pkg.dev/colab-wheels/public/simple/\n",
            "Collecting chaospy\n",
            "  Downloading chaospy-4.3.13-py3-none-any.whl (254 kB)\n",
            "\u001b[2K     \u001b[90m━━━━━━━━━━━━━━━━━━━━━━━━━━━━━━━━━━━━━━\u001b[0m \u001b[32m254.1/254.1 kB\u001b[0m \u001b[31m14.3 MB/s\u001b[0m eta \u001b[36m0:00:00\u001b[0m\n",
            "\u001b[?25hRequirement already satisfied: numpy>=1.20 in /usr/local/lib/python3.10/dist-packages (from chaospy) (1.22.4)\n",
            "Collecting numpoly>=1.2.5 (from chaospy)\n",
            "  Downloading numpoly-1.2.8-py3-none-any.whl (147 kB)\n",
            "\u001b[2K     \u001b[90m━━━━━━━━━━━━━━━━━━━━━━━━━━━━━━━━━━━━━━\u001b[0m \u001b[32m148.0/148.0 kB\u001b[0m \u001b[31m22.0 MB/s\u001b[0m eta \u001b[36m0:00:00\u001b[0m\n",
            "\u001b[?25hRequirement already satisfied: scipy in /usr/local/lib/python3.10/dist-packages (from chaospy) (1.10.1)\n",
            "Requirement already satisfied: setuptools>=40.9.0 in /usr/local/lib/python3.10/dist-packages (from chaospy) (67.7.2)\n",
            "Collecting importlib-metadata (from chaospy)\n",
            "  Downloading importlib_metadata-6.7.0-py3-none-any.whl (22 kB)\n",
            "Requirement already satisfied: zipp>=0.5 in /usr/local/lib/python3.10/dist-packages (from importlib-metadata->chaospy) (3.15.0)\n",
            "Installing collected packages: importlib-metadata, numpoly, chaospy\n",
            "Successfully installed chaospy-4.3.13 importlib-metadata-6.7.0 numpoly-1.2.8\n"
          ]
        }
      ]
    },
    {
      "cell_type": "code",
      "execution_count": 1,
      "metadata": {
        "id": "njczy-hClnIz"
      },
      "outputs": [],
      "source": [
        "# chaospy generates pseudorandom sequence, e.g. Hammersley seq.\n",
        "import chaospy\n",
        "\n",
        "# GPU-enabled vector library and optimization\n",
        "import torch\n",
        "import torch.optim as optim\n",
        "\n",
        "# Libraries for plotting\n",
        "import matplotlib.pyplot as plt\n",
        "import matplotlib.gridspec as gridspec\n",
        "\n",
        "# Other numerical/data libraries\n",
        "import pandas as pd\n",
        "import numpy as np"
      ]
    },
    {
      "cell_type": "code",
      "execution_count": 2,
      "metadata": {
        "id": "bK3y3xnAlnI0"
      },
      "outputs": [],
      "source": [
        "# dtype = torch.double\n",
        "dtype = torch.float64\n",
        "device = torch.device('cuda:0' if torch.cuda.is_available() else 'cpu')\n",
        "\n",
        "pd.options.mode.chained_assignment = None\n",
        "\n",
        "np.random.seed(123456789)\n",
        "torch.manual_seed(123456789)\n",
        "torch.backends.cudnn.deterministic = True\n",
        "torch.backends.cudnn.benchmark = False\n",
        "output_folder = './output/params/notef/'\n",
        "\n",
        "# assert torch.__version__ == '1.1.0'"
      ]
    },
    {
      "cell_type": "markdown",
      "metadata": {
        "id": "Ahea76GWlnI0"
      },
      "source": [
        "## Read the data and process it into variables"
      ]
    },
    {
      "cell_type": "code",
      "execution_count": 3,
      "metadata": {
        "id": "lW4JezGglnI0"
      },
      "outputs": [],
      "source": [
        "# Read and label Data\n",
        "# data = pd.read_csv('../DATA/dpsdata.csv')\n",
        "data = pd.read_csv('dpsdata.csv')\n",
        "data[\"zeros\"] = np.zeros_like(data.p.values)\n",
        "data[\"ones\"] = np.ones_like(data.p.values)\n",
        "data = data[(data['urb'] == 'Rural') | (data['urb'] == 'Urban')]"
      ]
    },
    {
      "cell_type": "markdown",
      "metadata": {
        "id": "-7lJmdARlnI1"
      },
      "source": [
        "## $X_{bmj}$"
      ]
    },
    {
      "cell_type": "code",
      "execution_count": 4,
      "metadata": {
        "id": "PZ_nrcVHlnI1"
      },
      "outputs": [],
      "source": [
        "# Transaction specific dataframe\n",
        "ca_data = data[['e0', 'c0', 'r0', 'zeros', 'ec0']]\n",
        "dc_data = data[['e1', 'c1', 'r1', 'zeros', 'ec1']]\n",
        "cc_data = data[['e2', 'c2', 'r2', 'rew', 'ec2']]\n",
        "\n",
        "# create X\n",
        "X_ca = torch.tensor(ca_data.values, dtype=dtype, device=device)\n",
        "X_dc = torch.tensor(dc_data.values, dtype=dtype, device=device)\n",
        "X_cc = torch.tensor(cc_data.values, dtype=dtype, device=device)"
      ]
    },
    {
      "cell_type": "markdown",
      "metadata": {
        "id": "BGhvYB0IlnI1"
      },
      "source": [
        "## $Z_{bj}$"
      ]
    },
    {
      "cell_type": "code",
      "execution_count": 5,
      "metadata": {
        "id": "m8c6k6K6lnI1"
      },
      "outputs": [],
      "source": [
        "# Create demographic variables\n",
        "dem_data = data[['empd', 'mard', 'age', 'incl', 'gen',  'edu', 'ttype', 'urb', 'own', 'can', 'year', 'sph']]\n",
        "dem_data_t = pd.get_dummies(dem_data, columns=['edu', 'ttype', 'year', 'urb']) # Convert categorical to dummies and drop the base cases\n",
        "dem_data_t = dem_data_t.drop(['edu_Some/completed public school/some high school', 'ttype_Groceries/Drugs', 'year_2009', 'urb_Rural'], axis=1)\n",
        "dem_data_t['const'] = data['ones']\n",
        "dem_data_t['incl'] = dem_data_t['incl'] / 10000\n",
        "\n",
        "# create tensors for Z\n",
        "# print(dem_data_t['urb'].value_counts())\n",
        "Zbj = torch.tensor(dem_data_t.values, dtype=dtype, device=device)"
      ]
    },
    {
      "cell_type": "markdown",
      "metadata": {
        "id": "d4LqHRyHlnI1"
      },
      "source": [
        "## $CS_b$"
      ]
    },
    {
      "cell_type": "code",
      "execution_count": 6,
      "metadata": {
        "colab": {
          "base_uri": "https://localhost:8080/"
        },
        "id": "zSb2e6uClnI1",
        "outputId": "4e9c3cb3-385b-41fc-e677-221ba390aeff"
      },
      "outputs": [
        {
          "output_type": "stream",
          "name": "stderr",
          "text": [
            "<ipython-input-6-8e37be254535>:1: FutureWarning: The default value of numeric_only in DataFrameGroupBy.mean is deprecated. In a future version, numeric_only will default to False. Either specify numeric_only or select only columns which should be valid for the function.\n",
            "  cs = torch.tensor(data.groupby('nid').mean()['cr_sc_avg'].values/100, dtype=dtype, device=device).unsqueeze(1)\n"
          ]
        }
      ],
      "source": [
        "cs = torch.tensor(data.groupby('nid').mean()['cr_sc_avg'].values/100, dtype=dtype, device=device).unsqueeze(1)\n",
        "\n",
        "# create tensors for CS\n",
        "CSb = torch.cat((cs, cs), 1)"
      ]
    },
    {
      "cell_type": "markdown",
      "metadata": {
        "id": "EAnfLzyRlnI2"
      },
      "source": [
        "## $P_{M_s}, d_{bmj}, D_{b\\mathcal{M}_b}$ and other auxilliary variables"
      ]
    },
    {
      "cell_type": "code",
      "execution_count": 7,
      "metadata": {
        "colab": {
          "base_uri": "https://localhost:8080/"
        },
        "id": "kFYENadJlnI2",
        "outputId": "10dc9dfd-3381-49ae-a962-ec8e4c1155d6"
      },
      "outputs": [
        {
          "output_type": "stream",
          "name": "stderr",
          "text": [
            "<ipython-input-7-4fcc955fc750>:19: FutureWarning: The default value of numeric_only in DataFrameGroupBy.mean is deprecated. In a future version, numeric_only will default to False. Either specify numeric_only or select only columns which should be valid for the function.\n",
            "  BDi = torch.tensor(pd.get_dummies(data.groupby('nid').mean()['Mb']).values, dtype=dtype, device=device)\n"
          ]
        }
      ],
      "source": [
        "# Merchant acceptance probabilities (transaction level)\n",
        "Ms_0 = torch.tensor(data[['Ms0']].values, dtype=dtype, device=device)\n",
        "Ms_1 = torch.tensor(data[['Ms01']].values, dtype=dtype, device=device)\n",
        "Ms_2 = torch.tensor(data[['Ms012']].values, dtype=dtype, device=device)\n",
        "\n",
        "# Consumer usage dummies for payment method (transaction level)\n",
        "di = torch.tensor(data[['d0', 'd1', 'd2']].values, dtype=dtype, device=device)\n",
        "\n",
        "# print(data['Mb'].unique())\n",
        "# print(data.groupby('nid').mean().columns)\n",
        "\n",
        "data['Mb'] = data['Mb'].map({\n",
        "    'Credit card': 0,\n",
        "    'Debit': 1,\n",
        "    'Cash only': 2\n",
        "})\n",
        "\n",
        "# Consumer adoption dummies for payment bundles (consumer level)\n",
        "BDi = torch.tensor(pd.get_dummies(data.groupby('nid').mean()['Mb']).values, dtype=dtype, device=device)\n",
        "\n",
        "# Person ID (used to aggregate transaction level utility to individual level utility)\n",
        "nid = torch.tensor(data['nid'].values, dtype=dtype, device=device)\n",
        "nid_index = torch.nonzero(nid[..., None] == nid.unique())[:,1]\n",
        "nid_matrix = torch.zeros(nid.unique().shape[0], nid.shape[0], dtype=dtype, device=device)\n",
        "nid_matrix[nid_index, torch.arange(nid_index.shape[0])] = 1\n",
        "\n",
        "# separate data into groups based on adopted bundles by buyers\n",
        "Mb = torch.tensor(data['Mb'].values, dtype=dtype, device=device)\n",
        "group_0_idx = (Mb == 0)\n",
        "group_1_idx = (Mb == 1)\n",
        "group_2_idx = (Mb == 2)\n",
        "\n",
        "# Suppresses random coefficients\n",
        "beta_mask = torch.tensor([0, 1, 1, 0, 1], dtype=dtype, device=device)\n",
        "\n",
        "# merchant acceptance placeholders with all 0 or 1\n",
        "zero = torch.tensor([0.], dtype=dtype, device=device)\n",
        "year = torch.tensor(data['year'], dtype=dtype, device=device)"
      ]
    },
    {
      "cell_type": "markdown",
      "metadata": {
        "id": "YNYxaZkHlnI2"
      },
      "source": [
        "### Helper functions"
      ]
    },
    {
      "cell_type": "code",
      "execution_count": 8,
      "metadata": {
        "id": "dw0Mz16KlnI2"
      },
      "outputs": [],
      "source": [
        "# Delta refers to the utility provided by each payment method, Ms is the acceptance probability\n",
        "def stage2_choice(delta_ca, delta_dc, delta_cc, Ms_0, Ms_1, Ms_2):\n",
        "    choice = torch.zeros(delta_ca.shape[0], delta_ca.shape[1], 3, dtype=dtype, device=device)\n",
        "    # cash-only (group 0)\n",
        "    choice[:, group_0_idx, :] = torch.cat([\n",
        "                        torch.ones_like(delta_ca),\n",
        "                        torch.zeros_like(delta_ca),\n",
        "                        torch.zeros_like(delta_ca),\n",
        "                      ], dim=2)[:, group_0_idx, :]\n",
        "\n",
        "    # cash + debit (group 1)\n",
        "    p_1 = torch.nn.functional.softmax(torch.cat([delta_ca, delta_dc], dim=2), dim=2)\n",
        "    p_ca_1 = p_1[:,:,0:1]\n",
        "    p_dc_1 = p_1[:,:,1:2]\n",
        "    choice[:, group_1_idx, :] = torch.cat([\n",
        "                        Ms_0 + (Ms_1 + Ms_2) * p_ca_1,\n",
        "                        (Ms_1 + Ms_2) * p_dc_1,\n",
        "                        torch.zeros_like(delta_ca)\n",
        "                      ], dim=2)[:, group_1_idx, :]\n",
        "\n",
        "    # cash + debit + credit (group 2)\n",
        "    p_2 = torch.nn.functional.softmax(torch.cat([delta_ca, delta_dc, delta_cc], dim=2), dim=2)\n",
        "    p_ca_2 = p_2[:,:,0:1]\n",
        "    p_dc_2 = p_2[:,:,1:2]\n",
        "    p_cc_2 = p_2[:,:,2:3]\n",
        "    choice[:, group_2_idx, :] = torch.cat([\n",
        "                        Ms_0 + Ms_1 * p_ca_1 + Ms_2 * p_ca_2,\n",
        "                        Ms_1 * p_dc_1 + Ms_2 * p_dc_2,\n",
        "                        Ms_2 * p_cc_2\n",
        "                      ], dim=2)[:, group_2_idx, :]\n",
        "    return choice\n",
        "\n",
        "# Computes the expected maximum utiltiy from second stage. Dimension is number of transaction*1.\n",
        "def stage2_bundle_emax(delta_ca, delta_dc, delta_cc, Ms_0, Ms_1, Ms_2):\n",
        "    u_0 = delta_ca\n",
        "    u_1 = torch.logsumexp(torch.cat([delta_ca, delta_dc], 2), dim=2, keepdim=True)\n",
        "    u_2 = torch.logsumexp(torch.cat([delta_ca, delta_dc, delta_cc], 2), dim=2, keepdim=True)\n",
        "\n",
        "    eu_0 = u_0\n",
        "    eu_1 = Ms_0 * u_0 \\\n",
        "        + (Ms_1 + Ms_2) * u_1\n",
        "    eu_2 = Ms_0 * u_0 \\\n",
        "        + Ms_1 * u_1 \\\n",
        "        + Ms_2 * u_2\n",
        "    u = torch.cat((eu_0, eu_1, eu_2), dim=2)\n",
        "\n",
        "    # Reduce it from transaction level to individual level\n",
        "    utils = torch.matmul(u.transpose(1,2), nid_matrix.t()).transpose(1,2)\n",
        "    return utils\n",
        "\n",
        "# Take parameter of the model for the second stage, computes the usage probability in second stage\n",
        "# and the expeted utility from usage in second stage.\n",
        "def compute_avg_prob_util(mu, sd, alpha_ca, alpha_dc, alpha_cc, accept_0, accept_1, accept_2, draws):\n",
        "    beta = draws * torch.exp(sd) * beta_mask + mu\n",
        "    delta_ca = (beta * X_ca).sum(2, keepdim=True) + (Zbj * alpha_ca).sum(1, keepdim=True)\n",
        "    delta_dc = (beta * X_dc).sum(2, keepdim=True) + (Zbj * alpha_dc).sum(1, keepdim=True)\n",
        "    delta_cc = (beta * X_cc).sum(2, keepdim=True) + (Zbj * alpha_cc).sum(1, keepdim=True)\n",
        "    avg_choice = stage2_choice(delta_ca, delta_dc, delta_cc, accept_0, accept_1, accept_2).mean(0)\n",
        "    avg_util = stage2_bundle_emax(delta_ca, delta_dc, delta_cc, accept_0, accept_1, accept_2).mean(0)\n",
        "    return avg_choice, avg_util\n",
        "\n",
        "# Used to compute standard errors. Takes the exponent of logsd.\n",
        "def compute_avg_prob_util_noexp(mu, expsd, alpha_ca, alpha_dc, alpha_cc, accept_0, accept_1, accept_2, draws):\n",
        "    beta = draws * expsd * beta_mask + mu\n",
        "    delta_ca = (beta * X_ca).sum(2, keepdim=True) + (Zbj * alpha_ca).sum(1, keepdim=True)\n",
        "    delta_dc = (beta * X_dc).sum(2, keepdim=True) + (Zbj * alpha_dc).sum(1, keepdim=True)\n",
        "    delta_cc = (beta * X_cc).sum(2, keepdim=True) + (Zbj * alpha_cc).sum(1, keepdim=True)\n",
        "    avg_choice = stage2_choice(delta_ca, delta_dc, delta_cc, accept_0, accept_1, accept_2).mean(0)\n",
        "    avg_util = stage2_bundle_emax(delta_ca, delta_dc, delta_cc, accept_0, accept_1, accept_2).mean(0)\n",
        "    return avg_choice, avg_util\n",
        "\n",
        "# Calculates the s.e.of fobjective with respect to input\n",
        "def se_calc_finitediff(fobjective, inp, eps=1e-6):\n",
        "    grads = []\n",
        "    for i in range(len(inp)):\n",
        "        inpminus = inp.clone()\n",
        "        inpminus[i] = inpminus[i] - eps\n",
        "        objminus = fobjective(inpminus)\n",
        "\n",
        "        inpplus = inp.clone()\n",
        "        inpplus[i] = inpplus[i] + eps\n",
        "        objplus = fobjective(inpplus)\n",
        "        grads.append((objplus - objminus) / (2 * eps))\n",
        "    j = torch.stack(grads, 1)\n",
        "    return j.t().mm(j).inverse().diag().sqrt()\n",
        "\n",
        "# returns log-likelihood of second stage given prediction and data\n",
        "def stage2_loglik(choice_prob, observed_outcome):\n",
        "    return -torch.log(torch.pow(choice_prob, observed_outcome)).sum(1)\n",
        "\n",
        "# returns log-likelihood of first stage given prediction and data\n",
        "def stage1_loglik(F, gamma, util, BDi):\n",
        "    fixed_cost = torch.cat((zero, F))\n",
        "    variable_cost = torch.cat((torch.zeros_like(cs), CSb * gamma), 1)\n",
        "    util_after_cost = util + fixed_cost + variable_cost\n",
        "    likelihood = torch.nn.functional.softmax(util_after_cost, dim=1)\n",
        "    return -torch.log(torch.pow(likelihood, BDi)).sum(1)\n",
        "\n",
        "# read param from a file\n",
        "def get_params_from(filename):\n",
        "    p = np.load(output_folder + filename, allow_pickle=True).item()\n",
        "    mu = torch.tensor(p['beta'], dtype=dtype, device=device, requires_grad=True)\n",
        "    if 'sd' in p.keys():\n",
        "        sd = torch.tensor(p['sd'], dtype=dtype, device=device, requires_grad=True)\n",
        "    else:\n",
        "        sd = torch.zeros(X_ca.shape[1], dtype=dtype, device=device, requires_grad=True)\n",
        "    alpha_ca = torch.tensor(p['alpha_ca'], dtype=dtype, device=device, requires_grad=True)\n",
        "    alpha_dc = torch.tensor(p['alpha_dc'], dtype=dtype, device=device, requires_grad=True)\n",
        "    alpha_cc = torch.tensor(p['alpha_cc'], dtype=dtype, device=device, requires_grad=True)\n",
        "    F = torch.tensor(p['F'], dtype=dtype, device=device, requires_grad=True)\n",
        "    if 'gamma' in p.keys():\n",
        "        gamma = torch.tensor(p['gamma'], dtype=dtype, device=device, requires_grad=True)\n",
        "    else:\n",
        "        gamma = torch.zeros(CSb.shape[1], 1, dtype=dtype, device=device, requires_grad=True)\n",
        "    draws = torch.tensor(p['draws'], dtype=dtype, device=device, requires_grad=True)\n",
        "    ll = torch.tensor(p['ll'], dtype=dtype, device=device, requires_grad=True)\n",
        "    return mu, sd, alpha_ca, alpha_dc, alpha_cc, F, gamma, draws, ll\n",
        "\n",
        "# save param except standard error to a file\n",
        "def save_param_nose_to(filename, mu, sd, alpha_ca, alpha_dc, alpha_cc, F, gamma, draws, l):\n",
        "    np.save(output_folder + filename, {\n",
        "      'beta': mu.detach().cpu().numpy(),\n",
        "      'sd': sd.detach().cpu().numpy(),\n",
        "      'alpha_ca': alpha_ca.detach().cpu().numpy(),\n",
        "      'alpha_dc': alpha_dc.detach().cpu().numpy(),\n",
        "      'alpha_cc': alpha_cc.detach().cpu().numpy(),\n",
        "      'F': F.detach().cpu().numpy(),\n",
        "      'gamma': gamma.detach().cpu().numpy(),\n",
        "      'draws': draws.detach().cpu().numpy(),\n",
        "      'll': l.detach().cpu().numpy(),\n",
        "    })\n",
        "\n",
        "# save all param to a file\n",
        "def save_param_to(filename, mu, sd, alpha_ca, alpha_dc, alpha_cc, F, gamma, mu_se, sd_se, alpha_dc_se, alpha_cc_se, F_se, gamma_se, draws, ll):\n",
        "    np.save(output_folder + filename, {\n",
        "      'beta': mu.detach().cpu().numpy(),\n",
        "      'sd': sd.detach().cpu().numpy(),\n",
        "      'alpha_ca': alpha_ca.detach().cpu().numpy(),\n",
        "      'alpha_dc': alpha_dc.detach().cpu().numpy(),\n",
        "      'alpha_cc': alpha_cc.detach().cpu().numpy(),\n",
        "      'F': F.detach().cpu().numpy(),\n",
        "      'gamma': gamma.detach().cpu().numpy(),\n",
        "      'draws': draws.detach().cpu().numpy(),\n",
        "      'beta_se': mu_se.detach().cpu().numpy(),\n",
        "      'sd_se': sd_se.detach().cpu().numpy(),\n",
        "      'alpha_dc_se': alpha_dc_se.detach().cpu().numpy(),\n",
        "      'alpha_cc_se': alpha_cc_se.detach().cpu().numpy(),\n",
        "      'F_se': F_se.detach().cpu().numpy(),\n",
        "      'gamma_se': gamma_se.detach().cpu().numpy(),\n",
        "      'll': ll.detach().cpu().numpy(),\n",
        "    })\n",
        "\n",
        "# Some packaged functions given only one parameter, used to calculate the standard error\n",
        "def ll2mu(mu1):\n",
        "    avg_choice, avg_util = compute_avg_prob_util(mu1, sd,\n",
        "                        alpha_ca, alpha_dc, alpha_cc,\n",
        "                        Ms_0, Ms_1, Ms_2, draws)\n",
        "    return stage2_loglik(avg_choice, di)\n",
        "\n",
        "def ll2sd(sd):\n",
        "    sd1 = torch.tensor([0, sd[0], sd[1], 0, sd[2]], dtype=dtype, requires_grad=True, device=device)\n",
        "    avg_choice, avg_util = compute_avg_prob_util_noexp(mu, sd1,\n",
        "                        alpha_ca, alpha_dc, alpha_cc,\n",
        "                        Ms_0, Ms_1, Ms_2, draws)\n",
        "    return stage2_loglik(avg_choice, di)\n",
        "\n",
        "def ll2dc(alpha_dc1):\n",
        "    avg_choice, avg_util = compute_avg_prob_util(mu, sd,\n",
        "                        alpha_ca, alpha_dc1, alpha_cc,\n",
        "                        Ms_0, Ms_1, Ms_2, draws)\n",
        "    return stage2_loglik(avg_choice, di)\n",
        "\n",
        "def ll2cc(alpha_cc1):\n",
        "    avg_choice, avg_util = compute_avg_prob_util(mu, sd,\n",
        "                        alpha_ca, alpha_dc, alpha_cc1,\n",
        "                        Ms_0, Ms_1, Ms_2, draws)\n",
        "    return stage2_loglik(avg_choice, di)\n",
        "\n",
        "def ll1F(F1):\n",
        "    avg_choice, avg_util = compute_avg_prob_util(mu, sd,\n",
        "                        alpha_ca, alpha_dc, alpha_cc,\n",
        "                        Ms_0, Ms_1, Ms_2, draws)\n",
        "    return stage1_loglik(F1, gamma, avg_util, BDi)\n",
        "\n",
        "def ll1betaF(gamma1):\n",
        "    avg_choice, avg_util = compute_avg_prob_util(mu, sd,\n",
        "                        alpha_ca, alpha_dc, alpha_cc,\n",
        "                        Ms_0, Ms_1, Ms_2, draws)\n",
        "    return stage1_loglik(F, gamma1, avg_util, BDi)"
      ]
    },
    {
      "cell_type": "code",
      "execution_count": 9,
      "metadata": {
        "id": "ZhQOvTpalnI3"
      },
      "outputs": [],
      "source": [
        "# Fits the model given optimizer and LR scheduler\n",
        "def fit(optimizer, scheduler, mu, sd, alpha_ca, alpha_dc, alpha_cc, F, gamma, draws):\n",
        "    ls = []\n",
        "    for i in range(opt['iter']):\n",
        "        optimizer.zero_grad()\n",
        "        avg_choice, avg_util = compute_avg_prob_util(mu, sd,\n",
        "                            alpha_ca, alpha_dc, alpha_cc,\n",
        "                            Ms_0, Ms_1, Ms_2, draws)\n",
        "        l = torch.sum(stage2_loglik(avg_choice, di)) + torch.sum(stage1_loglik(F, gamma, avg_util, BDi))\n",
        "        ls.append(float(l))\n",
        "        l.backward()\n",
        "        optimizer.step()\n",
        "        scheduler.step(l)\n",
        "        if (i+1) % (500) == 0:\n",
        "            print('------------------------------------------------------')\n",
        "            print(\"LL\", l.detach().cpu().numpy().round(4))\n",
        "            print(\"Mu\", mu.detach().cpu().numpy().round(4))\n",
        "            print(\"SD\", torch.exp(sd).detach().cpu().numpy().round(4))\n",
        "            print(\"F\", F.detach().cpu().numpy().round(4))\n",
        "            print(\"beta F\", gamma.detach().cpu().numpy().round(4))\n",
        "            print('------------------------------------------------------')\n",
        "            print()\n",
        "        if scheduler.optimizer.param_groups[0]['lr'] < 1e-7:\n",
        "            print('Converged')\n",
        "            break\n",
        "        if torch.isnan(l):\n",
        "            print('NAN')\n",
        "            break\n",
        "\n",
        "    print(\"Joint LL: {:.3f}\".format(l))\n",
        "    plt.plot(ls)\n",
        "    plt.show()\n",
        "    return l"
      ]
    },
    {
      "cell_type": "markdown",
      "metadata": {
        "id": "MoiOZQ4ylnI3"
      },
      "source": [
        "# Estimation (if NaN just restart)"
      ]
    },
    {
      "cell_type": "markdown",
      "metadata": {
        "id": "05VLsvkClnI3"
      },
      "source": [
        "## Spec 1 Conditional Logit"
      ]
    },
    {
      "cell_type": "code",
      "execution_count": 15,
      "metadata": {
        "id": "srkvaH72lnI3"
      },
      "outputs": [],
      "source": [
        "opt = {'iter': 10000, 'lr': 0.001, 'amsgrad': True}"
      ]
    },
    {
      "cell_type": "code",
      "execution_count": 16,
      "metadata": {
        "id": "gg-iuIEelnI3"
      },
      "outputs": [],
      "source": [
        "draws = torch.zeros(1, nid.unique().shape[0], X_ca.shape[1], dtype=dtype, device=device)[:, nid_index, :]"
      ]
    },
    {
      "cell_type": "code",
      "execution_count": 17,
      "metadata": {
        "colab": {
          "base_uri": "https://localhost:8080/",
          "height": 751
        },
        "id": "-FDsKl-qlnI4",
        "outputId": "3716e13b-16f5-47f1-f3da-d169442575a0"
      },
      "outputs": [
        {
          "output_type": "stream",
          "name": "stdout",
          "text": [
            "------------------------------------------------------\n",
            "LL inf\n",
            "Mu [ 1.2835 -0.3402  1.466   0.6952 -0.8931]\n",
            "SD [1. 1. 1. 1. 1.]\n",
            "F [-0.866   0.8345]\n",
            "beta F [0. 0.]\n",
            "------------------------------------------------------\n",
            "\n",
            "------------------------------------------------------\n",
            "LL inf\n",
            "Mu [ 1.2871 -0.3345  1.4716  0.6909 -0.8986]\n",
            "SD [1. 1. 1. 1. 1.]\n",
            "F [-0.8721  0.8282]\n",
            "beta F [0. 0.]\n",
            "------------------------------------------------------\n",
            "\n",
            "Converged\n",
            "Joint LL: inf\n"
          ]
        },
        {
          "output_type": "display_data",
          "data": {
            "text/plain": [
              "<Figure size 640x480 with 1 Axes>"
            ],
            "image/png": "[encoded data removed]"
          },
          "metadata": {}
        }
      ],
      "source": [
        "# no sd, no gamma\n",
        "mu = torch.randn(X_ca.shape[1], dtype=dtype, requires_grad=True, device=device)\n",
        "sd = torch.zeros(X_ca.shape[1], dtype=dtype, requires_grad=False, device=device)\n",
        "alpha_ca = torch.zeros(Zbj.shape[1], dtype=dtype, requires_grad=False, device=device)\n",
        "alpha_dc = torch.randn(Zbj.shape[1], dtype=dtype, requires_grad=True, device=device)\n",
        "alpha_cc = torch.randn(Zbj.shape[1], dtype=dtype, requires_grad=True, device=device)\n",
        "F = torch.randn(CSb.shape[1], dtype=dtype, requires_grad=True, device=device)\n",
        "gamma = torch.zeros(CSb.shape[1], dtype=dtype, requires_grad=False, device=device)\n",
        "\n",
        "optimizer = optim.Adam([mu, alpha_dc, alpha_cc, F], opt['lr'])\n",
        "scheduler = optim.lr_scheduler.ReduceLROnPlateau(optimizer, factor=0.5, patience=100, threshold=1e-8, threshold_mode='abs')\n",
        "l = fit(optimizer, scheduler, mu, sd, alpha_ca, alpha_dc, alpha_cc, F, gamma, draws)\n",
        "\n",
        "save_param_nose_to('spec1_asc', mu, sd, alpha_ca, alpha_dc, alpha_cc, F, gamma, draws, l)"
      ]
    },
    {
      "cell_type": "code",
      "execution_count": 18,
      "metadata": {
        "id": "-ekWooV8lnI4"
      },
      "outputs": [],
      "source": [
        "# Run this on CPU with a lot of memory\n",
        "mu, sd, alpha_ca, alpha_dc, alpha_cc, F, gamma, draws, l = get_params_from('spec1_asc.npy')\n",
        "mu_se = se_calc_finitediff(ll2mu, mu, eps=1e-12)\n",
        "sd_se = torch.tensor([0, 0, 0, 0, 0])\n",
        "alpha_dc_se = se_calc_finitediff(ll2dc, alpha_dc, eps=1e-12)\n",
        "alpha_cc_se = se_calc_finitediff(ll2cc, alpha_cc, eps=1e-12)\n",
        "F_se = se_calc_finitediff(ll1F, F, eps=1e-12)\n",
        "gamma_se = se_calc_finitediff(ll1betaF, gamma, eps=1e-12)\n",
        "save_param_to('spec1_asc', mu, sd, alpha_ca, alpha_dc, alpha_cc, F, gamma, mu_se, sd_se, alpha_dc_se, alpha_cc_se, F_se, gamma_se, draws, l)"
      ]
    },
    {
      "cell_type": "markdown",
      "metadata": {
        "id": "f2bE6Wk_lnI4"
      },
      "source": [
        "## Spec 2 Mix"
      ]
    },
    {
      "cell_type": "code",
      "execution_count": 22,
      "metadata": {
        "id": "a7Gh4tNUlnI4"
      },
      "outputs": [],
      "source": [
        "opt = {'iter': 10000, 'lr': 0.1, 'num_sample':100, 'amsgrad': True}"
      ]
    },
    {
      "cell_type": "code",
      "execution_count": 23,
      "metadata": {
        "id": "Rg0IOWs0lnI4"
      },
      "outputs": [],
      "source": [
        "base_dist = chaospy.Normal(0,1)\n",
        "dist = chaospy.Iid(base_dist, X_ca.shape[1])\n",
        "samples = chaospy.distributions.sampler.sequences.hammersley.create_hammersley_samples(order=opt['num_sample']*nid.unique().shape[0], dim=X_ca.shape[1], burnin=-1)\n",
        "draws = torch.tensor(dist.inv(samples).T.reshape(opt['num_sample'], nid.unique().shape[0], X_ca.shape[1]), dtype=dtype, device=device)[:, nid_index, :]"
      ]
    },
    {
      "cell_type": "code",
      "execution_count": 24,
      "metadata": {
        "scrolled": true,
        "colab": {
          "base_uri": "https://localhost:8080/",
          "height": 425
        },
        "id": "l9dk86x7lnI4",
        "outputId": "4524d99c-ec9c-4e34-bcff-d0645bba10c9"
      },
      "outputs": [
        {
          "output_type": "error",
          "ename": "KeyboardInterrupt",
          "evalue": "ignored",
          "traceback": [
            "\u001b[0;31m---------------------------------------------------------------------------\u001b[0m",
            "\u001b[0;31mKeyboardInterrupt\u001b[0m                         Traceback (most recent call last)",
            "\u001b[0;32m<ipython-input-24-852a3fbd6d8f>\u001b[0m in \u001b[0;36m<cell line: 12>\u001b[0;34m()\u001b[0m\n\u001b[1;32m     10\u001b[0m \u001b[0moptimizer\u001b[0m \u001b[0;34m=\u001b[0m \u001b[0moptim\u001b[0m\u001b[0;34m.\u001b[0m\u001b[0mAdam\u001b[0m\u001b[0;34m(\u001b[0m\u001b[0;34m[\u001b[0m\u001b[0mmu\u001b[0m\u001b[0;34m,\u001b[0m \u001b[0msd\u001b[0m\u001b[0;34m,\u001b[0m \u001b[0malpha_dc\u001b[0m\u001b[0;34m,\u001b[0m \u001b[0malpha_cc\u001b[0m\u001b[0;34m,\u001b[0m \u001b[0mF\u001b[0m\u001b[0;34m]\u001b[0m\u001b[0;34m,\u001b[0m \u001b[0mopt\u001b[0m\u001b[0;34m[\u001b[0m\u001b[0;34m'lr'\u001b[0m\u001b[0;34m]\u001b[0m\u001b[0;34m)\u001b[0m\u001b[0;34m\u001b[0m\u001b[0;34m\u001b[0m\u001b[0m\n\u001b[1;32m     11\u001b[0m \u001b[0mscheduler\u001b[0m \u001b[0;34m=\u001b[0m \u001b[0moptim\u001b[0m\u001b[0;34m.\u001b[0m\u001b[0mlr_scheduler\u001b[0m\u001b[0;34m.\u001b[0m\u001b[0mReduceLROnPlateau\u001b[0m\u001b[0;34m(\u001b[0m\u001b[0moptimizer\u001b[0m\u001b[0;34m,\u001b[0m \u001b[0mfactor\u001b[0m\u001b[0;34m=\u001b[0m\u001b[0;36m0.5\u001b[0m\u001b[0;34m,\u001b[0m \u001b[0mpatience\u001b[0m\u001b[0;34m=\u001b[0m\u001b[0;36m100\u001b[0m\u001b[0;34m,\u001b[0m \u001b[0mthreshold\u001b[0m\u001b[0;34m=\u001b[0m\u001b[0;36m1e-8\u001b[0m\u001b[0;34m,\u001b[0m \u001b[0mthreshold_mode\u001b[0m\u001b[0;34m=\u001b[0m\u001b[0;34m'abs'\u001b[0m\u001b[0;34m)\u001b[0m\u001b[0;34m\u001b[0m\u001b[0;34m\u001b[0m\u001b[0m\n\u001b[0;32m---> 12\u001b[0;31m \u001b[0ml\u001b[0m \u001b[0;34m=\u001b[0m \u001b[0mfit\u001b[0m\u001b[0;34m(\u001b[0m\u001b[0moptimizer\u001b[0m\u001b[0;34m,\u001b[0m \u001b[0mscheduler\u001b[0m\u001b[0;34m,\u001b[0m \u001b[0mmu\u001b[0m\u001b[0;34m,\u001b[0m \u001b[0msd\u001b[0m\u001b[0;34m,\u001b[0m \u001b[0malpha_ca\u001b[0m\u001b[0;34m,\u001b[0m \u001b[0malpha_dc\u001b[0m\u001b[0;34m,\u001b[0m \u001b[0malpha_cc\u001b[0m\u001b[0;34m,\u001b[0m \u001b[0mF\u001b[0m\u001b[0;34m,\u001b[0m \u001b[0mgamma\u001b[0m\u001b[0;34m,\u001b[0m \u001b[0mdraws\u001b[0m\u001b[0;34m)\u001b[0m\u001b[0;34m\u001b[0m\u001b[0;34m\u001b[0m\u001b[0m\n\u001b[0m\u001b[1;32m     13\u001b[0m \u001b[0;34m\u001b[0m\u001b[0m\n\u001b[1;32m     14\u001b[0m \u001b[0msave_param_nose_to\u001b[0m\u001b[0;34m(\u001b[0m\u001b[0;34m'spec2_mix'\u001b[0m\u001b[0;34m,\u001b[0m \u001b[0mmu\u001b[0m\u001b[0;34m,\u001b[0m \u001b[0msd\u001b[0m\u001b[0;34m,\u001b[0m \u001b[0malpha_ca\u001b[0m\u001b[0;34m,\u001b[0m \u001b[0malpha_dc\u001b[0m\u001b[0;34m,\u001b[0m \u001b[0malpha_cc\u001b[0m\u001b[0;34m,\u001b[0m \u001b[0mF\u001b[0m\u001b[0;34m,\u001b[0m \u001b[0mgamma\u001b[0m\u001b[0;34m,\u001b[0m \u001b[0mdraws\u001b[0m\u001b[0;34m,\u001b[0m \u001b[0ml\u001b[0m\u001b[0;34m)\u001b[0m\u001b[0;34m\u001b[0m\u001b[0;34m\u001b[0m\u001b[0m\n",
            "\u001b[0;32m<ipython-input-14-ddb0acfb5140>\u001b[0m in \u001b[0;36mfit\u001b[0;34m(optimizer, scheduler, mu, sd, alpha_ca, alpha_dc, alpha_cc, F, gamma, draws)\u001b[0m\n\u001b[1;32m      9\u001b[0m         \u001b[0ml\u001b[0m \u001b[0;34m=\u001b[0m \u001b[0mtorch\u001b[0m\u001b[0;34m.\u001b[0m\u001b[0msum\u001b[0m\u001b[0;34m(\u001b[0m\u001b[0mstage2_loglik\u001b[0m\u001b[0;34m(\u001b[0m\u001b[0mavg_choice\u001b[0m\u001b[0;34m,\u001b[0m \u001b[0mdi\u001b[0m\u001b[0;34m)\u001b[0m\u001b[0;34m)\u001b[0m \u001b[0;34m+\u001b[0m \u001b[0mtorch\u001b[0m\u001b[0;34m.\u001b[0m\u001b[0msum\u001b[0m\u001b[0;34m(\u001b[0m\u001b[0mstage1_loglik\u001b[0m\u001b[0;34m(\u001b[0m\u001b[0mF\u001b[0m\u001b[0;34m,\u001b[0m \u001b[0mgamma\u001b[0m\u001b[0;34m,\u001b[0m \u001b[0mavg_util\u001b[0m\u001b[0;34m,\u001b[0m \u001b[0mBDi\u001b[0m\u001b[0;34m)\u001b[0m\u001b[0;34m)\u001b[0m\u001b[0;34m\u001b[0m\u001b[0;34m\u001b[0m\u001b[0m\n\u001b[1;32m     10\u001b[0m         \u001b[0mls\u001b[0m\u001b[0;34m.\u001b[0m\u001b[0mappend\u001b[0m\u001b[0;34m(\u001b[0m\u001b[0mfloat\u001b[0m\u001b[0;34m(\u001b[0m\u001b[0ml\u001b[0m\u001b[0;34m)\u001b[0m\u001b[0;34m)\u001b[0m\u001b[0;34m\u001b[0m\u001b[0;34m\u001b[0m\u001b[0m\n\u001b[0;32m---> 11\u001b[0;31m         \u001b[0ml\u001b[0m\u001b[0;34m.\u001b[0m\u001b[0mbackward\u001b[0m\u001b[0;34m(\u001b[0m\u001b[0;34m)\u001b[0m\u001b[0;34m\u001b[0m\u001b[0;34m\u001b[0m\u001b[0m\n\u001b[0m\u001b[1;32m     12\u001b[0m         \u001b[0moptimizer\u001b[0m\u001b[0;34m.\u001b[0m\u001b[0mstep\u001b[0m\u001b[0;34m(\u001b[0m\u001b[0;34m)\u001b[0m\u001b[0;34m\u001b[0m\u001b[0;34m\u001b[0m\u001b[0m\n\u001b[1;32m     13\u001b[0m         \u001b[0mscheduler\u001b[0m\u001b[0;34m.\u001b[0m\u001b[0mstep\u001b[0m\u001b[0;34m(\u001b[0m\u001b[0ml\u001b[0m\u001b[0;34m)\u001b[0m\u001b[0;34m\u001b[0m\u001b[0;34m\u001b[0m\u001b[0m\n",
            "\u001b[0;32m/usr/local/lib/python3.10/dist-packages/torch/_tensor.py\u001b[0m in \u001b[0;36mbackward\u001b[0;34m(self, gradient, retain_graph, create_graph, inputs)\u001b[0m\n\u001b[1;32m    485\u001b[0m                 \u001b[0minputs\u001b[0m\u001b[0;34m=\u001b[0m\u001b[0minputs\u001b[0m\u001b[0;34m,\u001b[0m\u001b[0;34m\u001b[0m\u001b[0;34m\u001b[0m\u001b[0m\n\u001b[1;32m    486\u001b[0m             )\n\u001b[0;32m--> 487\u001b[0;31m         torch.autograd.backward(\n\u001b[0m\u001b[1;32m    488\u001b[0m             \u001b[0mself\u001b[0m\u001b[0;34m,\u001b[0m \u001b[0mgradient\u001b[0m\u001b[0;34m,\u001b[0m \u001b[0mretain_graph\u001b[0m\u001b[0;34m,\u001b[0m \u001b[0mcreate_graph\u001b[0m\u001b[0;34m,\u001b[0m \u001b[0minputs\u001b[0m\u001b[0;34m=\u001b[0m\u001b[0minputs\u001b[0m\u001b[0;34m\u001b[0m\u001b[0;34m\u001b[0m\u001b[0m\n\u001b[1;32m    489\u001b[0m         )\n",
            "\u001b[0;32m/usr/local/lib/python3.10/dist-packages/torch/autograd/__init__.py\u001b[0m in \u001b[0;36mbackward\u001b[0;34m(tensors, grad_tensors, retain_graph, create_graph, grad_variables, inputs)\u001b[0m\n\u001b[1;32m    198\u001b[0m     \u001b[0;31m# some Python versions print out the first line of a multi-line function\u001b[0m\u001b[0;34m\u001b[0m\u001b[0;34m\u001b[0m\u001b[0m\n\u001b[1;32m    199\u001b[0m     \u001b[0;31m# calls in the traceback and some print out the last line\u001b[0m\u001b[0;34m\u001b[0m\u001b[0;34m\u001b[0m\u001b[0m\n\u001b[0;32m--> 200\u001b[0;31m     Variable._execution_engine.run_backward(  # Calls into the C++ engine to run the backward pass\n\u001b[0m\u001b[1;32m    201\u001b[0m         \u001b[0mtensors\u001b[0m\u001b[0;34m,\u001b[0m \u001b[0mgrad_tensors_\u001b[0m\u001b[0;34m,\u001b[0m \u001b[0mretain_graph\u001b[0m\u001b[0;34m,\u001b[0m \u001b[0mcreate_graph\u001b[0m\u001b[0;34m,\u001b[0m \u001b[0minputs\u001b[0m\u001b[0;34m,\u001b[0m\u001b[0;34m\u001b[0m\u001b[0;34m\u001b[0m\u001b[0m\n\u001b[1;32m    202\u001b[0m         allow_unreachable=True, accumulate_grad=True)  # Calls into the C++ engine to run the backward pass\n",
            "\u001b[0;31mKeyboardInterrupt\u001b[0m: "
          ]
        }
      ],
      "source": [
        "# no gamma\n",
        "mu = torch.randn(X_ca.shape[1], dtype=dtype, requires_grad=True, device=device)\n",
        "sd = torch.randn(X_ca.shape[1], dtype=dtype, requires_grad=True, device=device)\n",
        "alpha_ca = torch.zeros(Zbj.shape[1], dtype=dtype, requires_grad=False, device=device)\n",
        "alpha_dc = torch.randn(Zbj.shape[1], dtype=dtype, requires_grad=True, device=device)\n",
        "alpha_cc = torch.randn(Zbj.shape[1], dtype=dtype, requires_grad=True, device=device)\n",
        "F = torch.randn(2, dtype=dtype, requires_grad=True, device=device)\n",
        "gamma = torch.zeros(CSb.shape[1], dtype=dtype, requires_grad=False, device=device)\n",
        "\n",
        "optimizer = optim.Adam([mu, sd, alpha_dc, alpha_cc, F], opt['lr'])\n",
        "scheduler = optim.lr_scheduler.ReduceLROnPlateau(optimizer, factor=0.5, patience=100, threshold=1e-8, threshold_mode='abs')\n",
        "l = fit(optimizer, scheduler, mu, sd, alpha_ca, alpha_dc, alpha_cc, F, gamma, draws)\n",
        "\n",
        "save_param_nose_to('spec2_mix', mu, sd, alpha_ca, alpha_dc, alpha_cc, F, gamma, draws, l)"
      ]
    },
    {
      "cell_type": "code",
      "execution_count": 25,
      "metadata": {
        "id": "piTBC9yqlnI4",
        "colab": {
          "base_uri": "https://localhost:8080/",
          "height": 389
        },
        "outputId": "951a8198-c795-4486-de59-01d390fa75b7"
      },
      "outputs": [
        {
          "output_type": "error",
          "ename": "FileNotFoundError",
          "evalue": "ignored",
          "traceback": [
            "\u001b[0;31m---------------------------------------------------------------------------\u001b[0m",
            "\u001b[0;31mFileNotFoundError\u001b[0m                         Traceback (most recent call last)",
            "\u001b[0;32m<ipython-input-25-af9a76c16ab7>\u001b[0m in \u001b[0;36m<cell line: 2>\u001b[0;34m()\u001b[0m\n\u001b[1;32m      1\u001b[0m \u001b[0;31m# Run this on CPU with a lot of memory\u001b[0m\u001b[0;34m\u001b[0m\u001b[0;34m\u001b[0m\u001b[0m\n\u001b[0;32m----> 2\u001b[0;31m \u001b[0mmu\u001b[0m\u001b[0;34m,\u001b[0m \u001b[0msd\u001b[0m\u001b[0;34m,\u001b[0m \u001b[0malpha_ca\u001b[0m\u001b[0;34m,\u001b[0m \u001b[0malpha_dc\u001b[0m\u001b[0;34m,\u001b[0m \u001b[0malpha_cc\u001b[0m\u001b[0;34m,\u001b[0m \u001b[0mF\u001b[0m\u001b[0;34m,\u001b[0m \u001b[0mgamma\u001b[0m\u001b[0;34m,\u001b[0m \u001b[0mdraws\u001b[0m\u001b[0;34m,\u001b[0m \u001b[0ml\u001b[0m \u001b[0;34m=\u001b[0m \u001b[0mget_params_from\u001b[0m\u001b[0;34m(\u001b[0m\u001b[0;34m'spec2_mix.npy'\u001b[0m\u001b[0;34m)\u001b[0m\u001b[0;34m\u001b[0m\u001b[0;34m\u001b[0m\u001b[0m\n\u001b[0m\u001b[1;32m      3\u001b[0m \u001b[0mmu_se\u001b[0m \u001b[0;34m=\u001b[0m \u001b[0mse_calc_finitediff\u001b[0m\u001b[0;34m(\u001b[0m\u001b[0mll2mu\u001b[0m\u001b[0;34m,\u001b[0m \u001b[0mmu\u001b[0m\u001b[0;34m,\u001b[0m \u001b[0meps\u001b[0m\u001b[0;34m=\u001b[0m\u001b[0;36m1e-12\u001b[0m\u001b[0;34m)\u001b[0m\u001b[0;34m\u001b[0m\u001b[0;34m\u001b[0m\u001b[0m\n\u001b[1;32m      4\u001b[0m \u001b[0msd_se\u001b[0m \u001b[0;34m=\u001b[0m \u001b[0mse_calc_finitediff\u001b[0m\u001b[0;34m(\u001b[0m\u001b[0mll2sd\u001b[0m\u001b[0;34m,\u001b[0m \u001b[0mtorch\u001b[0m\u001b[0;34m.\u001b[0m\u001b[0mexp\u001b[0m\u001b[0;34m(\u001b[0m\u001b[0msd\u001b[0m\u001b[0;34m[\u001b[0m\u001b[0;34m[\u001b[0m\u001b[0;36m1\u001b[0m\u001b[0;34m,\u001b[0m\u001b[0;36m2\u001b[0m\u001b[0;34m,\u001b[0m\u001b[0;36m4\u001b[0m\u001b[0;34m]\u001b[0m\u001b[0;34m]\u001b[0m\u001b[0;34m)\u001b[0m\u001b[0;34m,\u001b[0m \u001b[0meps\u001b[0m\u001b[0;34m=\u001b[0m\u001b[0;36m1e-12\u001b[0m\u001b[0;34m)\u001b[0m\u001b[0;34m\u001b[0m\u001b[0;34m\u001b[0m\u001b[0m\n\u001b[1;32m      5\u001b[0m \u001b[0msd_se\u001b[0m \u001b[0;34m=\u001b[0m \u001b[0mtorch\u001b[0m\u001b[0;34m.\u001b[0m\u001b[0mtensor\u001b[0m\u001b[0;34m(\u001b[0m\u001b[0;34m[\u001b[0m\u001b[0;36m0\u001b[0m\u001b[0;34m,\u001b[0m \u001b[0msd_se\u001b[0m\u001b[0;34m[\u001b[0m\u001b[0;36m0\u001b[0m\u001b[0;34m]\u001b[0m\u001b[0;34m,\u001b[0m \u001b[0msd_se\u001b[0m\u001b[0;34m[\u001b[0m\u001b[0;36m1\u001b[0m\u001b[0;34m]\u001b[0m\u001b[0;34m,\u001b[0m \u001b[0;36m0\u001b[0m\u001b[0;34m,\u001b[0m \u001b[0msd_se\u001b[0m\u001b[0;34m[\u001b[0m\u001b[0;36m2\u001b[0m\u001b[0;34m]\u001b[0m\u001b[0;34m]\u001b[0m\u001b[0;34m)\u001b[0m\u001b[0;34m\u001b[0m\u001b[0;34m\u001b[0m\u001b[0m\n",
            "\u001b[0;32m<ipython-input-13-b18a7eaceb6e>\u001b[0m in \u001b[0;36mget_params_from\u001b[0;34m(filename)\u001b[0m\n\u001b[1;32m     99\u001b[0m \u001b[0;31m# read param from a file\u001b[0m\u001b[0;34m\u001b[0m\u001b[0;34m\u001b[0m\u001b[0m\n\u001b[1;32m    100\u001b[0m \u001b[0;32mdef\u001b[0m \u001b[0mget_params_from\u001b[0m\u001b[0;34m(\u001b[0m\u001b[0mfilename\u001b[0m\u001b[0;34m)\u001b[0m\u001b[0;34m:\u001b[0m\u001b[0;34m\u001b[0m\u001b[0;34m\u001b[0m\u001b[0m\n\u001b[0;32m--> 101\u001b[0;31m     \u001b[0mp\u001b[0m \u001b[0;34m=\u001b[0m \u001b[0mnp\u001b[0m\u001b[0;34m.\u001b[0m\u001b[0mload\u001b[0m\u001b[0;34m(\u001b[0m\u001b[0moutput_folder\u001b[0m \u001b[0;34m+\u001b[0m \u001b[0mfilename\u001b[0m\u001b[0;34m,\u001b[0m \u001b[0mallow_pickle\u001b[0m\u001b[0;34m=\u001b[0m\u001b[0;32mTrue\u001b[0m\u001b[0;34m)\u001b[0m\u001b[0;34m.\u001b[0m\u001b[0mitem\u001b[0m\u001b[0;34m(\u001b[0m\u001b[0;34m)\u001b[0m\u001b[0;34m\u001b[0m\u001b[0;34m\u001b[0m\u001b[0m\n\u001b[0m\u001b[1;32m    102\u001b[0m     \u001b[0mmu\u001b[0m \u001b[0;34m=\u001b[0m \u001b[0mtorch\u001b[0m\u001b[0;34m.\u001b[0m\u001b[0mtensor\u001b[0m\u001b[0;34m(\u001b[0m\u001b[0mp\u001b[0m\u001b[0;34m[\u001b[0m\u001b[0;34m'beta'\u001b[0m\u001b[0;34m]\u001b[0m\u001b[0;34m,\u001b[0m \u001b[0mdtype\u001b[0m\u001b[0;34m=\u001b[0m\u001b[0mdtype\u001b[0m\u001b[0;34m,\u001b[0m \u001b[0mdevice\u001b[0m\u001b[0;34m=\u001b[0m\u001b[0mdevice\u001b[0m\u001b[0;34m,\u001b[0m \u001b[0mrequires_grad\u001b[0m\u001b[0;34m=\u001b[0m\u001b[0;32mTrue\u001b[0m\u001b[0;34m)\u001b[0m\u001b[0;34m\u001b[0m\u001b[0;34m\u001b[0m\u001b[0m\n\u001b[1;32m    103\u001b[0m     \u001b[0;32mif\u001b[0m \u001b[0;34m'sd'\u001b[0m \u001b[0;32min\u001b[0m \u001b[0mp\u001b[0m\u001b[0;34m.\u001b[0m\u001b[0mkeys\u001b[0m\u001b[0;34m(\u001b[0m\u001b[0;34m)\u001b[0m\u001b[0;34m:\u001b[0m\u001b[0;34m\u001b[0m\u001b[0;34m\u001b[0m\u001b[0m\n",
            "\u001b[0;32m/usr/local/lib/python3.10/dist-packages/numpy/lib/npyio.py\u001b[0m in \u001b[0;36mload\u001b[0;34m(file, mmap_mode, allow_pickle, fix_imports, encoding)\u001b[0m\n\u001b[1;32m    405\u001b[0m             \u001b[0mown_fid\u001b[0m \u001b[0;34m=\u001b[0m \u001b[0;32mFalse\u001b[0m\u001b[0;34m\u001b[0m\u001b[0;34m\u001b[0m\u001b[0m\n\u001b[1;32m    406\u001b[0m         \u001b[0;32melse\u001b[0m\u001b[0;34m:\u001b[0m\u001b[0;34m\u001b[0m\u001b[0;34m\u001b[0m\u001b[0m\n\u001b[0;32m--> 407\u001b[0;31m             \u001b[0mfid\u001b[0m \u001b[0;34m=\u001b[0m \u001b[0mstack\u001b[0m\u001b[0;34m.\u001b[0m\u001b[0menter_context\u001b[0m\u001b[0;34m(\u001b[0m\u001b[0mopen\u001b[0m\u001b[0;34m(\u001b[0m\u001b[0mos_fspath\u001b[0m\u001b[0;34m(\u001b[0m\u001b[0mfile\u001b[0m\u001b[0;34m)\u001b[0m\u001b[0;34m,\u001b[0m \u001b[0;34m\"rb\"\u001b[0m\u001b[0;34m)\u001b[0m\u001b[0;34m)\u001b[0m\u001b[0;34m\u001b[0m\u001b[0;34m\u001b[0m\u001b[0m\n\u001b[0m\u001b[1;32m    408\u001b[0m             \u001b[0mown_fid\u001b[0m \u001b[0;34m=\u001b[0m \u001b[0;32mTrue\u001b[0m\u001b[0;34m\u001b[0m\u001b[0;34m\u001b[0m\u001b[0m\n\u001b[1;32m    409\u001b[0m \u001b[0;34m\u001b[0m\u001b[0m\n",
            "\u001b[0;31mFileNotFoundError\u001b[0m: [Errno 2] No such file or directory: './output/params/notef/spec2_mix.npy'"
          ]
        }
      ],
      "source": [
        "# Run this on CPU with a lot of memory\n",
        "mu, sd, alpha_ca, alpha_dc, alpha_cc, F, gamma, draws, l = get_params_from('spec2_mix.npy')\n",
        "mu_se = se_calc_finitediff(ll2mu, mu, eps=1e-12)\n",
        "sd_se = se_calc_finitediff(ll2sd, torch.exp(sd[[1,2,4]]), eps=1e-12)\n",
        "sd_se = torch.tensor([0, sd_se[0], sd_se[1], 0, sd_se[2]])\n",
        "alpha_dc_se = se_calc_finitediff(ll2dc, alpha_dc, eps=1e-12)\n",
        "alpha_cc_se = se_calc_finitediff(ll2cc, alpha_cc, eps=1e-12)\n",
        "F_se = se_calc_finitediff(ll1F, F, eps=1e-12)\n",
        "gamma_se = se_calc_finitediff(ll1betaF, gamma, eps=1e-12)\n",
        "save_param_to('spec2_mix', mu, sd, alpha_ca, alpha_dc, alpha_cc, F, gamma, mu_se, sd_se, alpha_dc_se, alpha_cc_se, F_se, gamma_se, draws, l)"
      ]
    },
    {
      "cell_type": "markdown",
      "metadata": {
        "id": "4wbm47cPlnI4"
      },
      "source": [
        "## Spec 3 Mix with credit score"
      ]
    },
    {
      "cell_type": "code",
      "execution_count": 26,
      "metadata": {
        "id": "Vv2Jtp_9lnI5"
      },
      "outputs": [],
      "source": [
        "opt = {'iter': 10000, 'lr': 0.1, 'num_sample':100, 'amsgrad': True}"
      ]
    },
    {
      "cell_type": "code",
      "execution_count": 27,
      "metadata": {
        "id": "aJVh_3o0lnI5"
      },
      "outputs": [],
      "source": [
        "# Draw Hammersley sequences\n",
        "base_dist = chaospy.Normal(0,1)\n",
        "dist = chaospy.Iid(base_dist, X_ca.shape[1])\n",
        "samples = chaospy.distributions.sampler.sequences.hammersley.create_hammersley_samples(order=opt['num_sample']*nid.unique().shape[0], dim=X_ca.shape[1], burnin=-1)\n",
        "draws = torch.tensor(dist.inv(samples).T.reshape(opt['num_sample'], nid.unique().shape[0], X_ca.shape[1]), dtype=dtype, device=device)[:, nid_index, :]"
      ]
    },
    {
      "cell_type": "code",
      "execution_count": 28,
      "metadata": {
        "scrolled": true,
        "id": "1QzGwZFylnI5",
        "colab": {
          "base_uri": "https://localhost:8080/",
          "height": 466
        },
        "outputId": "fea104bd-59e7-4452-dce7-c4c8ac96f847"
      },
      "outputs": [
        {
          "output_type": "stream",
          "name": "stdout",
          "text": [
            "NAN\n",
            "Joint LL: nan\n"
          ]
        },
        {
          "output_type": "display_data",
          "data": {
            "text/plain": [
              "<Figure size 640x480 with 1 Axes>"
            ],
            "image/png": "[encoded data removed]"
          },
          "metadata": {}
        }
      ],
      "source": [
        "mu = torch.randn(X_ca.shape[1], dtype=dtype, requires_grad=True, device=device)\n",
        "sd = torch.randn(X_ca.shape[1], dtype=dtype, requires_grad=True, device=device)\n",
        "alpha_ca = torch.zeros(Zbj.shape[1], dtype=dtype, requires_grad=False, device=device)\n",
        "alpha_dc = torch.randn(Zbj.shape[1], dtype=dtype, requires_grad=True, device=device)\n",
        "alpha_cc = torch.randn(Zbj.shape[1], dtype=dtype, requires_grad=True, device=device)\n",
        "F = torch.randn(2, dtype=dtype, requires_grad=True, device=device)\n",
        "gamma = torch.randn(CSb.shape[1], dtype=dtype, requires_grad=True, device=device)\n",
        "\n",
        "optimizer = optim.Adam([mu, sd, alpha_dc, alpha_cc, F, gamma], opt['lr'])\n",
        "scheduler = optim.lr_scheduler.ReduceLROnPlateau(optimizer, factor=0.5, patience=100, threshold=1e-8, threshold_mode='abs')\n",
        "l = fit(optimizer, scheduler, mu, sd, alpha_ca, alpha_dc, alpha_cc, F, gamma, draws)\n",
        "\n",
        "save_param_nose_to('spec3_mix_cs', mu, sd, alpha_ca, alpha_dc, alpha_cc, F, gamma, draws, l)"
      ]
    },
    {
      "cell_type": "code",
      "execution_count": 37,
      "metadata": {
        "colab": {
          "base_uri": "https://localhost:8080/",
          "height": 401
        },
        "id": "Gio7SuS3lnI5",
        "outputId": "18707975-de53-4d9b-cc8a-9c6321a90526"
      },
      "outputs": [
        {
          "output_type": "error",
          "ename": "OutOfMemoryError",
          "evalue": "ignored",
          "traceback": [
            "\u001b[0;31m---------------------------------------------------------------------------\u001b[0m",
            "\u001b[0;31mOutOfMemoryError\u001b[0m                          Traceback (most recent call last)",
            "\u001b[0;32m<ipython-input-37-dd454c1064f3>\u001b[0m in \u001b[0;36m<cell line: 2>\u001b[0;34m()\u001b[0m\n\u001b[1;32m      1\u001b[0m \u001b[0;31m# Run this on CPU with a lot of memory\u001b[0m\u001b[0;34m\u001b[0m\u001b[0;34m\u001b[0m\u001b[0m\n\u001b[0;32m----> 2\u001b[0;31m \u001b[0mmu\u001b[0m\u001b[0;34m,\u001b[0m \u001b[0msd\u001b[0m\u001b[0;34m,\u001b[0m \u001b[0malpha_ca\u001b[0m\u001b[0;34m,\u001b[0m \u001b[0malpha_dc\u001b[0m\u001b[0;34m,\u001b[0m \u001b[0malpha_cc\u001b[0m\u001b[0;34m,\u001b[0m \u001b[0mF\u001b[0m\u001b[0;34m,\u001b[0m \u001b[0mgamma\u001b[0m\u001b[0;34m,\u001b[0m \u001b[0mdraws\u001b[0m\u001b[0;34m,\u001b[0m \u001b[0ml\u001b[0m \u001b[0;34m=\u001b[0m \u001b[0mget_params_from\u001b[0m\u001b[0;34m(\u001b[0m\u001b[0;34m'spec3_mix_cs.npy'\u001b[0m\u001b[0;34m)\u001b[0m\u001b[0;34m\u001b[0m\u001b[0;34m\u001b[0m\u001b[0m\n\u001b[0m\u001b[1;32m      3\u001b[0m \u001b[0mmu_se\u001b[0m \u001b[0;34m=\u001b[0m \u001b[0mse_calc_finitediff\u001b[0m\u001b[0;34m(\u001b[0m\u001b[0mll2mu\u001b[0m\u001b[0;34m,\u001b[0m \u001b[0mmu\u001b[0m\u001b[0;34m,\u001b[0m \u001b[0meps\u001b[0m\u001b[0;34m=\u001b[0m\u001b[0;36m1e-12\u001b[0m\u001b[0;34m)\u001b[0m\u001b[0;34m\u001b[0m\u001b[0;34m\u001b[0m\u001b[0m\n\u001b[1;32m      4\u001b[0m \u001b[0msd_se\u001b[0m \u001b[0;34m=\u001b[0m \u001b[0mse_calc_finitediff\u001b[0m\u001b[0;34m(\u001b[0m\u001b[0mll2sd\u001b[0m\u001b[0;34m,\u001b[0m \u001b[0mtorch\u001b[0m\u001b[0;34m.\u001b[0m\u001b[0mexp\u001b[0m\u001b[0;34m(\u001b[0m\u001b[0msd\u001b[0m\u001b[0;34m[\u001b[0m\u001b[0;34m[\u001b[0m\u001b[0;36m1\u001b[0m\u001b[0;34m,\u001b[0m\u001b[0;36m2\u001b[0m\u001b[0;34m,\u001b[0m\u001b[0;36m4\u001b[0m\u001b[0;34m]\u001b[0m\u001b[0;34m]\u001b[0m\u001b[0;34m)\u001b[0m\u001b[0;34m,\u001b[0m \u001b[0meps\u001b[0m\u001b[0;34m=\u001b[0m\u001b[0;36m1e-12\u001b[0m\u001b[0;34m)\u001b[0m\u001b[0;34m\u001b[0m\u001b[0;34m\u001b[0m\u001b[0m\n\u001b[1;32m      5\u001b[0m \u001b[0msd_se\u001b[0m \u001b[0;34m=\u001b[0m \u001b[0mtorch\u001b[0m\u001b[0;34m.\u001b[0m\u001b[0mtensor\u001b[0m\u001b[0;34m(\u001b[0m\u001b[0;34m[\u001b[0m\u001b[0;36m0\u001b[0m\u001b[0;34m,\u001b[0m \u001b[0msd_se\u001b[0m\u001b[0;34m[\u001b[0m\u001b[0;36m0\u001b[0m\u001b[0;34m]\u001b[0m\u001b[0;34m,\u001b[0m \u001b[0msd_se\u001b[0m\u001b[0;34m[\u001b[0m\u001b[0;36m1\u001b[0m\u001b[0;34m]\u001b[0m\u001b[0;34m,\u001b[0m \u001b[0;36m0\u001b[0m\u001b[0;34m,\u001b[0m \u001b[0msd_se\u001b[0m\u001b[0;34m[\u001b[0m\u001b[0;36m2\u001b[0m\u001b[0;34m]\u001b[0m\u001b[0;34m]\u001b[0m\u001b[0;34m)\u001b[0m\u001b[0;34m\u001b[0m\u001b[0;34m\u001b[0m\u001b[0m\n",
            "\u001b[0;32m<ipython-input-13-b18a7eaceb6e>\u001b[0m in \u001b[0;36mget_params_from\u001b[0;34m(filename)\u001b[0m\n\u001b[1;32m    113\u001b[0m     \u001b[0;32melse\u001b[0m\u001b[0;34m:\u001b[0m\u001b[0;34m\u001b[0m\u001b[0;34m\u001b[0m\u001b[0m\n\u001b[1;32m    114\u001b[0m         \u001b[0mgamma\u001b[0m \u001b[0;34m=\u001b[0m \u001b[0mtorch\u001b[0m\u001b[0;34m.\u001b[0m\u001b[0mzeros\u001b[0m\u001b[0;34m(\u001b[0m\u001b[0mCSb\u001b[0m\u001b[0;34m.\u001b[0m\u001b[0mshape\u001b[0m\u001b[0;34m[\u001b[0m\u001b[0;36m1\u001b[0m\u001b[0;34m]\u001b[0m\u001b[0;34m,\u001b[0m \u001b[0;36m1\u001b[0m\u001b[0;34m,\u001b[0m \u001b[0mdtype\u001b[0m\u001b[0;34m=\u001b[0m\u001b[0mdtype\u001b[0m\u001b[0;34m,\u001b[0m \u001b[0mdevice\u001b[0m\u001b[0;34m=\u001b[0m\u001b[0mdevice\u001b[0m\u001b[0;34m,\u001b[0m \u001b[0mrequires_grad\u001b[0m\u001b[0;34m=\u001b[0m\u001b[0;32mTrue\u001b[0m\u001b[0;34m)\u001b[0m\u001b[0;34m\u001b[0m\u001b[0;34m\u001b[0m\u001b[0m\n\u001b[0;32m--> 115\u001b[0;31m     \u001b[0mdraws\u001b[0m \u001b[0;34m=\u001b[0m \u001b[0mtorch\u001b[0m\u001b[0;34m.\u001b[0m\u001b[0mtensor\u001b[0m\u001b[0;34m(\u001b[0m\u001b[0mp\u001b[0m\u001b[0;34m[\u001b[0m\u001b[0;34m'draws'\u001b[0m\u001b[0;34m]\u001b[0m\u001b[0;34m,\u001b[0m \u001b[0mdtype\u001b[0m\u001b[0;34m=\u001b[0m\u001b[0mdtype\u001b[0m\u001b[0;34m,\u001b[0m \u001b[0mdevice\u001b[0m\u001b[0;34m=\u001b[0m\u001b[0mdevice\u001b[0m\u001b[0;34m,\u001b[0m \u001b[0mrequires_grad\u001b[0m\u001b[0;34m=\u001b[0m\u001b[0;32mTrue\u001b[0m\u001b[0;34m)\u001b[0m\u001b[0;34m\u001b[0m\u001b[0;34m\u001b[0m\u001b[0m\n\u001b[0m\u001b[1;32m    116\u001b[0m     \u001b[0mll\u001b[0m \u001b[0;34m=\u001b[0m \u001b[0mtorch\u001b[0m\u001b[0;34m.\u001b[0m\u001b[0mtensor\u001b[0m\u001b[0;34m(\u001b[0m\u001b[0mp\u001b[0m\u001b[0;34m[\u001b[0m\u001b[0;34m'll'\u001b[0m\u001b[0;34m]\u001b[0m\u001b[0;34m,\u001b[0m \u001b[0mdtype\u001b[0m\u001b[0;34m=\u001b[0m\u001b[0mdtype\u001b[0m\u001b[0;34m,\u001b[0m \u001b[0mdevice\u001b[0m\u001b[0;34m=\u001b[0m\u001b[0mdevice\u001b[0m\u001b[0;34m,\u001b[0m \u001b[0mrequires_grad\u001b[0m\u001b[0;34m=\u001b[0m\u001b[0;32mTrue\u001b[0m\u001b[0;34m)\u001b[0m\u001b[0;34m\u001b[0m\u001b[0;34m\u001b[0m\u001b[0m\n\u001b[1;32m    117\u001b[0m     \u001b[0;32mreturn\u001b[0m \u001b[0mmu\u001b[0m\u001b[0;34m,\u001b[0m \u001b[0msd\u001b[0m\u001b[0;34m,\u001b[0m \u001b[0malpha_ca\u001b[0m\u001b[0;34m,\u001b[0m \u001b[0malpha_dc\u001b[0m\u001b[0;34m,\u001b[0m \u001b[0malpha_cc\u001b[0m\u001b[0;34m,\u001b[0m \u001b[0mF\u001b[0m\u001b[0;34m,\u001b[0m \u001b[0mgamma\u001b[0m\u001b[0;34m,\u001b[0m \u001b[0mdraws\u001b[0m\u001b[0;34m,\u001b[0m \u001b[0mll\u001b[0m\u001b[0;34m\u001b[0m\u001b[0;34m\u001b[0m\u001b[0m\n",
            "\u001b[0;31mOutOfMemoryError\u001b[0m: CUDA out of memory. Tried to allocate 134.00 MiB (GPU 0; 14.75 GiB total capacity; 12.65 GiB already allocated; 54.81 MiB free; 13.81 GiB reserved in total by PyTorch) If reserved memory is >> allocated memory try setting max_split_size_mb to avoid fragmentation.  See documentation for Memory Management and PYTORCH_CUDA_ALLOC_CONF"
          ]
        }
      ],
      "source": [
        "# Run this on CPU with a lot of memory\n",
        "mu, sd, alpha_ca, alpha_dc, alpha_cc, F, gamma, draws, l = get_params_from('spec3_mix_cs.npy')\n",
        "mu_se = se_calc_finitediff(ll2mu, mu, eps=1e-12)\n",
        "sd_se = se_calc_finitediff(ll2sd, torch.exp(sd[[1,2,4]]), eps=1e-12)\n",
        "sd_se = torch.tensor([0, sd_se[0], sd_se[1], 0, sd_se[2]])\n",
        "alpha_dc_se = se_calc_finitediff(ll2dc, alpha_dc, eps=1e-12)\n",
        "alpha_cc_se = se_calc_finitediff(ll2cc, alpha_cc, eps=1e-12)\n",
        "F_se = se_calc_finitediff(ll1F, F, eps=1e-12)\n",
        "gamma_se = se_calc_finitediff(ll1betaF, gamma, eps=1e-12)\n",
        "save_param_to('spec3_mix_cs', mu, sd, alpha_ca, alpha_dc, alpha_cc, F, gamma, mu_se, sd_se, alpha_dc_se, alpha_cc_se, F_se, gamma_se, draws, l)"
      ]
    },
    {
      "cell_type": "markdown",
      "metadata": {
        "id": "uFCloqvOlnI5"
      },
      "source": [
        "## Second stage only, analyze util gain"
      ]
    },
    {
      "cell_type": "code",
      "execution_count": 10,
      "metadata": {
        "id": "tfbQsb7flnJF"
      },
      "outputs": [],
      "source": [
        "# Take the counterfactual scenario of CBDC and computes re-normalized variables\n",
        "def renormalize(X_bc):\n",
        "    X_sum = X_ca + X_dc + X_cc + X_bc\n",
        "    X_ca_renorm = torch.cat(((X_ca / X_sum)[:,:3], X_ca[:,3:5]), 1)\n",
        "    X_bc_renorm = torch.cat(((X_bc / X_sum)[:,:3], X_bc[:,3:5]), 1)\n",
        "    X_dc_renorm = torch.cat(((X_dc / X_sum)[:,:3], X_dc[:,3:5]), 1)\n",
        "    X_cc_renorm = torch.cat(((X_cc / X_sum)[:,:3], X_cc[:,3:5]), 1)\n",
        "    return X_ca_renorm, X_bc_renorm, X_dc_renorm, X_cc_renorm\n",
        "\n",
        "# The expected maximum utility of adopting a payment bundle\n",
        "def stage1_emax_ctf(F, gamma, stage2_emax):\n",
        "    fixed_cost = torch.cat((zero, F))\n",
        "    variable_cost = torch.cat((torch.zeros_like(cs), CSb * gamma), 1)\n",
        "    util_after_cost = stage2_emax + fixed_cost + variable_cost\n",
        "    return torch.logsumexp(util_after_cost, dim=2, keepdim=True)\n",
        "\n",
        "# The expected maximum utility of each transaction\n",
        "def stage2_bundle_emax_ctf(delta_ca, delta_bc, delta_dc, delta_cc, accept_prob_0, accept_prob_1, accept_prob_2):\n",
        "    u_0 = torch.logsumexp(torch.cat([delta_ca, delta_bc], 2), dim=2, keepdim=True)\n",
        "    u_1 = torch.logsumexp(torch.cat([delta_ca, delta_bc, delta_dc], 2), dim=2, keepdim=True)\n",
        "    u_2 = torch.logsumexp(torch.cat([delta_ca, delta_bc, delta_dc, delta_cc], 2), dim=2, keepdim=True)\n",
        "\n",
        "    eu_0 = u_0\n",
        "    eu_1 = accept_prob_0 * u_0 \\\n",
        "        + (accept_prob_1 + accept_prob_2) * u_1\n",
        "    eu_2 = accept_prob_0 * u_0 \\\n",
        "        + accept_prob_1 * u_1 \\\n",
        "        + accept_prob_2 * u_2\n",
        "    u = torch.cat((eu_0, eu_1, eu_2), dim=2)\n",
        "    utils = torch.matmul(u.transpose(1,2), nid_matrix.t()).transpose(1,2)\n",
        "    return utils\n",
        "\n",
        "# Computes adoption prob of each bundle\n",
        "def adoption_prob_ctf(F, gamma, util):\n",
        "    fixed_cost = torch.cat((zero, F))\n",
        "    variable_cost = torch.cat((torch.zeros_like(cs), CSb * gamma), 1)\n",
        "    util_after_cost = util + fixed_cost + variable_cost\n",
        "    likelihood = torch.nn.functional.softmax(util_after_cost, dim=2)\n",
        "    return likelihood\n",
        "\n",
        "# Computes usage prob of each payment method, difference is that this doesn't condition on adoption decision\n",
        "# since it takes adoption probability instead. (We do not observe the adoption decision in counterfactual)\n",
        "def usage_prob_ctf(delta_ca, delta_bc, delta_dc, delta_cc, accept_prob_0, accept_prob_1, accept_prob_2, adopt_prob_0, adopt_prob_1, adopt_prob_2):\n",
        "    # Prob if bundle 0 adopted\n",
        "    p_0 = torch.nn.functional.softmax(torch.cat([delta_ca, delta_bc], dim=2), dim=2)\n",
        "    p_ca_0 = p_0[:,:,0:1]\n",
        "    p_bc_0 = p_0[:,:,1:2]\n",
        "    # Prob if bundle 1 adopted\n",
        "    p_1 = torch.nn.functional.softmax(torch.cat([delta_ca, delta_bc, delta_dc], dim=2), dim=2)\n",
        "    p_ca_1 = p_1[:,:,0:1]\n",
        "    p_bc_1 = p_1[:,:,1:2]\n",
        "    p_dc_1 = p_1[:,:,2:3]\n",
        "    # Prob if bundle 2 adopted\n",
        "    p_2 = torch.nn.functional.softmax(torch.cat([delta_ca, delta_bc, delta_dc, delta_cc], dim=2), dim=2)\n",
        "    p_ca_2 = p_2[:,:,0:1]\n",
        "    p_bc_2 = p_2[:,:,1:2]\n",
        "    p_dc_2 = p_2[:,:,2:3]\n",
        "    p_cc_2 = p_2[:,:,3:4]\n",
        "\n",
        "    p_ca = p_ca_0 * adopt_prob_0 \\\n",
        "            + p_ca_0 * (adopt_prob_1 + adopt_prob_2) * accept_prob_0 \\\n",
        "            + p_ca_1 * adopt_prob_1 * (accept_prob_1 + accept_prob_2) \\\n",
        "            + p_ca_1 * adopt_prob_2 * accept_prob_1 \\\n",
        "            + p_ca_2 * adopt_prob_2 * accept_prob_2\n",
        "\n",
        "    p_bc = p_bc_0 * adopt_prob_0 \\\n",
        "            + p_bc_0 * (adopt_prob_1 + adopt_prob_2) * accept_prob_0 \\\n",
        "            + p_bc_1 * adopt_prob_1 * (accept_prob_1 + accept_prob_2) \\\n",
        "            + p_bc_1 * adopt_prob_2 * accept_prob_1 \\\n",
        "            + p_bc_2 * adopt_prob_2 * accept_prob_2\n",
        "\n",
        "    p_dc = p_dc_1 * adopt_prob_1 * (accept_prob_1 + accept_prob_2) \\\n",
        "            + p_dc_1 * adopt_prob_2 * accept_prob_1 \\\n",
        "            + p_dc_2 * adopt_prob_2 * accept_prob_2\n",
        "\n",
        "    p_cc = p_cc_2 * adopt_prob_2 * accept_prob_2\n",
        "\n",
        "    return torch.cat((p_ca, p_bc, p_dc, p_cc), dim=2)\n",
        "\n",
        "# Computes probability of adoption and usage given counterfactual inputs\n",
        "def compute_avg_prob_util_ctf(X0, X1, X2, Xbc, mu, sd,\n",
        "                            alpha_ca, alpha_dc, alpha_cc, alpha_bc,\n",
        "                            F, gamma, accept_0, accept_1, accept_2, draws):\n",
        "    beta = draws * torch.exp(sd) * beta_mask + mu\n",
        "    delta_ca = (beta * X0).sum(2, keepdim=True) + (Zbj * alpha_ca).sum(1, keepdim=True)\n",
        "    delta_bc = (beta * Xbc).sum(2, keepdim=True) + (Zbj * alpha_bc).sum(1, keepdim=True)\n",
        "    delta_dc = (beta * X1).sum(2, keepdim=True) + (Zbj * alpha_dc).sum(1, keepdim=True)\n",
        "    delta_cc = (beta * X2).sum(2, keepdim=True) + (Zbj * alpha_cc).sum(1, keepdim=True)\n",
        "    avg_util = stage2_bundle_emax_ctf(delta_ca, delta_bc, delta_dc, delta_cc, accept_0, accept_1, accept_2)\n",
        "    adopt_prob = adoption_prob_ctf(F, gamma, avg_util)\n",
        "    adopt_prob_expanded = adopt_prob[:, nid_index.long(), :]\n",
        "    avg_choice = usage_prob_ctf(delta_ca, delta_bc, delta_dc, delta_cc,\n",
        "                                          accept_0, accept_1, accept_2,\n",
        "                                          adopt_prob_expanded[:, :, 0:1], adopt_prob_expanded[:, :, 1:2], adopt_prob_expanded[:, :, 2:3])\n",
        "    return avg_choice.mean(0), adopt_prob.mean(0)"
      ]
    },
    {
      "cell_type": "code",
      "execution_count": 11,
      "metadata": {
        "id": "Qqvhwyw9lnI5"
      },
      "outputs": [],
      "source": [
        "opt = {'iter': 10000, 'lr': 0.1, 'num_sample':100, 'amsgrad': True}"
      ]
    },
    {
      "cell_type": "code",
      "execution_count": 12,
      "metadata": {
        "id": "GJt0rjmAlnI5"
      },
      "outputs": [],
      "source": [
        "# Draw Hammersley sequences\n",
        "base_dist = chaospy.Normal(0,1)\n",
        "dist = chaospy.Iid(base_dist, X_ca.shape[1])\n",
        "samples = chaospy.distributions.sampler.sequences.hammersley.create_hammersley_samples(order=opt['num_sample']*nid.unique().shape[0], dim=X_ca.shape[1], burnin=-1)\n",
        "draws = torch.tensor(dist.inv(samples).T.reshape(opt['num_sample'], nid.unique().shape[0], X_ca.shape[1]), dtype=dtype, device=device)[:, nid_index, :]"
      ]
    },
    {
      "cell_type": "code",
      "execution_count": null,
      "metadata": {
        "id": "0L8K4glclnI5"
      },
      "outputs": [],
      "source": [
        "mu = torch.randn(X_ca.shape[1], dtype=dtype, requires_grad=True, device=device)\n",
        "sd = torch.randn(X_ca.shape[1], dtype=dtype, requires_grad=True, device=device)\n",
        "alpha_ca = torch.zeros(Zbj.shape[1], dtype=dtype, requires_grad=False, device=device)\n",
        "alpha_dc = torch.randn(Zbj.shape[1], dtype=dtype, requires_grad=True, device=device)\n",
        "alpha_cc = torch.randn(Zbj.shape[1], dtype=dtype, requires_grad=True, device=device)\n",
        "F = torch.randn(2, dtype=dtype, requires_grad=False, device=device)\n",
        "gamma = torch.randn(CSb.shape[1], dtype=dtype, requires_grad=False, device=device)\n",
        "\n",
        "optimizer = optim.Adam([mu, sd, alpha_dc, alpha_cc], opt['lr'])\n",
        "scheduler = optim.lr_scheduler.ReduceLROnPlateau(optimizer, factor=0.5, patience=100, threshold=1e-8, threshold_mode='abs')\n",
        "\n",
        "ls = []\n",
        "for i in range(opt['iter']):\n",
        "    optimizer.zero_grad()\n",
        "    avg_choice, avg_util = compute_avg_prob_util(mu, sd,\n",
        "                        alpha_ca, alpha_dc, alpha_cc,\n",
        "                        Ms_0, Ms_1, Ms_2, draws)\n",
        "    l = torch.sum(stage2_loglik(avg_choice, di))\n",
        "    ls.append(float(l))\n",
        "    l.backward()\n",
        "    optimizer.step()\n",
        "    scheduler.step(l)\n",
        "    if (i+1) % (500) == 0:\n",
        "        print('------------------------------------------------------')\n",
        "        print(\"LL\", l.detach().cpu().numpy().round(4))\n",
        "        print(\"Mu\", mu.detach().cpu().numpy().round(4))\n",
        "        print(\"SD\", torch.exp(sd).detach().cpu().numpy().round(4))\n",
        "        print(\"F\", F.detach().cpu().numpy().round(4))\n",
        "        print(\"beta F\", gamma.detach().cpu().numpy().round(4))\n",
        "        print('------------------------------------------------------')\n",
        "        print()\n",
        "    if scheduler.optimizer.param_groups[0]['lr'] < 1e-7:\n",
        "        print('Converged')\n",
        "        break\n",
        "    if torch.isnan(l):\n",
        "        print('NAN')\n",
        "        break\n",
        "\n",
        "print(\"Joint LL: {:.3f}\".format(l))\n",
        "plt.plot(ls)\n",
        "plt.show()\n",
        "save_param_nose_to('spec4_mix_cs_ss', mu, sd, alpha_ca, alpha_dc, alpha_cc, F, gamma, draws, l)"
      ]
    },
    {
      "cell_type": "code",
      "execution_count": 14,
      "metadata": {
        "colab": {
          "base_uri": "https://localhost:8080/",
          "height": 240
        },
        "id": "qg5dKYlSlnI6",
        "outputId": "da18c2bf-93cf-4316-f06c-4c24b7d850d6"
      },
      "outputs": [
        {
          "output_type": "error",
          "ename": "NameError",
          "evalue": "ignored",
          "traceback": [
            "\u001b[0;31m---------------------------------------------------------------------------\u001b[0m",
            "\u001b[0;31mNameError\u001b[0m                                 Traceback (most recent call last)",
            "\u001b[0;32m<ipython-input-14-611cdc9d721a>\u001b[0m in \u001b[0;36m<cell line: 7>\u001b[0;34m()\u001b[0m\n\u001b[1;32m      5\u001b[0m \u001b[0;31m# Re-normalize the perception variables\u001b[0m\u001b[0;34m\u001b[0m\u001b[0;34m\u001b[0m\u001b[0m\n\u001b[1;32m      6\u001b[0m \u001b[0mX_ca_renorm\u001b[0m\u001b[0;34m,\u001b[0m \u001b[0mX_bc_renorm\u001b[0m\u001b[0;34m,\u001b[0m \u001b[0mX_dc_renorm\u001b[0m\u001b[0;34m,\u001b[0m \u001b[0mX_cc_renorm\u001b[0m \u001b[0;34m=\u001b[0m \u001b[0mrenormalize\u001b[0m\u001b[0;34m(\u001b[0m\u001b[0mX_bc\u001b[0m\u001b[0;34m)\u001b[0m\u001b[0;34m\u001b[0m\u001b[0;34m\u001b[0m\u001b[0m\n\u001b[0;32m----> 7\u001b[0;31m \u001b[0malpha_bc\u001b[0m \u001b[0;34m=\u001b[0m \u001b[0malpha_dc\u001b[0m\u001b[0;34m\u001b[0m\u001b[0;34m\u001b[0m\u001b[0m\n\u001b[0m\u001b[1;32m      8\u001b[0m \u001b[0;34m\u001b[0m\u001b[0m\n\u001b[1;32m      9\u001b[0m \u001b[0;31m# Only in 2017\u001b[0m\u001b[0;34m\u001b[0m\u001b[0;34m\u001b[0m\u001b[0m\n",
            "\u001b[0;31mNameError\u001b[0m: name 'alpha_dc' is not defined"
          ]
        }
      ],
      "source": [
        "# Best of both\n",
        "X_bc = torch.max(X_ca, X_dc).clone()\n",
        "X_bc[:,4] = X_dc[:,4].clone()\n",
        "\n",
        "# Re-normalize the perception variables\n",
        "X_ca_renorm, X_bc_renorm, X_dc_renorm, X_cc_renorm = renormalize(X_bc)\n",
        "alpha_bc = alpha_dc\n",
        "\n",
        "# Only in 2017\n",
        "y = 2017\n",
        "year_idx = (year == y)\n",
        "# Compute the adoption utility WITHOUT CBDC\n",
        "beta = draws[:, nid_index, :] * torch.exp(sd) * beta_mask + mu\n",
        "delta_ca_nobc = (beta * X_ca_renorm).sum(2, keepdim=True) + (Zbj * alpha_ca).sum(1, keepdim=True)\n",
        "delta_dc_nobc = (beta * X_dc_renorm).sum(2, keepdim=True) + (Zbj * alpha_dc).sum(1, keepdim=True)\n",
        "delta_cc_nobc = (beta * X_cc_renorm).sum(2, keepdim=True) + (Zbj * alpha_cc).sum(1, keepdim=True)\n",
        "stage2_emax_nocbdc = stage2_bundle_emax(delta_ca_nobc, delta_dc_nobc, delta_cc_nobc, Ms_0, Ms_1, Ms_2)\n",
        "\n",
        "# Compute the adoption utility WITH CBDC\n",
        "delta_ca = (beta * X_ca_renorm).sum(2, keepdim=True) + (Zbj * alpha_ca).sum(1, keepdim=True)\n",
        "delta_bc = (beta * X_bc_renorm).sum(2, keepdim=True) + (Zbj * alpha_bc).sum(1, keepdim=True)\n",
        "delta_dc = (beta * X_dc_renorm).sum(2, keepdim=True) + (Zbj * alpha_dc).sum(1, keepdim=True)\n",
        "delta_cc = (beta * X_cc_renorm).sum(2, keepdim=True) + (Zbj * alpha_cc).sum(1, keepdim=True)\n",
        "stage2_emax_cbdc = stage2_bundle_emax_ctf(delta_ca, delta_bc, delta_dc, delta_cc, Ms_0, Ms_1, Ms_2)\n",
        "\n",
        "\n",
        "# # Convert into dollar and put it in a table\n",
        "expect_util_improvement = ((stage2_emax_cbdc - stage2_emax_nocbdc).mean(0) * BDi).sum(1)[nid[year_idx].unique().long()] / float(-mu[4])\n",
        "util_improvement_table = data[['nid', 'empd', 'mard', 'agec', 'incc', 'gen',  'edu',\n",
        "                 'urb', 'own', 'can', 'year', 'sph']].drop_duplicates()\n",
        "util_improvement_table = util_improvement_table[util_improvement_table.year == 2017]\n",
        "util_improvement_table['u'] = expect_util_improvement.detach().cpu()"
      ]
    },
    {
      "cell_type": "code",
      "execution_count": null,
      "metadata": {
        "colab": {
          "base_uri": "https://localhost:8080/",
          "height": 258
        },
        "id": "u6q0Q4rIlnI6",
        "outputId": "c2086578-ab31-4325-b3e0-5b0885c28882"
      },
      "outputs": [
        {
          "output_type": "error",
          "ename": "NameError",
          "evalue": "ignored",
          "traceback": [
            "\u001b[0;31m---------------------------------------------------------------------------\u001b[0m",
            "\u001b[0;31mNameError\u001b[0m                                 Traceback (most recent call last)",
            "\u001b[0;32m<ipython-input-95-df36c8fba8cf>\u001b[0m in \u001b[0;36m<cell line: 2>\u001b[0;34m()\u001b[0m\n\u001b[1;32m      1\u001b[0m \u001b[0;31m# Group by and take mean of util improvement by demographics\u001b[0m\u001b[0;34m\u001b[0m\u001b[0;34m\u001b[0m\u001b[0m\n\u001b[0;32m----> 2\u001b[0;31m \u001b[0mutil_improv_edu\u001b[0m \u001b[0;34m=\u001b[0m \u001b[0mutil_improvement_table\u001b[0m\u001b[0;34m.\u001b[0m\u001b[0mgroupby\u001b[0m\u001b[0;34m(\u001b[0m\u001b[0;34m'edu'\u001b[0m\u001b[0;34m)\u001b[0m\u001b[0;34m.\u001b[0m\u001b[0mmean\u001b[0m\u001b[0;34m(\u001b[0m\u001b[0;34m)\u001b[0m\u001b[0;34m[\u001b[0m\u001b[0;34m[\u001b[0m\u001b[0;34m'u'\u001b[0m\u001b[0;34m]\u001b[0m\u001b[0;34m]\u001b[0m\u001b[0;34m\u001b[0m\u001b[0;34m\u001b[0m\u001b[0m\n\u001b[0m\u001b[1;32m      3\u001b[0m \u001b[0mutil_improv_edu\u001b[0m\u001b[0;34m[\u001b[0m\u001b[0;34m'eduname'\u001b[0m\u001b[0;34m]\u001b[0m \u001b[0;34m=\u001b[0m \u001b[0;34m[\u001b[0m\u001b[0;34m'High school'\u001b[0m\u001b[0;34m,\u001b[0m \u001b[0;34m'Grad School'\u001b[0m\u001b[0;34m,\u001b[0m \u001b[0;34m'Some uni.'\u001b[0m\u001b[0;34m,\u001b[0m \u001b[0;34m'< high school'\u001b[0m\u001b[0;34m,\u001b[0m \u001b[0;34m'Tech. school'\u001b[0m\u001b[0;34m,\u001b[0m \u001b[0;34m'Uni degree'\u001b[0m\u001b[0;34m]\u001b[0m\u001b[0;34m\u001b[0m\u001b[0;34m\u001b[0m\u001b[0m\n\u001b[1;32m      4\u001b[0m \u001b[0mutil_improv_edu\u001b[0m \u001b[0;34m=\u001b[0m \u001b[0mutil_improv_edu\u001b[0m\u001b[0;34m.\u001b[0m\u001b[0msort_values\u001b[0m\u001b[0;34m(\u001b[0m\u001b[0mby\u001b[0m\u001b[0;34m=\u001b[0m\u001b[0;34m'u'\u001b[0m\u001b[0;34m,\u001b[0m \u001b[0mascending\u001b[0m\u001b[0;34m=\u001b[0m\u001b[0;32mFalse\u001b[0m\u001b[0;34m)\u001b[0m\u001b[0;34m\u001b[0m\u001b[0;34m\u001b[0m\u001b[0m\n\u001b[1;32m      5\u001b[0m \u001b[0;34m\u001b[0m\u001b[0m\n",
            "\u001b[0;31mNameError\u001b[0m: name 'util_improvement_table' is not defined"
          ]
        }
      ],
      "source": [
        "# Group by and take mean of util improvement by demographics\n",
        "util_improv_edu = util_improvement_table.groupby('edu').mean()[['u']]\n",
        "util_improv_edu['eduname'] = ['High school', 'Grad School', 'Some uni.', '< high school', 'Tech. school', 'Uni degree']\n",
        "util_improv_edu = util_improv_edu.sort_values(by='u', ascending=False)\n",
        "\n",
        "util_improv_age = util_improvement_table.groupby('agec').mean()[['u']]\n",
        "util_improv_age['agen'] = ['18-32', '33-42', '43-52', '53-61', '62-99']\n",
        "util_improv_age = util_improv_age.sort_values(by='u', ascending=False)\n",
        "\n",
        "util_improv_inc = util_improvement_table.groupby('incc').mean()[['u']]\n",
        "util_improv_inc['incn'] = ['< 25k', '25k-45k', '45k-65k', '65k-90k', '> 90k']\n",
        "util_improv_inc = util_improv_inc.sort_values(by='u', ascending=False)\n",
        "\n",
        "mean_imp = util_improvement_table['u'].mean()"
      ]
    },
    {
      "cell_type": "code",
      "execution_count": null,
      "metadata": {
        "id": "RXL5xa7OlnJE",
        "outputId": "8cda789f-c137-4eab-a6f2-b87c6b7936c2"
      },
      "outputs": [
        {
          "data": {
            "text/plain": [
              "1.7308223664314606"
            ]
          },
          "execution_count": 36,
          "metadata": {},
          "output_type": "execute_result"
        }
      ],
      "source": [
        "util_improvement_table['u'].mean()"
      ]
    },
    {
      "cell_type": "code",
      "execution_count": null,
      "metadata": {
        "colab": {
          "base_uri": "https://localhost:8080/",
          "height": 635
        },
        "id": "GL370osQlnJE",
        "outputId": "24ea123d-73e7-434d-a020-33c70a4dafa3"
      },
      "outputs": [
        {
          "output_type": "error",
          "ename": "NameError",
          "evalue": "ignored",
          "traceback": [
            "\u001b[0;31m---------------------------------------------------------------------------\u001b[0m",
            "\u001b[0;31mNameError\u001b[0m                                 Traceback (most recent call last)",
            "\u001b[0;32m<ipython-input-97-9113388cad66>\u001b[0m in \u001b[0;36m<cell line: 6>\u001b[0;34m()\u001b[0m\n\u001b[1;32m      4\u001b[0m \u001b[0;34m\u001b[0m\u001b[0m\n\u001b[1;32m      5\u001b[0m \u001b[0max1\u001b[0m \u001b[0;34m=\u001b[0m \u001b[0mplt\u001b[0m\u001b[0;34m.\u001b[0m\u001b[0msubplot\u001b[0m\u001b[0;34m(\u001b[0m\u001b[0mgs\u001b[0m\u001b[0;34m[\u001b[0m\u001b[0;36m0\u001b[0m\u001b[0;34m,\u001b[0m \u001b[0;34m:\u001b[0m\u001b[0;34m]\u001b[0m\u001b[0;34m)\u001b[0m\u001b[0;34m\u001b[0m\u001b[0;34m\u001b[0m\u001b[0m\n\u001b[0;32m----> 6\u001b[0;31m \u001b[0mplt\u001b[0m\u001b[0;34m.\u001b[0m\u001b[0mhist\u001b[0m\u001b[0;34m(\u001b[0m\u001b[0mexpect_util_improvement\u001b[0m\u001b[0;34m.\u001b[0m\u001b[0mdetach\u001b[0m\u001b[0;34m(\u001b[0m\u001b[0;34m)\u001b[0m\u001b[0;34m.\u001b[0m\u001b[0mcpu\u001b[0m\u001b[0;34m(\u001b[0m\u001b[0;34m)\u001b[0m\u001b[0;34m,\u001b[0m \u001b[0mbins\u001b[0m\u001b[0;34m=\u001b[0m\u001b[0mnp\u001b[0m\u001b[0;34m.\u001b[0m\u001b[0marange\u001b[0m\u001b[0;34m(\u001b[0m\u001b[0mfloat\u001b[0m\u001b[0;34m(\u001b[0m\u001b[0mexpect_util_improvement\u001b[0m\u001b[0;34m.\u001b[0m\u001b[0mmin\u001b[0m\u001b[0;34m(\u001b[0m\u001b[0;34m)\u001b[0m\u001b[0;34m.\u001b[0m\u001b[0mround\u001b[0m\u001b[0;34m(\u001b[0m\u001b[0;34m)\u001b[0m\u001b[0;34m)\u001b[0m\u001b[0;34m,\u001b[0m \u001b[0mfloat\u001b[0m\u001b[0;34m(\u001b[0m\u001b[0mexpect_util_improvement\u001b[0m\u001b[0;34m.\u001b[0m\u001b[0mmax\u001b[0m\u001b[0;34m(\u001b[0m\u001b[0;34m)\u001b[0m\u001b[0;34m.\u001b[0m\u001b[0mceil\u001b[0m\u001b[0;34m(\u001b[0m\u001b[0;34m)\u001b[0m\u001b[0;34m)\u001b[0m\u001b[0;34m,\u001b[0m \u001b[0;36m0.25\u001b[0m\u001b[0;34m)\u001b[0m\u001b[0;34m,\u001b[0m \u001b[0mcolor\u001b[0m\u001b[0;34m=\u001b[0m\u001b[0;34m'dimgrey'\u001b[0m\u001b[0;34m)\u001b[0m\u001b[0;34m\u001b[0m\u001b[0;34m\u001b[0m\u001b[0m\n\u001b[0m\u001b[1;32m      7\u001b[0m \u001b[0mplt\u001b[0m\u001b[0;34m.\u001b[0m\u001b[0mxlabel\u001b[0m\u001b[0;34m(\u001b[0m\u001b[0;34m\"Utility improvement in dollars\"\u001b[0m\u001b[0;34m)\u001b[0m\u001b[0;34m\u001b[0m\u001b[0;34m\u001b[0m\u001b[0m\n\u001b[1;32m      8\u001b[0m \u001b[0mplt\u001b[0m\u001b[0;34m.\u001b[0m\u001b[0mylabel\u001b[0m\u001b[0;34m(\u001b[0m\u001b[0;34m\"Person count\"\u001b[0m\u001b[0;34m)\u001b[0m\u001b[0;34m\u001b[0m\u001b[0;34m\u001b[0m\u001b[0m\n",
            "\u001b[0;31mNameError\u001b[0m: name 'expect_util_improvement' is not defined"
          ]
        },
        {
          "output_type": "display_data",
          "data": {
            "text/plain": [
              "<Figure size 1600x1200 with 1 Axes>"
            ],
            "image/png": "[encoded data removed]"
          },
          "metadata": {}
        }
      ],
      "source": [
        "# plot the distribution and breakdown of util gain\n",
        "gs = gridspec.GridSpec(2,3)\n",
        "plt.figure(figsize=(16,12))\n",
        "\n",
        "ax1 = plt.subplot(gs[0, :])\n",
        "plt.hist(expect_util_improvement.detach().cpu(), bins=np.arange(float(expect_util_improvement.min().round()), float(expect_util_improvement.max().ceil()), 0.25), color='dimgrey')\n",
        "plt.xlabel(\"Utility improvement in dollars\")\n",
        "plt.ylabel(\"Person count\")\n",
        "\n",
        "ax2 = plt.subplot(gs[1, 0])\n",
        "plt.bar(x=util_improv_edu['eduname'], height=util_improv_edu['u'], align='center', color='dimgrey')\n",
        "plt.ylabel(\"Utility improvement in dollars\")\n",
        "plt.xticks(rotation=90)\n",
        "\n",
        "ax3 = plt.subplot(gs[1, 1], sharey=ax2)\n",
        "plt.bar(x=util_improv_age['agen'], height=util_improv_age['u'], align='center', color='dimgrey')\n",
        "plt.xticks(rotation=90)\n",
        "plt.setp(ax3.get_yticklabels(), visible=False)\n",
        "\n",
        "ax4 = plt.subplot(gs[1, 2], sharey=ax2)\n",
        "plt.bar(x=util_improv_inc['incn'], height=util_improv_inc['u'], align='center', color='dimgrey')\n",
        "plt.xticks(rotation=90)\n",
        "plt.setp(ax4.get_yticklabels(), visible=False)\n",
        "\n",
        "plt.tight_layout()\n",
        "plt.show()\n",
        "\n",
        "# save to a file\n",
        "util_improvement_table.to_csv('ecs3cl.csv', index=False)"
      ]
    },
    {
      "cell_type": "markdown",
      "metadata": {
        "id": "68cszVXElnJF"
      },
      "source": [
        "## Elasticity (on CPU)"
      ]
    },
    {
      "cell_type": "code",
      "execution_count": null,
      "metadata": {
        "id": "3egNsijIlnJF"
      },
      "outputs": [],
      "source": [
        "X_ca_t = X_ca.clone()\n",
        "X_dc_t = X_dc.clone()\n",
        "X_cc_t = X_cc.clone()"
      ]
    },
    {
      "cell_type": "code",
      "execution_count": null,
      "metadata": {
        "id": "w9X3jKxglnJF"
      },
      "outputs": [],
      "source": [
        "year_idx = (year == 2017)\n",
        "avg_choice, avg_util = compute_avg_prob_util(mu, sd,\n",
        "                        alpha_ca, alpha_dc, alpha_cc,\n",
        "                        Ms_0, Ms_1, Ms_2, draws)\n",
        "fixed_cost = torch.cat((zero, F))\n",
        "variable_cost = torch.cat((torch.zeros_like(cs), CSb * gamma), 1)\n",
        "util_after_cost = avg_util + fixed_cost + variable_cost\n",
        "likelihood = torch.nn.functional.softmax(util_after_cost, dim=1)\n",
        "\n",
        "baseline_usage = avg_choice[year_idx]\n",
        "baseline_adopt = likelihood[nid[year_idx].unique().long()]"
      ]
    },
    {
      "cell_type": "code",
      "execution_count": null,
      "metadata": {
        "colab": {
          "base_uri": "https://localhost:8080/"
        },
        "id": "N8rHpAWglnJF",
        "outputId": "34d284d3-3588-4a0f-eb8a-d70260d8216c"
      },
      "outputs": [
        {
          "output_type": "stream",
          "name": "stdout",
          "text": [
            "Changing variable Ease\n",
            "  Changing Cash\n",
            "    Elasticity of usage [ 0. nan nan]\n",
            "    Elasticity of adopt [nan nan nan]\n",
            "  Changing Debit\n",
            "    Elasticity of usage [ 0. nan nan]\n",
            "    Elasticity of adopt [nan nan nan]\n",
            "  Changing Credit\n",
            "    Elasticity of usage [ 0. nan nan]\n",
            "    Elasticity of adopt [nan nan nan]\n",
            "Changing variable Affordability\n",
            "  Changing Cash\n",
            "    Elasticity of usage [ 0. nan nan]\n",
            "    Elasticity of adopt [nan nan nan]\n",
            "  Changing Debit\n",
            "    Elasticity of usage [ 0. nan nan]\n",
            "    Elasticity of adopt [nan nan nan]\n",
            "  Changing Credit\n",
            "    Elasticity of usage [ 0. nan nan]\n",
            "    Elasticity of adopt [nan nan nan]\n",
            "Changing variable Risk\n",
            "  Changing Cash\n",
            "    Elasticity of usage [ 0. nan nan]\n",
            "    Elasticity of adopt [nan nan nan]\n",
            "  Changing Debit\n",
            "    Elasticity of usage [ 0. nan nan]\n",
            "    Elasticity of adopt [nan nan nan]\n",
            "  Changing Credit\n",
            "    Elasticity of usage [ 0. nan nan]\n",
            "    Elasticity of adopt [nan nan nan]\n",
            "Changing variable Tcost\n",
            "  Changing Cash\n",
            "    Elasticity of usage [ 0. nan nan]\n",
            "    Elasticity of adopt [nan nan nan]\n",
            "  Changing Debit\n",
            "    Elasticity of usage [ 0. nan nan]\n",
            "    Elasticity of adopt [nan nan nan]\n",
            "  Changing Credit\n",
            "    Elasticity of usage [ 0. nan nan]\n",
            "    Elasticity of adopt [nan nan nan]\n"
          ]
        }
      ],
      "source": [
        "eps = 1e-10\n",
        "var_idxs = [0, 1, 2, 4]\n",
        "var_name = ['Ease', 'Affordability', 'Risk', 'Tcost']\n",
        "mb_changed = [X_ca, X_dc, X_cc]\n",
        "mb_name = ['Cash', 'Debit', 'Credit']\n",
        "\n",
        "for j in range(len(var_idxs)):\n",
        "    print(\"Changing variable\", var_name[j])\n",
        "    varidx = var_idxs[j]\n",
        "\n",
        "    for i in range(len(mb_changed)):\n",
        "        var_changed = mb_changed[i]\n",
        "        print(\"  Changing\", mb_name[i])\n",
        "        # Compute the baseline value for elasticity\n",
        "        baseline_var = var_changed[year_idx, varidx]\n",
        "        baseline_var_pp = (torch.mm(nid_matrix, var_changed) / torch.mm(nid_matrix, torch.ones_like(Ms_0)))[nid[year_idx].unique().long(), varidx]\n",
        "\n",
        "        # Change the value by eps and compute the probability of usage and adopt\n",
        "        var_changed[:,varidx] = var_changed[:,varidx] + eps\n",
        "        avg_choice, avg_util = compute_avg_prob_util(mu, sd,\n",
        "                                alpha_ca, alpha_dc, alpha_cc,\n",
        "                                Ms_0, Ms_1, Ms_2, draws)\n",
        "        util_after_cost = avg_util + fixed_cost + variable_cost\n",
        "        likelihood = torch.nn.functional.softmax(util_after_cost, dim=1)\n",
        "\n",
        "        usage = avg_choice[year_idx]\n",
        "        adopt = likelihood[nid[year_idx].unique().long()]\n",
        "\n",
        "        # Compute the non-nan elasticity mean\n",
        "        e_usage = []\n",
        "        e_adopt = []\n",
        "        for k in range(3):\n",
        "            derivative = (usage - baseline_usage) / eps\n",
        "            elasticities = derivative[:,k] * baseline_var / baseline_usage[:,k]\n",
        "\n",
        "            # idx_notnan = 1 - torch.isnan(elasticities)\n",
        "            idx_notnan = ~torch.isnan(elasticities)\n",
        "            elasticities_nonan = elasticities[idx_notnan]\n",
        "            e_usage.append(elasticities_nonan.mean(0).detach().cpu().numpy())\n",
        "\n",
        "            derivative = (adopt - baseline_adopt) / eps\n",
        "            elasticities = derivative[:,k] * baseline_var_pp / baseline_adopt[:,k]\n",
        "\n",
        "            # idx_notnan = 1 - torch.isnan(elasticities)\n",
        "            idx_notnan = ~torch.isnan(elasticities)\n",
        "            elasticities_nonan = elasticities[idx_notnan]\n",
        "            e_adopt.append(elasticities_nonan.mean(0).detach().cpu().numpy())\n",
        "        print('    Elasticity of usage', np.array(e_usage).round(3))\n",
        "        print('    Elasticity of adopt', np.array(e_adopt).round(3))\n",
        "        var_changed[:,varidx] = var_changed[:,varidx] - eps"
      ]
    },
    {
      "cell_type": "markdown",
      "metadata": {
        "id": "8KA9QA5qlnJF"
      },
      "source": [
        "# Counterfactuals"
      ]
    },
    {
      "cell_type": "code",
      "execution_count": null,
      "metadata": {
        "id": "7YN2Z6Z2lnJF"
      },
      "outputs": [],
      "source": [
        "# Graphical settings\n",
        "plt.rcParams['figure.figsize'] = 8,6\n",
        "plt.rcParams.update({'font.size': 18})"
      ]
    },
    {
      "cell_type": "markdown",
      "metadata": {
        "id": "QqHoKtU7lnJG"
      },
      "source": [
        "### Settings for counterfactual"
      ]
    },
    {
      "cell_type": "code",
      "execution_count": null,
      "metadata": {
        "id": "tbeRZG2ulnJG"
      },
      "outputs": [],
      "source": [
        "# Cash like\n",
        "# X_bc = X_ca.clone()\n",
        "\n",
        "# Cheaper debit\n",
        "# X_bc = X_dc.clone()\n",
        "\n",
        "# Best of both\n",
        "X_bc = torch.max(X_ca, X_dc).clone()\n",
        "X_bc[:,4] = X_dc[:,4].clone()\n",
        "\n",
        "# Re-normalize the perception variables\n",
        "X_ca_renorm, X_bc_renorm, X_dc_renorm, X_cc_renorm = renormalize(X_bc)\n",
        "\n",
        "# Only in 2017\n",
        "y = 2017\n",
        "year_idx = (year == y)"
      ]
    },
    {
      "cell_type": "markdown",
      "metadata": {
        "id": "xp3I_XhalnJG"
      },
      "source": [
        "### Observed market share"
      ]
    },
    {
      "cell_type": "code",
      "execution_count": null,
      "metadata": {
        "colab": {
          "base_uri": "https://localhost:8080/",
          "height": 499
        },
        "id": "a0tJs8KjlnJG",
        "outputId": "af2edea0-c64b-4286-afbe-9c1665bfa0c4"
      },
      "outputs": [
        {
          "output_type": "display_data",
          "data": {
            "text/plain": [
              "<Figure size 800x600 with 1 Axes>"
            ],
            "image/png": "[encoded data removed]"
          },
          "metadata": {}
        }
      ],
      "source": [
        "plt.pie(di[year_idx].mean(0).detach().cpu(),\n",
        "        labels=['Cash', 'Debit', 'Credit'],\n",
        "        colors=['#E69F00', '#009E73', '#CC79A7'],\n",
        "        autopct='%3.1f')\n",
        "plt.show()"
      ]
    },
    {
      "cell_type": "markdown",
      "metadata": {
        "id": "ed48IeyxlnJG"
      },
      "source": [
        "### Counterfactual market share"
      ]
    },
    {
      "cell_type": "code",
      "execution_count": null,
      "metadata": {
        "scrolled": false,
        "colab": {
          "base_uri": "https://localhost:8080/",
          "height": 797
        },
        "id": "pNw3O0RLlnJG",
        "outputId": "8554ed73-dc98-49d3-8a22-c5d126e7fec8"
      },
      "outputs": [
        {
          "output_type": "stream",
          "name": "stdout",
          "text": [
            "Adopt prob [nan nan nan]\n",
            "Usage prob [nan nan nan nan]\n"
          ]
        },
        {
          "output_type": "error",
          "ename": "ValueError",
          "evalue": "ignored",
          "traceback": [
            "\u001b[0;31m---------------------------------------------------------------------------\u001b[0m",
            "\u001b[0;31mValueError\u001b[0m                                Traceback (most recent call last)",
            "\u001b[0;32m<ipython-input-108-12465c151699>\u001b[0m in \u001b[0;36m<cell line: 14>\u001b[0;34m()\u001b[0m\n\u001b[1;32m     12\u001b[0m \u001b[0mprint\u001b[0m\u001b[0;34m(\u001b[0m\u001b[0;34m'Usage prob'\u001b[0m\u001b[0;34m,\u001b[0m \u001b[0mavg_choice\u001b[0m\u001b[0;34m[\u001b[0m\u001b[0myear_idx\u001b[0m\u001b[0;34m]\u001b[0m\u001b[0;34m.\u001b[0m\u001b[0mmean\u001b[0m\u001b[0;34m(\u001b[0m\u001b[0;36m0\u001b[0m\u001b[0;34m)\u001b[0m\u001b[0;34m.\u001b[0m\u001b[0mdetach\u001b[0m\u001b[0;34m(\u001b[0m\u001b[0;34m)\u001b[0m\u001b[0;34m.\u001b[0m\u001b[0mcpu\u001b[0m\u001b[0;34m(\u001b[0m\u001b[0;34m)\u001b[0m\u001b[0;34m.\u001b[0m\u001b[0mnumpy\u001b[0m\u001b[0;34m(\u001b[0m\u001b[0;34m)\u001b[0m\u001b[0;34m)\u001b[0m\u001b[0;34m\u001b[0m\u001b[0;34m\u001b[0m\u001b[0m\n\u001b[1;32m     13\u001b[0m \u001b[0mplt\u001b[0m\u001b[0;34m.\u001b[0m\u001b[0mfigure\u001b[0m\u001b[0;34m(\u001b[0m\u001b[0mfigsize\u001b[0m\u001b[0;34m=\u001b[0m\u001b[0;34m(\u001b[0m\u001b[0;36m6\u001b[0m\u001b[0;34m,\u001b[0m\u001b[0;36m6\u001b[0m\u001b[0;34m)\u001b[0m\u001b[0;34m)\u001b[0m\u001b[0;34m\u001b[0m\u001b[0;34m\u001b[0m\u001b[0m\n\u001b[0;32m---> 14\u001b[0;31m plt.pie(avg_choice[year_idx].mean(0).detach().cpu(), \n\u001b[0m\u001b[1;32m     15\u001b[0m         \u001b[0mlabels\u001b[0m\u001b[0;34m=\u001b[0m\u001b[0;34m[\u001b[0m\u001b[0;34m'Cash'\u001b[0m\u001b[0;34m,\u001b[0m \u001b[0;34m'CBDC'\u001b[0m\u001b[0;34m,\u001b[0m \u001b[0;34m'Debit'\u001b[0m\u001b[0;34m,\u001b[0m \u001b[0;34m'Credit'\u001b[0m\u001b[0;34m]\u001b[0m\u001b[0;34m,\u001b[0m\u001b[0;34m\u001b[0m\u001b[0;34m\u001b[0m\u001b[0m\n\u001b[1;32m     16\u001b[0m         \u001b[0mcolors\u001b[0m\u001b[0;34m=\u001b[0m\u001b[0;34m[\u001b[0m\u001b[0;34m'#E69F00'\u001b[0m\u001b[0;34m,\u001b[0m \u001b[0;34m'#56B4E9'\u001b[0m\u001b[0;34m,\u001b[0m \u001b[0;34m'#009E73'\u001b[0m\u001b[0;34m,\u001b[0m \u001b[0;34m'#CC79A7'\u001b[0m\u001b[0;34m]\u001b[0m\u001b[0;34m,\u001b[0m\u001b[0;34m\u001b[0m\u001b[0;34m\u001b[0m\u001b[0m\n",
            "\u001b[0;32m/usr/local/lib/python3.10/dist-packages/matplotlib/pyplot.py\u001b[0m in \u001b[0;36mpie\u001b[0;34m(x, explode, labels, colors, autopct, pctdistance, shadow, labeldistance, startangle, radius, counterclock, wedgeprops, textprops, center, frame, rotatelabels, normalize, hatch, data)\u001b[0m\n\u001b[1;32m   2797\u001b[0m         \u001b[0mtextprops\u001b[0m\u001b[0;34m=\u001b[0m\u001b[0;32mNone\u001b[0m\u001b[0;34m,\u001b[0m \u001b[0mcenter\u001b[0m\u001b[0;34m=\u001b[0m\u001b[0;34m(\u001b[0m\u001b[0;36m0\u001b[0m\u001b[0;34m,\u001b[0m \u001b[0;36m0\u001b[0m\u001b[0;34m)\u001b[0m\u001b[0;34m,\u001b[0m \u001b[0mframe\u001b[0m\u001b[0;34m=\u001b[0m\u001b[0;32mFalse\u001b[0m\u001b[0;34m,\u001b[0m\u001b[0;34m\u001b[0m\u001b[0;34m\u001b[0m\u001b[0m\n\u001b[1;32m   2798\u001b[0m         rotatelabels=False, *, normalize=True, hatch=None, data=None):\n\u001b[0;32m-> 2799\u001b[0;31m     return gca().pie(\n\u001b[0m\u001b[1;32m   2800\u001b[0m         \u001b[0mx\u001b[0m\u001b[0;34m,\u001b[0m \u001b[0mexplode\u001b[0m\u001b[0;34m=\u001b[0m\u001b[0mexplode\u001b[0m\u001b[0;34m,\u001b[0m \u001b[0mlabels\u001b[0m\u001b[0;34m=\u001b[0m\u001b[0mlabels\u001b[0m\u001b[0;34m,\u001b[0m \u001b[0mcolors\u001b[0m\u001b[0;34m=\u001b[0m\u001b[0mcolors\u001b[0m\u001b[0;34m,\u001b[0m\u001b[0;34m\u001b[0m\u001b[0;34m\u001b[0m\u001b[0m\n\u001b[1;32m   2801\u001b[0m         \u001b[0mautopct\u001b[0m\u001b[0;34m=\u001b[0m\u001b[0mautopct\u001b[0m\u001b[0;34m,\u001b[0m \u001b[0mpctdistance\u001b[0m\u001b[0;34m=\u001b[0m\u001b[0mpctdistance\u001b[0m\u001b[0;34m,\u001b[0m \u001b[0mshadow\u001b[0m\u001b[0;34m=\u001b[0m\u001b[0mshadow\u001b[0m\u001b[0;34m,\u001b[0m\u001b[0;34m\u001b[0m\u001b[0;34m\u001b[0m\u001b[0m\n",
            "\u001b[0;32m/usr/local/lib/python3.10/dist-packages/matplotlib/__init__.py\u001b[0m in \u001b[0;36minner\u001b[0;34m(ax, data, *args, **kwargs)\u001b[0m\n\u001b[1;32m   1440\u001b[0m     \u001b[0;32mdef\u001b[0m \u001b[0minner\u001b[0m\u001b[0;34m(\u001b[0m\u001b[0max\u001b[0m\u001b[0;34m,\u001b[0m \u001b[0;34m*\u001b[0m\u001b[0margs\u001b[0m\u001b[0;34m,\u001b[0m \u001b[0mdata\u001b[0m\u001b[0;34m=\u001b[0m\u001b[0;32mNone\u001b[0m\u001b[0;34m,\u001b[0m \u001b[0;34m**\u001b[0m\u001b[0mkwargs\u001b[0m\u001b[0;34m)\u001b[0m\u001b[0;34m:\u001b[0m\u001b[0;34m\u001b[0m\u001b[0;34m\u001b[0m\u001b[0m\n\u001b[1;32m   1441\u001b[0m         \u001b[0;32mif\u001b[0m \u001b[0mdata\u001b[0m \u001b[0;32mis\u001b[0m \u001b[0;32mNone\u001b[0m\u001b[0;34m:\u001b[0m\u001b[0;34m\u001b[0m\u001b[0;34m\u001b[0m\u001b[0m\n\u001b[0;32m-> 1442\u001b[0;31m             \u001b[0;32mreturn\u001b[0m \u001b[0mfunc\u001b[0m\u001b[0;34m(\u001b[0m\u001b[0max\u001b[0m\u001b[0;34m,\u001b[0m \u001b[0;34m*\u001b[0m\u001b[0mmap\u001b[0m\u001b[0;34m(\u001b[0m\u001b[0msanitize_sequence\u001b[0m\u001b[0;34m,\u001b[0m \u001b[0margs\u001b[0m\u001b[0;34m)\u001b[0m\u001b[0;34m,\u001b[0m \u001b[0;34m**\u001b[0m\u001b[0mkwargs\u001b[0m\u001b[0;34m)\u001b[0m\u001b[0;34m\u001b[0m\u001b[0;34m\u001b[0m\u001b[0m\n\u001b[0m\u001b[1;32m   1443\u001b[0m \u001b[0;34m\u001b[0m\u001b[0m\n\u001b[1;32m   1444\u001b[0m         \u001b[0mbound\u001b[0m \u001b[0;34m=\u001b[0m \u001b[0mnew_sig\u001b[0m\u001b[0;34m.\u001b[0m\u001b[0mbind\u001b[0m\u001b[0;34m(\u001b[0m\u001b[0max\u001b[0m\u001b[0;34m,\u001b[0m \u001b[0;34m*\u001b[0m\u001b[0margs\u001b[0m\u001b[0;34m,\u001b[0m \u001b[0;34m**\u001b[0m\u001b[0mkwargs\u001b[0m\u001b[0;34m)\u001b[0m\u001b[0;34m\u001b[0m\u001b[0;34m\u001b[0m\u001b[0m\n",
            "\u001b[0;32m/usr/local/lib/python3.10/dist-packages/matplotlib/axes/_axes.py\u001b[0m in \u001b[0;36mpie\u001b[0;34m(self, x, explode, labels, colors, autopct, pctdistance, shadow, labeldistance, startangle, radius, counterclock, wedgeprops, textprops, center, frame, rotatelabels, normalize, hatch)\u001b[0m\n\u001b[1;32m   3243\u001b[0m             \u001b[0my\u001b[0m \u001b[0;34m+=\u001b[0m \u001b[0mexpl\u001b[0m \u001b[0;34m*\u001b[0m \u001b[0mmath\u001b[0m\u001b[0;34m.\u001b[0m\u001b[0msin\u001b[0m\u001b[0;34m(\u001b[0m\u001b[0mthetam\u001b[0m\u001b[0;34m)\u001b[0m\u001b[0;34m\u001b[0m\u001b[0;34m\u001b[0m\u001b[0m\n\u001b[1;32m   3244\u001b[0m \u001b[0;34m\u001b[0m\u001b[0m\n\u001b[0;32m-> 3245\u001b[0;31m             w = mpatches.Wedge((x, y), radius, 360. * min(theta1, theta2),\n\u001b[0m\u001b[1;32m   3246\u001b[0m                                \u001b[0;36m360.\u001b[0m \u001b[0;34m*\u001b[0m \u001b[0mmax\u001b[0m\u001b[0;34m(\u001b[0m\u001b[0mtheta1\u001b[0m\u001b[0;34m,\u001b[0m \u001b[0mtheta2\u001b[0m\u001b[0;34m)\u001b[0m\u001b[0;34m,\u001b[0m\u001b[0;34m\u001b[0m\u001b[0;34m\u001b[0m\u001b[0m\n\u001b[1;32m   3247\u001b[0m                                \u001b[0mfacecolor\u001b[0m\u001b[0;34m=\u001b[0m\u001b[0mget_next_color\u001b[0m\u001b[0;34m(\u001b[0m\u001b[0;34m)\u001b[0m\u001b[0;34m,\u001b[0m\u001b[0;34m\u001b[0m\u001b[0;34m\u001b[0m\u001b[0m\n",
            "\u001b[0;32m/usr/local/lib/python3.10/dist-packages/matplotlib/_api/deprecation.py\u001b[0m in \u001b[0;36mwrapper\u001b[0;34m(*args, **kwargs)\u001b[0m\n\u001b[1;32m    452\u001b[0m                 \u001b[0;34m\"parameter will become keyword-only %(removal)s.\"\u001b[0m\u001b[0;34m,\u001b[0m\u001b[0;34m\u001b[0m\u001b[0;34m\u001b[0m\u001b[0m\n\u001b[1;32m    453\u001b[0m                 name=name, obj_type=f\"parameter of {func.__name__}()\")\n\u001b[0;32m--> 454\u001b[0;31m         \u001b[0;32mreturn\u001b[0m \u001b[0mfunc\u001b[0m\u001b[0;34m(\u001b[0m\u001b[0;34m*\u001b[0m\u001b[0margs\u001b[0m\u001b[0;34m,\u001b[0m \u001b[0;34m**\u001b[0m\u001b[0mkwargs\u001b[0m\u001b[0;34m)\u001b[0m\u001b[0;34m\u001b[0m\u001b[0;34m\u001b[0m\u001b[0m\n\u001b[0m\u001b[1;32m    455\u001b[0m \u001b[0;34m\u001b[0m\u001b[0m\n\u001b[1;32m    456\u001b[0m     \u001b[0;31m# Don't modify *func*'s signature, as boilerplate.py needs it.\u001b[0m\u001b[0;34m\u001b[0m\u001b[0;34m\u001b[0m\u001b[0m\n",
            "\u001b[0;32m/usr/local/lib/python3.10/dist-packages/matplotlib/patches.py\u001b[0m in \u001b[0;36m__init__\u001b[0;34m(self, center, r, theta1, theta2, width, **kwargs)\u001b[0m\n\u001b[1;32m   1193\u001b[0m         \u001b[0mself\u001b[0m\u001b[0;34m.\u001b[0m\u001b[0mtheta1\u001b[0m\u001b[0;34m,\u001b[0m \u001b[0mself\u001b[0m\u001b[0;34m.\u001b[0m\u001b[0mtheta2\u001b[0m \u001b[0;34m=\u001b[0m \u001b[0mtheta1\u001b[0m\u001b[0;34m,\u001b[0m \u001b[0mtheta2\u001b[0m\u001b[0;34m\u001b[0m\u001b[0;34m\u001b[0m\u001b[0m\n\u001b[1;32m   1194\u001b[0m         \u001b[0mself\u001b[0m\u001b[0;34m.\u001b[0m\u001b[0m_patch_transform\u001b[0m \u001b[0;34m=\u001b[0m \u001b[0mtransforms\u001b[0m\u001b[0;34m.\u001b[0m\u001b[0mIdentityTransform\u001b[0m\u001b[0;34m(\u001b[0m\u001b[0;34m)\u001b[0m\u001b[0;34m\u001b[0m\u001b[0;34m\u001b[0m\u001b[0m\n\u001b[0;32m-> 1195\u001b[0;31m         \u001b[0mself\u001b[0m\u001b[0;34m.\u001b[0m\u001b[0m_recompute_path\u001b[0m\u001b[0;34m(\u001b[0m\u001b[0;34m)\u001b[0m\u001b[0;34m\u001b[0m\u001b[0;34m\u001b[0m\u001b[0m\n\u001b[0m\u001b[1;32m   1196\u001b[0m \u001b[0;34m\u001b[0m\u001b[0m\n\u001b[1;32m   1197\u001b[0m     \u001b[0;32mdef\u001b[0m \u001b[0m_recompute_path\u001b[0m\u001b[0;34m(\u001b[0m\u001b[0mself\u001b[0m\u001b[0;34m)\u001b[0m\u001b[0;34m:\u001b[0m\u001b[0;34m\u001b[0m\u001b[0;34m\u001b[0m\u001b[0m\n",
            "\u001b[0;32m/usr/local/lib/python3.10/dist-packages/matplotlib/patches.py\u001b[0m in \u001b[0;36m_recompute_path\u001b[0;34m(self)\u001b[0m\n\u001b[1;32m   1205\u001b[0m \u001b[0;34m\u001b[0m\u001b[0m\n\u001b[1;32m   1206\u001b[0m         \u001b[0;31m# Form the outer ring\u001b[0m\u001b[0;34m\u001b[0m\u001b[0;34m\u001b[0m\u001b[0m\n\u001b[0;32m-> 1207\u001b[0;31m         \u001b[0marc\u001b[0m \u001b[0;34m=\u001b[0m \u001b[0mPath\u001b[0m\u001b[0;34m.\u001b[0m\u001b[0marc\u001b[0m\u001b[0;34m(\u001b[0m\u001b[0mtheta1\u001b[0m\u001b[0;34m,\u001b[0m \u001b[0mtheta2\u001b[0m\u001b[0;34m)\u001b[0m\u001b[0;34m\u001b[0m\u001b[0;34m\u001b[0m\u001b[0m\n\u001b[0m\u001b[1;32m   1208\u001b[0m \u001b[0;34m\u001b[0m\u001b[0m\n\u001b[1;32m   1209\u001b[0m         \u001b[0;32mif\u001b[0m \u001b[0mself\u001b[0m\u001b[0;34m.\u001b[0m\u001b[0mwidth\u001b[0m \u001b[0;32mis\u001b[0m \u001b[0;32mnot\u001b[0m \u001b[0;32mNone\u001b[0m\u001b[0;34m:\u001b[0m\u001b[0;34m\u001b[0m\u001b[0;34m\u001b[0m\u001b[0m\n",
            "\u001b[0;32m/usr/local/lib/python3.10/dist-packages/matplotlib/path.py\u001b[0m in \u001b[0;36marc\u001b[0;34m(cls, theta1, theta2, n, is_wedge)\u001b[0m\n\u001b[1;32m    952\u001b[0m         \u001b[0;31m# number of curve segments to make\u001b[0m\u001b[0;34m\u001b[0m\u001b[0;34m\u001b[0m\u001b[0m\n\u001b[1;32m    953\u001b[0m         \u001b[0;32mif\u001b[0m \u001b[0mn\u001b[0m \u001b[0;32mis\u001b[0m \u001b[0;32mNone\u001b[0m\u001b[0;34m:\u001b[0m\u001b[0;34m\u001b[0m\u001b[0;34m\u001b[0m\u001b[0m\n\u001b[0;32m--> 954\u001b[0;31m             \u001b[0mn\u001b[0m \u001b[0;34m=\u001b[0m \u001b[0mint\u001b[0m\u001b[0;34m(\u001b[0m\u001b[0;36m2\u001b[0m \u001b[0;34m**\u001b[0m \u001b[0mnp\u001b[0m\u001b[0;34m.\u001b[0m\u001b[0mceil\u001b[0m\u001b[0;34m(\u001b[0m\u001b[0;34m(\u001b[0m\u001b[0meta2\u001b[0m \u001b[0;34m-\u001b[0m \u001b[0meta1\u001b[0m\u001b[0;34m)\u001b[0m \u001b[0;34m/\u001b[0m \u001b[0mhalfpi\u001b[0m\u001b[0;34m)\u001b[0m\u001b[0;34m)\u001b[0m\u001b[0;34m\u001b[0m\u001b[0;34m\u001b[0m\u001b[0m\n\u001b[0m\u001b[1;32m    955\u001b[0m         \u001b[0;32mif\u001b[0m \u001b[0mn\u001b[0m \u001b[0;34m<\u001b[0m \u001b[0;36m1\u001b[0m\u001b[0;34m:\u001b[0m\u001b[0;34m\u001b[0m\u001b[0;34m\u001b[0m\u001b[0m\n\u001b[1;32m    956\u001b[0m             \u001b[0;32mraise\u001b[0m \u001b[0mValueError\u001b[0m\u001b[0;34m(\u001b[0m\u001b[0;34m\"n must be >= 1 or None\"\u001b[0m\u001b[0;34m)\u001b[0m\u001b[0;34m\u001b[0m\u001b[0;34m\u001b[0m\u001b[0m\n",
            "\u001b[0;31mValueError\u001b[0m: cannot convert float NaN to integer"
          ]
        },
        {
          "output_type": "stream",
          "name": "stderr",
          "text": [
            "WARNING:matplotlib.text:posx and posy should be finite values\n",
            "WARNING:matplotlib.text:posx and posy should be finite values\n",
            "WARNING:matplotlib.text:posx and posy should be finite values\n",
            "WARNING:matplotlib.text:posx and posy should be finite values\n"
          ]
        },
        {
          "output_type": "error",
          "ename": "ValueError",
          "evalue": "ignored",
          "traceback": [
            "\u001b[0;31m---------------------------------------------------------------------------\u001b[0m",
            "\u001b[0;31mValueError\u001b[0m                                Traceback (most recent call last)",
            "\u001b[0;32m/usr/local/lib/python3.10/dist-packages/IPython/core/formatters.py\u001b[0m in \u001b[0;36m__call__\u001b[0;34m(self, obj)\u001b[0m\n\u001b[1;32m    339\u001b[0m                 \u001b[0;32mpass\u001b[0m\u001b[0;34m\u001b[0m\u001b[0;34m\u001b[0m\u001b[0m\n\u001b[1;32m    340\u001b[0m             \u001b[0;32melse\u001b[0m\u001b[0;34m:\u001b[0m\u001b[0;34m\u001b[0m\u001b[0;34m\u001b[0m\u001b[0m\n\u001b[0;32m--> 341\u001b[0;31m                 \u001b[0;32mreturn\u001b[0m \u001b[0mprinter\u001b[0m\u001b[0;34m(\u001b[0m\u001b[0mobj\u001b[0m\u001b[0;34m)\u001b[0m\u001b[0;34m\u001b[0m\u001b[0;34m\u001b[0m\u001b[0m\n\u001b[0m\u001b[1;32m    342\u001b[0m             \u001b[0;31m# Finally look for special method names\u001b[0m\u001b[0;34m\u001b[0m\u001b[0;34m\u001b[0m\u001b[0m\n\u001b[1;32m    343\u001b[0m             \u001b[0mmethod\u001b[0m \u001b[0;34m=\u001b[0m \u001b[0mget_real_method\u001b[0m\u001b[0;34m(\u001b[0m\u001b[0mobj\u001b[0m\u001b[0;34m,\u001b[0m \u001b[0mself\u001b[0m\u001b[0;34m.\u001b[0m\u001b[0mprint_method\u001b[0m\u001b[0;34m)\u001b[0m\u001b[0;34m\u001b[0m\u001b[0;34m\u001b[0m\u001b[0m\n",
            "\u001b[0;32m/usr/local/lib/python3.10/dist-packages/IPython/core/pylabtools.py\u001b[0m in \u001b[0;36mprint_figure\u001b[0;34m(fig, fmt, bbox_inches, base64, **kwargs)\u001b[0m\n\u001b[1;32m    149\u001b[0m         \u001b[0mFigureCanvasBase\u001b[0m\u001b[0;34m(\u001b[0m\u001b[0mfig\u001b[0m\u001b[0;34m)\u001b[0m\u001b[0;34m\u001b[0m\u001b[0;34m\u001b[0m\u001b[0m\n\u001b[1;32m    150\u001b[0m \u001b[0;34m\u001b[0m\u001b[0m\n\u001b[0;32m--> 151\u001b[0;31m     \u001b[0mfig\u001b[0m\u001b[0;34m.\u001b[0m\u001b[0mcanvas\u001b[0m\u001b[0;34m.\u001b[0m\u001b[0mprint_figure\u001b[0m\u001b[0;34m(\u001b[0m\u001b[0mbytes_io\u001b[0m\u001b[0;34m,\u001b[0m \u001b[0;34m**\u001b[0m\u001b[0mkw\u001b[0m\u001b[0;34m)\u001b[0m\u001b[0;34m\u001b[0m\u001b[0;34m\u001b[0m\u001b[0m\n\u001b[0m\u001b[1;32m    152\u001b[0m     \u001b[0mdata\u001b[0m \u001b[0;34m=\u001b[0m \u001b[0mbytes_io\u001b[0m\u001b[0;34m.\u001b[0m\u001b[0mgetvalue\u001b[0m\u001b[0;34m(\u001b[0m\u001b[0;34m)\u001b[0m\u001b[0;34m\u001b[0m\u001b[0;34m\u001b[0m\u001b[0m\n\u001b[1;32m    153\u001b[0m     \u001b[0;32mif\u001b[0m \u001b[0mfmt\u001b[0m \u001b[0;34m==\u001b[0m \u001b[0;34m'svg'\u001b[0m\u001b[0;34m:\u001b[0m\u001b[0;34m\u001b[0m\u001b[0;34m\u001b[0m\u001b[0m\n",
            "\u001b[0;32m/usr/local/lib/python3.10/dist-packages/matplotlib/backend_bases.py\u001b[0m in \u001b[0;36mprint_figure\u001b[0;34m(self, filename, dpi, facecolor, edgecolor, orientation, format, bbox_inches, pad_inches, bbox_extra_artists, backend, **kwargs)\u001b[0m\n\u001b[1;32m   2344\u001b[0m             \u001b[0;32mif\u001b[0m \u001b[0mbbox_inches\u001b[0m\u001b[0;34m:\u001b[0m\u001b[0;34m\u001b[0m\u001b[0;34m\u001b[0m\u001b[0m\n\u001b[1;32m   2345\u001b[0m                 \u001b[0;32mif\u001b[0m \u001b[0mbbox_inches\u001b[0m \u001b[0;34m==\u001b[0m \u001b[0;34m\"tight\"\u001b[0m\u001b[0;34m:\u001b[0m\u001b[0;34m\u001b[0m\u001b[0;34m\u001b[0m\u001b[0m\n\u001b[0;32m-> 2346\u001b[0;31m                     bbox_inches = self.figure.get_tightbbox(\n\u001b[0m\u001b[1;32m   2347\u001b[0m                         renderer, bbox_extra_artists=bbox_extra_artists)\n\u001b[1;32m   2348\u001b[0m                     \u001b[0;32mif\u001b[0m \u001b[0mpad_inches\u001b[0m \u001b[0;32mis\u001b[0m \u001b[0;32mNone\u001b[0m\u001b[0;34m:\u001b[0m\u001b[0;34m\u001b[0m\u001b[0;34m\u001b[0m\u001b[0m\n",
            "\u001b[0;32m/usr/local/lib/python3.10/dist-packages/matplotlib/figure.py\u001b[0m in \u001b[0;36mget_tightbbox\u001b[0;34m(self, renderer, bbox_extra_artists)\u001b[0m\n\u001b[1;32m   1742\u001b[0m \u001b[0;34m\u001b[0m\u001b[0m\n\u001b[1;32m   1743\u001b[0m         \u001b[0;32mfor\u001b[0m \u001b[0ma\u001b[0m \u001b[0;32min\u001b[0m \u001b[0martists\u001b[0m\u001b[0;34m:\u001b[0m\u001b[0;34m\u001b[0m\u001b[0;34m\u001b[0m\u001b[0m\n\u001b[0;32m-> 1744\u001b[0;31m             \u001b[0mbbox\u001b[0m \u001b[0;34m=\u001b[0m \u001b[0ma\u001b[0m\u001b[0;34m.\u001b[0m\u001b[0mget_tightbbox\u001b[0m\u001b[0;34m(\u001b[0m\u001b[0mrenderer\u001b[0m\u001b[0;34m)\u001b[0m\u001b[0;34m\u001b[0m\u001b[0;34m\u001b[0m\u001b[0m\n\u001b[0m\u001b[1;32m   1745\u001b[0m             \u001b[0;32mif\u001b[0m \u001b[0mbbox\u001b[0m \u001b[0;32mis\u001b[0m \u001b[0;32mnot\u001b[0m \u001b[0;32mNone\u001b[0m\u001b[0;34m:\u001b[0m\u001b[0;34m\u001b[0m\u001b[0;34m\u001b[0m\u001b[0m\n\u001b[1;32m   1746\u001b[0m                 \u001b[0mbb\u001b[0m\u001b[0;34m.\u001b[0m\u001b[0mappend\u001b[0m\u001b[0;34m(\u001b[0m\u001b[0mbbox\u001b[0m\u001b[0;34m)\u001b[0m\u001b[0;34m\u001b[0m\u001b[0;34m\u001b[0m\u001b[0m\n",
            "\u001b[0;32m/usr/local/lib/python3.10/dist-packages/matplotlib/axes/_base.py\u001b[0m in \u001b[0;36mget_tightbbox\u001b[0;34m(self, renderer, call_axes_locator, bbox_extra_artists, for_layout_only)\u001b[0m\n\u001b[1;32m   4406\u001b[0m \u001b[0;34m\u001b[0m\u001b[0m\n\u001b[1;32m   4407\u001b[0m         \u001b[0;32mfor\u001b[0m \u001b[0ma\u001b[0m \u001b[0;32min\u001b[0m \u001b[0mbbox_artists\u001b[0m\u001b[0;34m:\u001b[0m\u001b[0;34m\u001b[0m\u001b[0;34m\u001b[0m\u001b[0m\n\u001b[0;32m-> 4408\u001b[0;31m             \u001b[0mbbox\u001b[0m \u001b[0;34m=\u001b[0m \u001b[0ma\u001b[0m\u001b[0;34m.\u001b[0m\u001b[0mget_tightbbox\u001b[0m\u001b[0;34m(\u001b[0m\u001b[0mrenderer\u001b[0m\u001b[0;34m)\u001b[0m\u001b[0;34m\u001b[0m\u001b[0;34m\u001b[0m\u001b[0m\n\u001b[0m\u001b[1;32m   4409\u001b[0m             if (bbox is not None\n\u001b[1;32m   4410\u001b[0m                     \u001b[0;32mand\u001b[0m \u001b[0;36m0\u001b[0m \u001b[0;34m<\u001b[0m \u001b[0mbbox\u001b[0m\u001b[0;34m.\u001b[0m\u001b[0mwidth\u001b[0m \u001b[0;34m<\u001b[0m \u001b[0mnp\u001b[0m\u001b[0;34m.\u001b[0m\u001b[0minf\u001b[0m\u001b[0;34m\u001b[0m\u001b[0;34m\u001b[0m\u001b[0m\n",
            "\u001b[0;32m/usr/local/lib/python3.10/dist-packages/matplotlib/artist.py\u001b[0m in \u001b[0;36mget_tightbbox\u001b[0;34m(self, renderer)\u001b[0m\n\u001b[1;32m    365\u001b[0m             \u001b[0mThe\u001b[0m \u001b[0menclosing\u001b[0m \u001b[0mbounding\u001b[0m \u001b[0mbox\u001b[0m \u001b[0;34m(\u001b[0m\u001b[0;32min\u001b[0m \u001b[0mfigure\u001b[0m \u001b[0mpixel\u001b[0m \u001b[0mcoordinates\u001b[0m\u001b[0;34m)\u001b[0m\u001b[0;34m.\u001b[0m\u001b[0;34m\u001b[0m\u001b[0;34m\u001b[0m\u001b[0m\n\u001b[1;32m    366\u001b[0m         \"\"\"\n\u001b[0;32m--> 367\u001b[0;31m         \u001b[0mbbox\u001b[0m \u001b[0;34m=\u001b[0m \u001b[0mself\u001b[0m\u001b[0;34m.\u001b[0m\u001b[0mget_window_extent\u001b[0m\u001b[0;34m(\u001b[0m\u001b[0mrenderer\u001b[0m\u001b[0;34m)\u001b[0m\u001b[0;34m\u001b[0m\u001b[0;34m\u001b[0m\u001b[0m\n\u001b[0m\u001b[1;32m    368\u001b[0m         \u001b[0;32mif\u001b[0m \u001b[0mself\u001b[0m\u001b[0;34m.\u001b[0m\u001b[0mget_clip_on\u001b[0m\u001b[0;34m(\u001b[0m\u001b[0;34m)\u001b[0m\u001b[0;34m:\u001b[0m\u001b[0;34m\u001b[0m\u001b[0;34m\u001b[0m\u001b[0m\n\u001b[1;32m    369\u001b[0m             \u001b[0mclip_box\u001b[0m \u001b[0;34m=\u001b[0m \u001b[0mself\u001b[0m\u001b[0;34m.\u001b[0m\u001b[0mget_clip_box\u001b[0m\u001b[0;34m(\u001b[0m\u001b[0;34m)\u001b[0m\u001b[0;34m\u001b[0m\u001b[0;34m\u001b[0m\u001b[0m\n",
            "\u001b[0;32m/usr/local/lib/python3.10/dist-packages/matplotlib/patches.py\u001b[0m in \u001b[0;36mget_window_extent\u001b[0;34m(self, renderer)\u001b[0m\n\u001b[1;32m    602\u001b[0m \u001b[0;34m\u001b[0m\u001b[0m\n\u001b[1;32m    603\u001b[0m     \u001b[0;32mdef\u001b[0m \u001b[0mget_window_extent\u001b[0m\u001b[0;34m(\u001b[0m\u001b[0mself\u001b[0m\u001b[0;34m,\u001b[0m \u001b[0mrenderer\u001b[0m\u001b[0;34m=\u001b[0m\u001b[0;32mNone\u001b[0m\u001b[0;34m)\u001b[0m\u001b[0;34m:\u001b[0m\u001b[0;34m\u001b[0m\u001b[0;34m\u001b[0m\u001b[0m\n\u001b[0;32m--> 604\u001b[0;31m         \u001b[0;32mreturn\u001b[0m \u001b[0mself\u001b[0m\u001b[0;34m.\u001b[0m\u001b[0mget_path\u001b[0m\u001b[0;34m(\u001b[0m\u001b[0;34m)\u001b[0m\u001b[0;34m.\u001b[0m\u001b[0mget_extents\u001b[0m\u001b[0;34m(\u001b[0m\u001b[0mself\u001b[0m\u001b[0;34m.\u001b[0m\u001b[0mget_transform\u001b[0m\u001b[0;34m(\u001b[0m\u001b[0;34m)\u001b[0m\u001b[0;34m)\u001b[0m\u001b[0;34m\u001b[0m\u001b[0;34m\u001b[0m\u001b[0m\n\u001b[0m\u001b[1;32m    605\u001b[0m \u001b[0;34m\u001b[0m\u001b[0m\n\u001b[1;32m    606\u001b[0m     \u001b[0;32mdef\u001b[0m \u001b[0m_convert_xy_units\u001b[0m\u001b[0;34m(\u001b[0m\u001b[0mself\u001b[0m\u001b[0;34m,\u001b[0m \u001b[0mxy\u001b[0m\u001b[0;34m)\u001b[0m\u001b[0;34m:\u001b[0m\u001b[0;34m\u001b[0m\u001b[0;34m\u001b[0m\u001b[0m\n",
            "\u001b[0;32m/usr/local/lib/python3.10/dist-packages/matplotlib/path.py\u001b[0m in \u001b[0;36mget_extents\u001b[0;34m(self, transform, **kwargs)\u001b[0m\n\u001b[1;32m    636\u001b[0m                 \u001b[0;31m# as can the ends of the curve\u001b[0m\u001b[0;34m\u001b[0m\u001b[0;34m\u001b[0m\u001b[0m\n\u001b[1;32m    637\u001b[0m                 \u001b[0mxys\u001b[0m\u001b[0;34m.\u001b[0m\u001b[0mappend\u001b[0m\u001b[0;34m(\u001b[0m\u001b[0mcurve\u001b[0m\u001b[0;34m(\u001b[0m\u001b[0;34m[\u001b[0m\u001b[0;36m0\u001b[0m\u001b[0;34m,\u001b[0m \u001b[0;34m*\u001b[0m\u001b[0mdzeros\u001b[0m\u001b[0;34m,\u001b[0m \u001b[0;36m1\u001b[0m\u001b[0;34m]\u001b[0m\u001b[0;34m)\u001b[0m\u001b[0;34m)\u001b[0m\u001b[0;34m\u001b[0m\u001b[0;34m\u001b[0m\u001b[0m\n\u001b[0;32m--> 638\u001b[0;31m             \u001b[0mxys\u001b[0m \u001b[0;34m=\u001b[0m \u001b[0mnp\u001b[0m\u001b[0;34m.\u001b[0m\u001b[0mconcatenate\u001b[0m\u001b[0;34m(\u001b[0m\u001b[0mxys\u001b[0m\u001b[0;34m)\u001b[0m\u001b[0;34m\u001b[0m\u001b[0;34m\u001b[0m\u001b[0m\n\u001b[0m\u001b[1;32m    639\u001b[0m         \u001b[0;32mif\u001b[0m \u001b[0mlen\u001b[0m\u001b[0;34m(\u001b[0m\u001b[0mxys\u001b[0m\u001b[0;34m)\u001b[0m\u001b[0;34m:\u001b[0m\u001b[0;34m\u001b[0m\u001b[0;34m\u001b[0m\u001b[0m\n\u001b[1;32m    640\u001b[0m             \u001b[0;32mreturn\u001b[0m \u001b[0mBbox\u001b[0m\u001b[0;34m(\u001b[0m\u001b[0;34m[\u001b[0m\u001b[0mxys\u001b[0m\u001b[0;34m.\u001b[0m\u001b[0mmin\u001b[0m\u001b[0;34m(\u001b[0m\u001b[0maxis\u001b[0m\u001b[0;34m=\u001b[0m\u001b[0;36m0\u001b[0m\u001b[0;34m)\u001b[0m\u001b[0;34m,\u001b[0m \u001b[0mxys\u001b[0m\u001b[0;34m.\u001b[0m\u001b[0mmax\u001b[0m\u001b[0;34m(\u001b[0m\u001b[0maxis\u001b[0m\u001b[0;34m=\u001b[0m\u001b[0;36m0\u001b[0m\u001b[0;34m)\u001b[0m\u001b[0;34m]\u001b[0m\u001b[0;34m)\u001b[0m\u001b[0;34m\u001b[0m\u001b[0;34m\u001b[0m\u001b[0m\n",
            "\u001b[0;32m/usr/local/lib/python3.10/dist-packages/numpy/core/overrides.py\u001b[0m in \u001b[0;36mconcatenate\u001b[0;34m(*args, **kwargs)\u001b[0m\n",
            "\u001b[0;31mValueError\u001b[0m: need at least one array to concatenate"
          ]
        },
        {
          "output_type": "display_data",
          "data": {
            "text/plain": [
              "<Figure size 600x600 with 1 Axes>"
            ]
          },
          "metadata": {}
        }
      ],
      "source": [
        "mu, sd, alpha_ca, alpha_dc,\\\n",
        "    alpha_cc, F, gamma, draws, l = get_params_from('spec3_mix_cs.npy')\n",
        "\n",
        "# Set CBDC mlogit params\n",
        "alpha_bc = alpha_dc\n",
        "\n",
        "avg_choice, avg_adopt = compute_avg_prob_util_ctf(X_ca_renorm, X_dc_renorm, X_cc_renorm, X_bc_renorm,\n",
        "                        mu, sd, alpha_ca, alpha_dc, alpha_cc, alpha_bc, F, gamma,\n",
        "                        Ms_0, Ms_1, Ms_2, draws)\n",
        "\n",
        "print('Adopt prob', avg_adopt[nid[year_idx].unique().long()].mean(0).detach().cpu().numpy())\n",
        "print('Usage prob', avg_choice[year_idx].mean(0).detach().cpu().numpy())\n",
        "plt.figure(figsize=(6,6))\n",
        "plt.pie(avg_choice[year_idx].mean(0).detach().cpu(),\n",
        "        labels=['Cash', 'CBDC', 'Debit', 'Credit'],\n",
        "        colors=['#E69F00', '#56B4E9', '#009E73', '#CC79A7'],\n",
        "        autopct='%3.1f')\n",
        "plt.show()"
      ]
    },
    {
      "cell_type": "markdown",
      "metadata": {
        "id": "_PovwHumlnJG"
      },
      "source": [
        "### Contribution of each variable to utility"
      ]
    },
    {
      "cell_type": "code",
      "execution_count": null,
      "metadata": {
        "colab": {
          "base_uri": "https://localhost:8080/",
          "height": 602
        },
        "id": "J_WQQeghlnJG",
        "outputId": "3ec3692e-7821-4816-b580-8edbd1676c02"
      },
      "outputs": [
        {
          "output_type": "stream",
          "name": "stdout",
          "text": [
            "Util mean CA [nan nan nan nan nan]\n",
            "Util mean DC [nan nan nan nan nan]\n",
            "Util mean CC [nan nan nan nan nan]\n"
          ]
        },
        {
          "output_type": "display_data",
          "data": {
            "text/plain": [
              "<Figure size 800x600 with 1 Axes>"
            ],
            "image/png": "[encoded data removed]"
          },
          "metadata": {}
        }
      ],
      "source": [
        "# Compute the utility from the X variables and population mean\n",
        "util_ca = (X_ca * mu.repeat(Zbj.shape[0],1))[year_idx]\n",
        "util_dc = (X_dc * mu.repeat(Zbj.shape[0],1))[year_idx]\n",
        "util_cc = (X_cc * mu.repeat(Zbj.shape[0],1))[year_idx]\n",
        "util_ca_mean = util_ca.mean(0)\n",
        "util_dc_mean = util_dc.mean(0)\n",
        "util_cc_mean = util_cc.mean(0)\n",
        "\n",
        "print('Util mean CA', util_ca_mean.abs().detach().cpu().numpy())\n",
        "print('Util mean DC', util_dc_mean.abs().detach().cpu().numpy())\n",
        "print('Util mean CC', util_cc_mean.abs().detach().cpu().numpy())\n",
        "\n",
        "util_share = torch.stack((util_ca_mean, util_dc_mean, util_cc_mean)).t()\n",
        "idx = ['Cash', 'Debit', 'Credit']\n",
        "label = ['Ease of use', 'Affordability of use', 'Security of use', 'Reward', 'Transaction cost']\n",
        "\n",
        "dd = pd.DataFrame({label[0]: util_share[0,:].detach().cpu(),\n",
        "                   label[1]: util_share[1,:].detach().cpu(),\n",
        "                   label[2]: util_share[2,:].detach().cpu(),\n",
        "                   label[3]: util_share[3,:].detach().cpu(),\n",
        "                   label[4]: util_share[4,:].detach().cpu()}, index=idx)[label]\n",
        "ax = dd.plot(kind='bar', stacked=True, width=0.35, color=['#E69F00', '#56B4E9', '#009E73', '#CC79A7', '#666666'])\n",
        "ax.set_ylabel('Utility in dollars')\n",
        "plt.hlines(0, -1, 3, linewidth=0.1)\n",
        "plt.legend(loc='center right', bbox_to_anchor=(1.6, 0.5), fancybox=True)\n",
        "r = ax.set_xlim(-1., 3)\n",
        "plt.show()"
      ]
    },
    {
      "cell_type": "markdown",
      "metadata": {
        "id": "UsDKFwgTlnJG"
      },
      "source": [
        "### How cheap/good does CBDC have to be vs cash?"
      ]
    },
    {
      "cell_type": "code",
      "execution_count": null,
      "metadata": {
        "id": "w58YbM1OlnJG"
      },
      "outputs": [],
      "source": [
        "# Cash like\n",
        "# X_bc = X_ca.clone()\n",
        "\n",
        "# Debit like\n",
        "# X_bc = X_dc.clone()\n",
        "\n",
        "# Best of both\n",
        "X_bc = torch.max(X_ca, X_dc).clone()\n",
        "X_bc[:,4] = X_dc[:,4].clone()\n",
        "\n",
        "X_bc_base = X_bc.clone()\n",
        "alpha_bc = alpha_dc\n",
        "\n",
        "year_idx = (year == 2017)\n",
        "start = -25\n",
        "end = 30\n",
        "step = 5\n",
        "\n",
        "s_ca_cost, s_bc_cost, s_dc_cost, s_cc_cost = [], [], [], []\n",
        "for multipler in range(start, end, step):\n",
        "    X_bc = X_bc_base.clone()\n",
        "    # Adjust the transaction cost based on the multiplier\n",
        "    X_bc[:,4] = X_bc_base[:,4].clone() * (1 + multipler/100)\n",
        "    X_ca_renorm, X_bc_renorm, X_dc_renorm, X_cc_renorm = renormalize(X_bc)\n",
        "    choice, adopt = compute_avg_prob_util_ctf(X_ca_renorm, X_dc_renorm, X_cc_renorm, X_bc_renorm, mu, sd,\n",
        "                        alpha_ca, alpha_dc, alpha_cc, alpha_bc, F, gamma,\n",
        "                        Ms_0, Ms_1, Ms_2, draws)\n",
        "    avg_choice = choice[year_idx].mean(0)\n",
        "    s_ca_cost.append(float(avg_choice[0]))\n",
        "    s_bc_cost.append(float(avg_choice[1]))\n",
        "    s_dc_cost.append(float(avg_choice[2]))\n",
        "    s_cc_cost.append(float(avg_choice[3]))\n",
        "\n",
        "s_ca_perc, s_bc_perc, s_dc_perc, s_cc_perc = [], [], [], []\n",
        "for multipler in range(start, end, step):\n",
        "    X_bc = X_bc_base.clone()\n",
        "    # Adjust all 3 perception variables based on the multiplier\n",
        "    X_bc[:,:3] = X_bc_base[:,:3].clone() * (1 + multipler/100)\n",
        "    X_ca_renorm, X_bc_renorm, X_dc_renorm, X_cc_renorm = renormalize(X_bc)\n",
        "    choice, adopt = compute_avg_prob_util_ctf(X_ca_renorm, X_dc_renorm, X_cc_renorm, X_bc_renorm, mu, sd,\n",
        "                        alpha_ca, alpha_dc, alpha_cc, alpha_bc, F, gamma,\n",
        "                        Ms_0, Ms_1, Ms_2, draws)\n",
        "    avg_choice = choice[year_idx].mean(0)\n",
        "    s_ca_perc.append(float(avg_choice[0]))\n",
        "    s_bc_perc.append(float(avg_choice[1]))\n",
        "    s_dc_perc.append(float(avg_choice[2]))\n",
        "    s_cc_perc.append(float(avg_choice[3]))"
      ]
    },
    {
      "cell_type": "code",
      "execution_count": null,
      "metadata": {
        "colab": {
          "base_uri": "https://localhost:8080/",
          "height": 610
        },
        "id": "429L8DY8lnJH",
        "outputId": "386899b4-386f-4b5d-dd19-67e2ab28a886"
      },
      "outputs": [
        {
          "output_type": "display_data",
          "data": {
            "text/plain": [
              "<Figure size 1600x600 with 2 Axes>"
            ],
            "image/png": "[encoded data removed]"
          },
          "metadata": {}
        },
        {
          "output_type": "stream",
          "name": "stdout",
          "text": [
            "Steps\n",
            "[-25 -20 -15 -10  -5   0   5  10  15  20  25]\n",
            "Increase in cost\n",
            "[[nan nan nan nan nan nan nan nan nan nan nan]\n",
            " [nan nan nan nan nan nan nan nan nan nan nan]\n",
            " [nan nan nan nan nan nan nan nan nan nan nan]\n",
            " [nan nan nan nan nan nan nan nan nan nan nan]]\n",
            "Increase in perc\n",
            "[[nan nan nan nan nan nan nan nan nan nan nan]\n",
            " [nan nan nan nan nan nan nan nan nan nan nan]\n",
            " [nan nan nan nan nan nan nan nan nan nan nan]\n",
            " [nan nan nan nan nan nan nan nan nan nan nan]]\n"
          ]
        }
      ],
      "source": [
        "# Plot and print the sensitivity of market share vs the changes in cost and perception.\n",
        "gs = gridspec.GridSpec(1,2)\n",
        "plt.figure(figsize=(16,6))\n",
        "ax1 = plt.subplot(gs[0, 0])\n",
        "plt.plot(np.array(range(start, end, step))/100, s_ca_cost, color='#E69F00', linewidth=5, label='Cash')\n",
        "plt.plot(np.array(range(start, end, step))/100, s_bc_cost, color='#56B4E9', linewidth=5, label='CBDC')\n",
        "plt.plot(np.array(range(start, end, step))/100, s_dc_cost, color='#009E73', linewidth=5, label='Debit')\n",
        "plt.plot(np.array(range(start, end, step))/100, s_cc_cost, color='#CC79A7', linewidth=5, label='Credit')\n",
        "plt.xlim([start/100, (end-step)/100])\n",
        "plt.ylim([0, 1])\n",
        "plt.xlabel('Increase in transaction cost')\n",
        "plt.ylabel('Probability of using')\n",
        "\n",
        "\n",
        "ax2 = plt.subplot(gs[0, 1], sharey=ax1)\n",
        "plt.plot(np.array(range(start, end, step))/100, s_ca_perc, color='#E69F00', linewidth=5, label='Cash')\n",
        "plt.plot(np.array(range(start, end, step))/100, s_bc_perc, color='#56B4E9', linewidth=5, label='CBDC')\n",
        "plt.plot(np.array(range(start, end, step))/100, s_dc_perc, color='#009E73', linewidth=5, label='Debit')\n",
        "plt.plot(np.array(range(start, end, step))/100, s_cc_perc, color='#CC79A7', linewidth=5, label='Credit')\n",
        "plt.xlim([start/100, (end-step)/100])\n",
        "plt.ylim([0, 1])\n",
        "plt.xlabel('Increase in overall perception')\n",
        "plt.legend()\n",
        "\n",
        "plt.setp(ax2.get_yticklabels(), visible=False)\n",
        "plt.tight_layout()\n",
        "plt.show()\n",
        "\n",
        "print('Steps')\n",
        "print(np.array(range(start, end, step)))\n",
        "print('Increase in cost')\n",
        "print(np.array([s_ca_cost, s_bc_cost, s_dc_cost, s_cc_cost]).round(3))\n",
        "print('Increase in perc')\n",
        "print(np.array([s_ca_perc, s_bc_perc, s_dc_perc, s_cc_perc]).round(3))"
      ]
    },
    {
      "cell_type": "markdown",
      "metadata": {
        "id": "f7tULxmZlnJH"
      },
      "source": [
        "### Utility contribution"
      ]
    },
    {
      "cell_type": "markdown",
      "metadata": {
        "id": "ZBLRUfeWlnJH"
      },
      "source": [
        "### How does utility change in each situation"
      ]
    },
    {
      "cell_type": "code",
      "execution_count": null,
      "metadata": {
        "id": "ssUqzEfNlnJH"
      },
      "outputs": [],
      "source": [
        "# Cash like\n",
        "# X_bc = X_ca.clone()\n",
        "\n",
        "# Debit like\n",
        "# X_bc = X_dc.clone()\n",
        "\n",
        "# Best of both\n",
        "X_bc = torch.max(X_ca, X_dc).clone()\n",
        "X_bc[:,4] = X_dc[:,4].clone()\n",
        "\n",
        "X_ca_renorm, X_bc_renorm, X_dc_renorm, X_cc_renorm = renormalize(X_bc)\n",
        "\n",
        "alpha_bc = alpha_dc"
      ]
    },
    {
      "cell_type": "code",
      "execution_count": null,
      "metadata": {
        "id": "ZxKSDvEjlnJH"
      },
      "outputs": [],
      "source": [
        "# Compute the adoption utility WITHOUT CBDC\n",
        "beta = draws[:, nid_index, :] * torch.exp(sd) * beta_mask + mu\n",
        "delta_ca_nobc = (beta * X_ca_renorm).sum(2, keepdim=True) + (Zbj * alpha_ca).sum(1, keepdim=True)\n",
        "delta_dc_nobc = (beta * X_dc_renorm).sum(2, keepdim=True) + (Zbj * alpha_dc).sum(1, keepdim=True)\n",
        "delta_cc_nobc = (beta * X_cc_renorm).sum(2, keepdim=True) + (Zbj * alpha_cc).sum(1, keepdim=True)\n",
        "stage2_emax_nocbdc = stage2_bundle_emax(delta_ca_nobc, delta_dc_nobc, delta_cc_nobc, Ms_0, Ms_1, Ms_2)\n",
        "emax_nocbdc = stage1_emax_ctf(F, gamma, stage2_emax_nocbdc)\n",
        "\n",
        "# Compute the adoption utility WITH CBDC\n",
        "delta_ca = (beta * X_ca_renorm).sum(2, keepdim=True) + (Zbj * alpha_ca).sum(1, keepdim=True)\n",
        "delta_bc = (beta * X_bc_renorm).sum(2, keepdim=True) + (Zbj * alpha_bc).sum(1, keepdim=True)\n",
        "delta_dc = (beta * X_dc_renorm).sum(2, keepdim=True) + (Zbj * alpha_dc).sum(1, keepdim=True)\n",
        "delta_cc = (beta * X_cc_renorm).sum(2, keepdim=True) + (Zbj * alpha_cc).sum(1, keepdim=True)\n",
        "stage2_emax_cbdc = stage2_bundle_emax_ctf(delta_ca, delta_bc, delta_dc, delta_cc, Ms_0, Ms_1, Ms_2)\n",
        "emax_cbdc = stage1_emax_ctf(F, gamma, stage2_emax_cbdc)\n",
        "\n",
        "# Convert into dollar and put it in a table\n",
        "expect_util_improvement = (emax_cbdc - emax_nocbdc).mean(0).squeeze()[nid[year_idx].unique().long()] / float(-mu[4])\n",
        "util_improvement_table = data[['nid', 'empd', 'mard', 'agec', 'incc', 'gen',  'edu',\n",
        "                 'urb', 'own', 'can', 'year', 'sph']].drop_duplicates()\n",
        "util_improvement_table = util_improvement_table[util_improvement_table.year == 2017]\n",
        "util_improvement_table['u'] = expect_util_improvement.detach().cpu()"
      ]
    },
    {
      "cell_type": "code",
      "execution_count": null,
      "metadata": {
        "colab": {
          "base_uri": "https://localhost:8080/"
        },
        "id": "8eTMkgNElnJH",
        "outputId": "cbdfcf43-69a8-45c1-eb00-85f54547628a"
      },
      "outputs": [
        {
          "output_type": "stream",
          "name": "stderr",
          "text": [
            "<ipython-input-114-df36c8fba8cf>:2: FutureWarning: The default value of numeric_only in DataFrameGroupBy.mean is deprecated. In a future version, numeric_only will default to False. Either specify numeric_only or select only columns which should be valid for the function.\n",
            "  util_improv_edu = util_improvement_table.groupby('edu').mean()[['u']]\n",
            "<ipython-input-114-df36c8fba8cf>:6: FutureWarning: The default value of numeric_only in DataFrameGroupBy.mean is deprecated. In a future version, numeric_only will default to False. Either specify numeric_only or select only columns which should be valid for the function.\n",
            "  util_improv_age = util_improvement_table.groupby('agec').mean()[['u']]\n",
            "<ipython-input-114-df36c8fba8cf>:10: FutureWarning: The default value of numeric_only in DataFrameGroupBy.mean is deprecated. In a future version, numeric_only will default to False. Either specify numeric_only or select only columns which should be valid for the function.\n",
            "  util_improv_inc = util_improvement_table.groupby('incc').mean()[['u']]\n"
          ]
        }
      ],
      "source": [
        "# Group by and take mean of util improvement by demographics\n",
        "util_improv_edu = util_improvement_table.groupby('edu').mean()[['u']]\n",
        "util_improv_edu['eduname'] = ['High school', 'Grad School', 'Some uni.', '< high school', 'Tech. school', 'Uni degree']\n",
        "util_improv_edu = util_improv_edu.sort_values(by='u', ascending=False)\n",
        "\n",
        "util_improv_age = util_improvement_table.groupby('agec').mean()[['u']]\n",
        "util_improv_age['agen'] = ['18-32', '33-42', '43-52', '53-61', '62-99']\n",
        "util_improv_age = util_improv_age.sort_values(by='u', ascending=False)\n",
        "\n",
        "util_improv_inc = util_improvement_table.groupby('incc').mean()[['u']]\n",
        "util_improv_inc['incn'] = ['< 25k', '25k-45k', '45k-65k', '65k-90k', '> 90k']\n",
        "util_improv_inc = util_improv_inc.sort_values(by='u', ascending=False)\n",
        "\n",
        "mean_imp = util_improvement_table['u'].mean()"
      ]
    },
    {
      "cell_type": "code",
      "execution_count": null,
      "metadata": {
        "colab": {
          "base_uri": "https://localhost:8080/",
          "height": 638
        },
        "id": "oj7M4wZIlnJH",
        "outputId": "0e0dfa90-f042-44f3-e7f3-941109b20e9c"
      },
      "outputs": [
        {
          "output_type": "error",
          "ename": "ValueError",
          "evalue": "ignored",
          "traceback": [
            "\u001b[0;31m---------------------------------------------------------------------------\u001b[0m",
            "\u001b[0;31mValueError\u001b[0m                                Traceback (most recent call last)",
            "\u001b[0;32m<ipython-input-115-9113388cad66>\u001b[0m in \u001b[0;36m<cell line: 6>\u001b[0;34m()\u001b[0m\n\u001b[1;32m      4\u001b[0m \u001b[0;34m\u001b[0m\u001b[0m\n\u001b[1;32m      5\u001b[0m \u001b[0max1\u001b[0m \u001b[0;34m=\u001b[0m \u001b[0mplt\u001b[0m\u001b[0;34m.\u001b[0m\u001b[0msubplot\u001b[0m\u001b[0;34m(\u001b[0m\u001b[0mgs\u001b[0m\u001b[0;34m[\u001b[0m\u001b[0;36m0\u001b[0m\u001b[0;34m,\u001b[0m \u001b[0;34m:\u001b[0m\u001b[0;34m]\u001b[0m\u001b[0;34m)\u001b[0m\u001b[0;34m\u001b[0m\u001b[0;34m\u001b[0m\u001b[0m\n\u001b[0;32m----> 6\u001b[0;31m \u001b[0mplt\u001b[0m\u001b[0;34m.\u001b[0m\u001b[0mhist\u001b[0m\u001b[0;34m(\u001b[0m\u001b[0mexpect_util_improvement\u001b[0m\u001b[0;34m.\u001b[0m\u001b[0mdetach\u001b[0m\u001b[0;34m(\u001b[0m\u001b[0;34m)\u001b[0m\u001b[0;34m.\u001b[0m\u001b[0mcpu\u001b[0m\u001b[0;34m(\u001b[0m\u001b[0;34m)\u001b[0m\u001b[0;34m,\u001b[0m \u001b[0mbins\u001b[0m\u001b[0;34m=\u001b[0m\u001b[0mnp\u001b[0m\u001b[0;34m.\u001b[0m\u001b[0marange\u001b[0m\u001b[0;34m(\u001b[0m\u001b[0mfloat\u001b[0m\u001b[0;34m(\u001b[0m\u001b[0mexpect_util_improvement\u001b[0m\u001b[0;34m.\u001b[0m\u001b[0mmin\u001b[0m\u001b[0;34m(\u001b[0m\u001b[0;34m)\u001b[0m\u001b[0;34m.\u001b[0m\u001b[0mround\u001b[0m\u001b[0;34m(\u001b[0m\u001b[0;34m)\u001b[0m\u001b[0;34m)\u001b[0m\u001b[0;34m,\u001b[0m \u001b[0mfloat\u001b[0m\u001b[0;34m(\u001b[0m\u001b[0mexpect_util_improvement\u001b[0m\u001b[0;34m.\u001b[0m\u001b[0mmax\u001b[0m\u001b[0;34m(\u001b[0m\u001b[0;34m)\u001b[0m\u001b[0;34m.\u001b[0m\u001b[0mceil\u001b[0m\u001b[0;34m(\u001b[0m\u001b[0;34m)\u001b[0m\u001b[0;34m)\u001b[0m\u001b[0;34m,\u001b[0m \u001b[0;36m0.25\u001b[0m\u001b[0;34m)\u001b[0m\u001b[0;34m,\u001b[0m \u001b[0mcolor\u001b[0m\u001b[0;34m=\u001b[0m\u001b[0;34m'dimgrey'\u001b[0m\u001b[0;34m)\u001b[0m\u001b[0;34m\u001b[0m\u001b[0;34m\u001b[0m\u001b[0m\n\u001b[0m\u001b[1;32m      7\u001b[0m \u001b[0mplt\u001b[0m\u001b[0;34m.\u001b[0m\u001b[0mxlabel\u001b[0m\u001b[0;34m(\u001b[0m\u001b[0;34m\"Utility improvement in dollars\"\u001b[0m\u001b[0;34m)\u001b[0m\u001b[0;34m\u001b[0m\u001b[0;34m\u001b[0m\u001b[0m\n\u001b[1;32m      8\u001b[0m \u001b[0mplt\u001b[0m\u001b[0;34m.\u001b[0m\u001b[0mylabel\u001b[0m\u001b[0;34m(\u001b[0m\u001b[0;34m\"Person count\"\u001b[0m\u001b[0;34m)\u001b[0m\u001b[0;34m\u001b[0m\u001b[0;34m\u001b[0m\u001b[0m\n",
            "\u001b[0;31mValueError\u001b[0m: arange: cannot compute length"
          ]
        },
        {
          "output_type": "display_data",
          "data": {
            "text/plain": [
              "<Figure size 1600x1200 with 1 Axes>"
            ],
            "image/png": "[encoded data removed]"
          },
          "metadata": {}
        }
      ],
      "source": [
        "# plot the distribution and breakdown of util gain\n",
        "gs = gridspec.GridSpec(2,3)\n",
        "plt.figure(figsize=(16,12))\n",
        "\n",
        "ax1 = plt.subplot(gs[0, :])\n",
        "plt.hist(expect_util_improvement.detach().cpu(), bins=np.arange(float(expect_util_improvement.min().round()), float(expect_util_improvement.max().ceil()), 0.25), color='dimgrey')\n",
        "plt.xlabel(\"Utility improvement in dollars\")\n",
        "plt.ylabel(\"Person count\")\n",
        "\n",
        "ax2 = plt.subplot(gs[1, 0])\n",
        "plt.bar(x=util_improv_edu['eduname'], height=util_improv_edu['u'], align='center', color='dimgrey')\n",
        "plt.ylabel(\"Utility improvement in dollars\")\n",
        "plt.xticks(rotation=90)\n",
        "\n",
        "ax3 = plt.subplot(gs[1, 1], sharey=ax2)\n",
        "plt.bar(x=util_improv_age['agen'], height=util_improv_age['u'], align='center', color='dimgrey')\n",
        "plt.xticks(rotation=90)\n",
        "plt.setp(ax3.get_yticklabels(), visible=False)\n",
        "\n",
        "ax4 = plt.subplot(gs[1, 2], sharey=ax2)\n",
        "plt.bar(x=util_improv_inc['incn'], height=util_improv_inc['u'], align='center', color='dimgrey')\n",
        "plt.xticks(rotation=90)\n",
        "plt.setp(ax4.get_yticklabels(), visible=False)\n",
        "\n",
        "plt.tight_layout()\n",
        "plt.show()\n",
        "\n",
        "# save to a file\n",
        "util_improvement_table.to_csv('ecs3cl.csv', index=False)"
      ]
    },
    {
      "cell_type": "markdown",
      "metadata": {
        "id": "l-SCTeMOlnJH"
      },
      "source": [
        "### 6Bundles"
      ]
    },
    {
      "cell_type": "code",
      "execution_count": null,
      "metadata": {
        "id": "RlZZ2VIKlnJH"
      },
      "outputs": [],
      "source": [
        "# Compute the expected maximum in the 6 bundle case. Assume CBDC bundles have no extra cost or benefit\n",
        "def stage1_emax_ctf_6(F, gamma, stage2_emax, bcost=0):\n",
        "    fixed_cost = torch.cat((zero, F, zero, F))\n",
        "    variable_cost = torch.cat((torch.zeros_like(cs), CSb * gamma, torch.zeros_like(cs), CSb * gamma), 1)\n",
        "    util_after_cost = stage2_emax + fixed_cost + variable_cost\n",
        "    return torch.logsumexp(util_after_cost, dim=2, keepdim=True)\n",
        "\n",
        "# Compute the second stage expected maximum utility given acceptance rate of 6 bundles\n",
        "def stage2_bundle_emax_ctf_6(delta_ca, delta_bc, delta_dc, delta_cc, \\\n",
        "                                             accept_prob_0, accept_prob_1, accept_prob_2, \\\n",
        "                                             accept_prob_3, accept_prob_4, accept_prob_5):\n",
        "\n",
        "    u_0_base = torch.logsumexp(torch.cat([delta_ca], 2), dim=2, keepdim=True)\n",
        "    u_1_base = torch.logsumexp(torch.cat([delta_ca, delta_dc], 2), dim=2, keepdim=True)\n",
        "    u_2_base = torch.logsumexp(torch.cat([delta_ca, delta_dc, delta_cc], 2), dim=2, keepdim=True)\n",
        "    u_3_base = torch.logsumexp(torch.cat([delta_ca, delta_bc], 2), dim=2, keepdim=True)\n",
        "    u_4_base = torch.logsumexp(torch.cat([delta_ca, delta_bc, delta_dc], 2), dim=2, keepdim=True)\n",
        "    u_5_base = torch.logsumexp(torch.cat([delta_ca, delta_bc, delta_dc, delta_cc], 2), dim=2, keepdim=True)\n",
        "\n",
        "    u_0 = u_0_base\n",
        "    u_1 = (accept_prob_0 + accept_prob_3) * u_0_base \\\n",
        "            + (accept_prob_1 + accept_prob_2 + accept_prob_4 + accept_prob_5) * u_1_base\n",
        "    u_2 = (accept_prob_0 + accept_prob_3) * u_0_base \\\n",
        "            + (accept_prob_1 + accept_prob_4) * u_1_base \\\n",
        "            + (accept_prob_2 + accept_prob_5) * u_2_base\n",
        "\n",
        "    # compute utility of CBDC bundles\n",
        "    u_3 = (accept_prob_0 + accept_prob_1 + accept_prob_2) * u_0_base \\\n",
        "        + (accept_prob_3 + accept_prob_4 + accept_prob_5) * u_3_base\n",
        "    u_4 = accept_prob_0 * u_0_base \\\n",
        "            + (accept_prob_1 + accept_prob_2) * u_1_base + accept_prob_3 * u_3_base \\\n",
        "            + (accept_prob_4 + accept_prob_5) * u_4_base\n",
        "    u_5 = accept_prob_0 * u_0_base \\\n",
        "            + accept_prob_1 * u_1_base \\\n",
        "            + accept_prob_2 * u_2_base \\\n",
        "            + accept_prob_3 * u_3_base \\\n",
        "            + accept_prob_4 * u_4_base \\\n",
        "            + accept_prob_5 * u_5_base\n",
        "\n",
        "    u = torch.cat((u_0, u_1, u_2, u_3, u_4, u_5), dim=2)\n",
        "    utils = torch.matmul(u.transpose(1,2), nid_matrix.t()).transpose(1,2)\n",
        "    return utils\n",
        "\n",
        "# Compute the probability of adopting any of the 6 bundles\n",
        "def adoption_prob_ctf_6(F, gamma, util, bcost=0):\n",
        "    fixed_cost = torch.cat((zero, F, zero - bcost , F - bcost))\n",
        "    variable_cost = torch.cat((torch.zeros_like(cs), CSb * gamma.t(), torch.zeros_like(cs), CSb * gamma.t()), 1)\n",
        "    util_after_cost = util + fixed_cost + variable_cost\n",
        "    likelihood = torch.nn.functional.softmax(util_after_cost, dim=2)\n",
        "    return likelihood\n",
        "\n",
        "# Compute the probability of using any of the payment methods given adoption and acceptance prob of 6 bundles\n",
        "def usage_prob_ctf_6(delta_ca, delta_bc, delta_dc, delta_cc, \\\n",
        "                             adopt_prob_0, adopt_prob_1, adopt_prob_2,\\\n",
        "                             adopt_prob_3, adopt_prob_4, adopt_prob_5,\\\n",
        "                             accept_prob_0, accept_prob_1, accept_prob_2, \\\n",
        "                             accept_prob_3, accept_prob_4, accept_prob_5):\n",
        "    p_0 = torch.nn.functional.softmax(torch.cat([delta_ca], dim=2), dim=2)\n",
        "    p_1 = torch.nn.functional.softmax(torch.cat([delta_ca, delta_dc], dim=2), dim=2)\n",
        "    p_2 = torch.nn.functional.softmax(torch.cat([delta_ca, delta_dc, delta_cc], dim=2), dim=2)\n",
        "    p_3 = torch.nn.functional.softmax(torch.cat([delta_ca, delta_bc], dim=2), dim=2)\n",
        "    p_4 = torch.nn.functional.softmax(torch.cat([delta_ca, delta_bc, delta_dc], dim=2), dim=2)\n",
        "    p_5 = torch.nn.functional.softmax(torch.cat([delta_ca, delta_bc, delta_dc, delta_cc], dim=2), dim=2)\n",
        "\n",
        "    p_ca_bundle0 = p_0[:,:,0:1]\n",
        "    p_ca_bundle1 = p_1[:,:,0:1]\n",
        "    p_dc_bundle1 = p_1[:,:,1:2]\n",
        "    p_ca_bundle2 = p_2[:,:,0:1]\n",
        "    p_dc_bundle2 = p_2[:,:,1:2]\n",
        "    p_cc_bundle2 = p_2[:,:,2:3]\n",
        "\n",
        "    p_ca_bundle3 = p_3[:,:,0:1]\n",
        "    p_bc_bundle3 = p_3[:,:,1:2]\n",
        "    p_ca_bundle4 = p_4[:,:,0:1]\n",
        "    p_bc_bundle4 = p_4[:,:,1:2]\n",
        "    p_dc_bundle4 = p_4[:,:,2:3]\n",
        "    p_ca_bundle5 = p_5[:,:,0:1]\n",
        "    p_bc_bundle5 = p_5[:,:,1:2]\n",
        "    p_dc_bundle5 = p_5[:,:,2:3]\n",
        "    p_cc_bundle5 = p_5[:,:,3:4]\n",
        "\n",
        "    p_ca = p_ca_bundle0 * adopt_prob_0 * 1 \\\n",
        "        + p_ca_bundle0 * (adopt_prob_1 + adopt_prob_2 + adopt_prob_3 + adopt_prob_4 + adopt_prob_5) * accept_prob_0 \\\n",
        "        + p_ca_bundle0 * adopt_prob_3 * (accept_prob_1 + accept_prob_2) \\\n",
        "        + p_ca_bundle0 * (adopt_prob_1 + adopt_prob_2) * accept_prob_3 \\\n",
        "        + p_ca_bundle1 * adopt_prob_1 * (accept_prob_1 + accept_prob_2 + accept_prob_4 + accept_prob_5) \\\n",
        "        + p_ca_bundle1 * (adopt_prob_2 + adopt_prob_4 + adopt_prob_5) * accept_prob_1 \\\n",
        "        + p_ca_bundle1 * adopt_prob_4 * accept_prob_2 \\\n",
        "        + p_ca_bundle1 * adopt_prob_2 * accept_prob_4 \\\n",
        "        + p_ca_bundle2 * adopt_prob_2 * (accept_prob_2 + accept_prob_5) \\\n",
        "        + p_ca_bundle2 * adopt_prob_5 * accept_prob_2 \\\n",
        "        + p_ca_bundle3 * adopt_prob_3 * (accept_prob_3 + accept_prob_4 + accept_prob_5) \\\n",
        "        + p_ca_bundle3 * (adopt_prob_4 + adopt_prob_5) * accept_prob_3 \\\n",
        "        + p_ca_bundle4 * (adopt_prob_4 + adopt_prob_5) * accept_prob_4 \\\n",
        "        + p_ca_bundle4 * adopt_prob_4 * accept_prob_5 \\\n",
        "        + p_ca_bundle5 * adopt_prob_5 * accept_prob_5\n",
        "\n",
        "    p_bc = p_bc_bundle3 * (adopt_prob_3 + adopt_prob_4 + adopt_prob_5) * accept_prob_3 \\\n",
        "        + p_bc_bundle3 * adopt_prob_3 * (accept_prob_4 + accept_prob_5) \\\n",
        "        + p_bc_bundle4 * (adopt_prob_4 + adopt_prob_5) * accept_prob_4 \\\n",
        "        + p_bc_bundle4 * adopt_prob_4 * accept_prob_5 \\\n",
        "        + p_bc_bundle5 * adopt_prob_5 * accept_prob_5\n",
        "\n",
        "    p_dc = p_dc_bundle1 * (adopt_prob_1 + adopt_prob_2 + adopt_prob_4 + adopt_prob_5) * accept_prob_1 \\\n",
        "        + p_dc_bundle1 * adopt_prob_1 * (accept_prob_2 + accept_prob_4 + accept_prob_5) \\\n",
        "        + p_dc_bundle1 * adopt_prob_4 * accept_prob_2 \\\n",
        "        + p_dc_bundle1 * adopt_prob_2 * accept_prob_4 \\\n",
        "        + p_dc_bundle2 * adopt_prob_2 * (accept_prob_2 + accept_prob_5) \\\n",
        "        + p_dc_bundle2 * adopt_prob_5 * accept_prob_2 \\\n",
        "        + p_dc_bundle4 * (adopt_prob_4 + adopt_prob_5) * accept_prob_4 \\\n",
        "        + p_dc_bundle4 * adopt_prob_4 * accept_prob_5 \\\n",
        "        + p_dc_bundle5 * adopt_prob_5 * accept_prob_5\n",
        "\n",
        "    p_cc = p_cc_bundle2 * (adopt_prob_2 + adopt_prob_5) * accept_prob_2 \\\n",
        "        + p_cc_bundle2 * adopt_prob_2 * accept_prob_5 \\\n",
        "        + p_cc_bundle5 * adopt_prob_5 * accept_prob_5\n",
        "    return torch.cat((p_ca, p_bc, p_dc, p_cc), dim=2)"
      ]
    },
    {
      "cell_type": "markdown",
      "metadata": {
        "id": "nLcskGpClnJI"
      },
      "source": [
        "### Util improvement for 6 bundles"
      ]
    },
    {
      "cell_type": "code",
      "execution_count": null,
      "metadata": {
        "id": "0_0IVWAalnJI"
      },
      "outputs": [],
      "source": [
        "mu, sd, alpha_ca, alpha_dc,\\\n",
        "    alpha_cc, F, gamma, draws, l = get_params_from('spec3_mix_cs.npy')"
      ]
    },
    {
      "cell_type": "code",
      "execution_count": null,
      "metadata": {
        "id": "fOpDp38VlnJI"
      },
      "outputs": [],
      "source": [
        "# Cash like\n",
        "# X_bc = X_ca.clone()\n",
        "\n",
        "# Debit like\n",
        "# X_bc = X_dc.clone()\n",
        "\n",
        "# Best of both\n",
        "X_bc = torch.max(X_ca, X_dc).clone()\n",
        "X_bc[:,4] = X_dc[:,4].clone()\n",
        "\n",
        "alpha_bc = alpha_dc\n",
        "\n",
        "X_ca_renorm, X_bc_renorm, X_dc_renorm, X_cc_renorm = renormalize(X_bc)"
      ]
    },
    {
      "cell_type": "code",
      "execution_count": null,
      "metadata": {
        "id": "A1UnaQm_lnJI"
      },
      "outputs": [],
      "source": [
        "# Assume 75% acceptance rate of CBDC\n",
        "pickup_rate = 0.75\n",
        "accept_prob_0 = Ms_0 * (1 - pickup_rate)\n",
        "accept_prob_1 = Ms_1 * (1 - pickup_rate)\n",
        "accept_prob_2 = Ms_2 * (1 - pickup_rate)\n",
        "accept_prob_3 = Ms_0 * pickup_rate\n",
        "accept_prob_4 = Ms_1 * pickup_rate\n",
        "accept_prob_5 = Ms_2 * pickup_rate\n",
        "\n",
        "# Compute the adoption utility WITHOUT CBDC (infinite punishment for CBDC)\n",
        "beta = draws[:, nid_index, :] * torch.exp(sd) * beta_mask + mu\n",
        "delta_ca_nobc = (beta * X_ca_renorm).sum(2, keepdim=True) + (Zbj * alpha_ca).sum(1, keepdim=True)\n",
        "delta_bc_nobc = (beta * X_bc_renorm).sum(2, keepdim=True) + (Zbj * alpha_bc).sum(1, keepdim=True) - 999999999999\n",
        "delta_dc_nobc = (beta * X_dc_renorm).sum(2, keepdim=True) + (Zbj * alpha_dc).sum(1, keepdim=True)\n",
        "delta_cc_nobc = (beta * X_cc_renorm).sum(2, keepdim=True) + (Zbj * alpha_cc).sum(1, keepdim=True)\n",
        "stage2_emax_nocbdc = stage2_bundle_emax_ctf_6(delta_ca_nobc, delta_bc_nobc, delta_dc_nobc, delta_cc_nobc, accept_prob_0, accept_prob_1, accept_prob_2, accept_prob_3, accept_prob_4, accept_prob_5)\n",
        "emax_nocbdc = stage1_emax_ctf_6(F, gamma, stage2_emax_nocbdc, bcost=0)\n",
        "\n",
        "# Compute the adoption utility WITH CBDC\n",
        "delta_ca = (beta * X_ca_renorm).sum(2, keepdim=True) + (Zbj * alpha_ca).sum(1, keepdim=True)\n",
        "delta_bc = (beta * X_bc_renorm).sum(2, keepdim=True) + (Zbj * alpha_bc).sum(1, keepdim=True)\n",
        "delta_dc = (beta * X_dc_renorm).sum(2, keepdim=True) + (Zbj * alpha_dc).sum(1, keepdim=True)\n",
        "delta_cc = (beta * X_cc_renorm).sum(2, keepdim=True) + (Zbj * alpha_cc).sum(1, keepdim=True)\n",
        "stage2_emax_cbdc = stage2_bundle_emax_ctf_6(delta_ca, delta_bc, delta_dc, delta_cc, accept_prob_0, accept_prob_1, accept_prob_2, accept_prob_3, accept_prob_4, accept_prob_5)\n",
        "emax_cbdc = stage1_emax_ctf_6(F, gamma, stage2_emax_cbdc, bcost=0)\n",
        "\n",
        "# Convert into dollar and put it in a table\n",
        "expect_util_improvement = (emax_cbdc - emax_nocbdc).mean(0).squeeze()[nid[year_idx].unique().long()] / float(-mu[4])\n",
        "util_improvement_table = data[['nid', 'empd', 'mard', 'agec', 'incc', 'gen',  'edu',\n",
        "                 'urb', 'own', 'can', 'year', 'sph']].drop_duplicates()\n",
        "util_improvement_table = util_improvement_table[util_improvement_table.year == 2017]\n",
        "util_improvement_table['u'] = expect_util_improvement.detach().cpu()"
      ]
    },
    {
      "cell_type": "code",
      "execution_count": null,
      "metadata": {
        "id": "l16p7d5SlnJI"
      },
      "outputs": [],
      "source": [
        "# Group by and take mean of util improvement by demographics\n",
        "util_improv_edu = util_improvement_table.groupby('edu').mean()[['u']]\n",
        "util_improv_edu['eduname'] = ['High school', 'Grad School', 'Some uni.', '< high school', 'Tech. school', 'Uni degree']\n",
        "util_improv_edu = util_improv_edu.sort_values(by='u', ascending=False)\n",
        "\n",
        "util_improv_age = util_improvement_table.groupby('agec').mean()[['u']]\n",
        "util_improv_age['agen'] = ['18-32', '33-42', '43-52', '53-61', '62-99']\n",
        "util_improv_age = util_improv_age.sort_values(by='u', ascending=False)\n",
        "\n",
        "util_improv_inc = util_improvement_table.groupby('incc').mean()[['u']]\n",
        "util_improv_inc['incn'] = ['< 25k', '25k-45k', '45k-65k', '65k-90k', '> 90k']\n",
        "util_improv_inc = util_improv_inc.sort_values(by='u', ascending=False)\n",
        "\n",
        "mean_imp = util_improvement_table['u'].mean()"
      ]
    },
    {
      "cell_type": "code",
      "execution_count": null,
      "metadata": {
        "id": "z9W9c8cClnJI"
      },
      "outputs": [],
      "source": [
        "# plot the distribution and breakdown of util gain\\\n",
        "gs = gridspec.GridSpec(2,3)\n",
        "plt.figure(figsize=(16,12))\n",
        "\n",
        "ax1 = plt.subplot(gs[0, :])\n",
        "plt.hist(expect_util_improvement.detach().cpu(), bins=np.arange(float(expect_util_improvement.min().round()), float(expect_util_improvement.max().ceil()), 0.2), color='dimgrey')\n",
        "plt.xlabel(\"Utility improvement in dollars\")\n",
        "plt.ylabel(\"Person count\")\n",
        "\n",
        "ax2 = plt.subplot(gs[1, 0])\n",
        "plt.bar(x=util_improv_edu['eduname'], height=util_improv_edu['u'], align='center', color='dimgrey')\n",
        "plt.ylabel(\"Utility improvement in dollars\")\n",
        "plt.xticks(rotation=90)\n",
        "\n",
        "ax3 = plt.subplot(gs[1, 1], sharey=ax2)\n",
        "plt.bar(x=util_improv_age['agen'], height=util_improv_age['u'], align='center', color='dimgrey')\n",
        "plt.xticks(rotation=90)\n",
        "plt.setp(ax3.get_yticklabels(), visible=False)\n",
        "\n",
        "ax4 = plt.subplot(gs[1, 2], sharey=ax2)\n",
        "plt.bar(x=util_improv_inc['incn'], height=util_improv_inc['u'], align='center', color='dimgrey')\n",
        "plt.xticks(rotation=90)\n",
        "plt.setp(ax4.get_yticklabels(), visible=False)\n",
        "\n",
        "plt.tight_layout()\n",
        "plt.show()\n",
        "\n",
        "# save to a file\n",
        "util_improvement_table.to_csv('ecs6bb.csv', index=False)"
      ]
    },
    {
      "cell_type": "code",
      "execution_count": null,
      "metadata": {
        "id": "CwgNvQZFlnJI"
      },
      "outputs": [],
      "source": [
        "mean_imp"
      ]
    },
    {
      "cell_type": "markdown",
      "metadata": {
        "id": "_XlVc5eJlnJJ"
      },
      "source": [
        "### 6 Bundle but CBDC is the default now"
      ]
    },
    {
      "cell_type": "code",
      "execution_count": null,
      "metadata": {
        "id": "-HGEFSq0lnJJ"
      },
      "outputs": [],
      "source": [
        "# Cash like\n",
        "# X_bc = X_ca.clone()\n",
        "\n",
        "# Debit like\n",
        "# X_bc = X_dc.clone()\n",
        "\n",
        "# Best of both\n",
        "X_bc = torch.max(X_ca, X_dc).clone()\n",
        "X_bc[:,4] = X_dc[:,4].clone()\n",
        "\n",
        "alpha_bc = alpha_dc\n",
        "\n",
        "X_ca_renorm, X_bc_renorm, X_dc_renorm, X_cc_renorm = renormalize(X_bc)"
      ]
    },
    {
      "cell_type": "code",
      "execution_count": null,
      "metadata": {
        "id": "SwKY8TFElnJJ"
      },
      "outputs": [],
      "source": [
        "# Assume 75% acceptance rate of CBDC\n",
        "pickup_rate = 0.75\n",
        "accept_prob_0 = Ms_0 * (1 - pickup_rate)\n",
        "accept_prob_1 = Ms_1 * (1 - pickup_rate)\n",
        "accept_prob_2 = Ms_2 * (1 - pickup_rate)\n",
        "accept_prob_3 = Ms_0 * pickup_rate\n",
        "accept_prob_4 = Ms_1 * pickup_rate\n",
        "accept_prob_5 = Ms_2 * pickup_rate\n",
        "\n",
        "# Compute the adoption utility WITHOUT CBDC (infinite punishment for CBDC)\n",
        "beta = draws[:, nid_index, :] * torch.exp(sd) * beta_mask + mu\n",
        "delta_ca_nobc = (beta * X_ca_renorm).sum(2, keepdim=True) + (Zbj * alpha_ca).sum(1, keepdim=True)\n",
        "delta_bc_nobc = (beta * X_bc_renorm).sum(2, keepdim=True) + (Zbj * alpha_bc).sum(1, keepdim=True) - 999999999999\n",
        "delta_dc_nobc = (beta * X_dc_renorm).sum(2, keepdim=True) + (Zbj * alpha_dc).sum(1, keepdim=True)\n",
        "delta_cc_nobc = (beta * X_cc_renorm).sum(2, keepdim=True) + (Zbj * alpha_cc).sum(1, keepdim=True)\n",
        "stage2_emax_nocbdc = stage2_bundle_emax_ctf_6(delta_ca_nobc, delta_bc_nobc, delta_dc_nobc, delta_cc_nobc, accept_prob_0, accept_prob_1, accept_prob_2, accept_prob_3, accept_prob_4, accept_prob_5)\n",
        "emax_nocbdc = stage1_emax_ctf_6(F, gamma, stage2_emax_nocbdc, bcost=0)\n",
        "\n",
        "# Compute the adoption utility WITH CBDC\n",
        "delta_ca = (beta * X_ca_renorm).sum(2, keepdim=True) + (Zbj * alpha_ca).sum(1, keepdim=True)\n",
        "delta_bc = (beta * X_bc_renorm).sum(2, keepdim=True) + (Zbj * alpha_bc).sum(1, keepdim=True)\n",
        "delta_dc = (beta * X_dc_renorm).sum(2, keepdim=True) + (Zbj * alpha_dc).sum(1, keepdim=True)\n",
        "delta_cc = (beta * X_cc_renorm).sum(2, keepdim=True) + (Zbj * alpha_cc).sum(1, keepdim=True)\n",
        "stage2_emax_cbdc = stage2_bundle_emax_ctf_6(delta_bc, delta_ca, delta_dc, delta_cc, accept_prob_0, accept_prob_1, accept_prob_2, accept_prob_3, accept_prob_4, accept_prob_5)\n",
        "emax_cbdc = stage1_emax_ctf_6(F, gamma, stage2_emax_cbdc, bcost=0)\n",
        "\n",
        "# Convert into dollar and put it in a table\n",
        "expect_util_improvement = (emax_cbdc - emax_nocbdc).mean(0).squeeze()[nid[year_idx].unique().long()] / float(-mu[4])\n",
        "util_improvement_table = data[['nid', 'empd', 'mard', 'agec', 'incc', 'gen',  'edu',\n",
        "                 'urb', 'own', 'can', 'year', 'sph']].drop_duplicates()\n",
        "util_improvement_table = util_improvement_table[util_improvement_table.year == 2017]\n",
        "util_improvement_table['u'] = expect_util_improvement.detach().cpu()"
      ]
    },
    {
      "cell_type": "code",
      "execution_count": null,
      "metadata": {
        "id": "1fJz5AcZlnJJ"
      },
      "outputs": [],
      "source": [
        "# Group by and take mean of util improvement by demographics\n",
        "util_improv_edu = util_improvement_table.groupby('edu').mean()[['u']]\n",
        "util_improv_edu['eduname'] = ['High school', 'Grad School', 'Some uni.', '< high school', 'Tech. school', 'Uni degree']\n",
        "util_improv_edu = util_improv_edu.sort_values(by='u', ascending=False)\n",
        "\n",
        "util_improv_age = util_improvement_table.groupby('agec').mean()[['u']]\n",
        "util_improv_age['agen'] = ['18-32', '33-42', '43-52', '53-61', '62-99']\n",
        "util_improv_age = util_improv_age.sort_values(by='u', ascending=False)\n",
        "\n",
        "util_improv_inc = util_improvement_table.groupby('incc').mean()[['u']]\n",
        "util_improv_inc['incn'] = ['< 25k', '25k-45k', '45k-65k', '65k-90k', '> 90k']\n",
        "util_improv_inc = util_improv_inc.sort_values(by='u', ascending=False)\n",
        "\n",
        "mean_imp = util_improvement_table['u'].mean()"
      ]
    },
    {
      "cell_type": "code",
      "execution_count": null,
      "metadata": {
        "id": "QE4slWD8lnJJ"
      },
      "outputs": [],
      "source": [
        "# plot the distribution and breakdown of util gain\\\n",
        "gs = gridspec.GridSpec(2,3)\n",
        "plt.figure(figsize=(16,12))\n",
        "\n",
        "ax1 = plt.subplot(gs[0, :])\n",
        "plt.hist(expect_util_improvement.detach().cpu(), bins=np.arange(float(expect_util_improvement.min().round()), float(expect_util_improvement.max().ceil()), 0.2), color='dimgrey')\n",
        "plt.xlabel(\"Utility improvement in dollars\")\n",
        "plt.ylabel(\"Person count\")\n",
        "\n",
        "ax2 = plt.subplot(gs[1, 0])\n",
        "plt.bar(x=util_improv_edu['eduname'], height=util_improv_edu['u'], align='center', color='dimgrey')\n",
        "plt.ylabel(\"Utility improvement in dollars\")\n",
        "plt.xticks(rotation=90)\n",
        "\n",
        "ax3 = plt.subplot(gs[1, 1], sharey=ax2)\n",
        "plt.bar(x=util_improv_age['agen'], height=util_improv_age['u'], align='center', color='dimgrey')\n",
        "plt.xticks(rotation=90)\n",
        "plt.setp(ax3.get_yticklabels(), visible=False)\n",
        "\n",
        "ax4 = plt.subplot(gs[1, 2], sharey=ax2)\n",
        "plt.bar(x=util_improv_inc['incn'], height=util_improv_inc['u'], align='center', color='dimgrey')\n",
        "plt.xticks(rotation=90)\n",
        "plt.setp(ax4.get_yticklabels(), visible=False)\n",
        "\n",
        "plt.tight_layout()\n",
        "plt.show()\n",
        "\n",
        "# save to a file\n",
        "util_improvement_table.to_csv('ecs6bb.csv', index=False)"
      ]
    },
    {
      "cell_type": "code",
      "execution_count": null,
      "metadata": {
        "id": "8tBVvKvylnJJ"
      },
      "outputs": [],
      "source": [
        "mean_imp"
      ]
    },
    {
      "cell_type": "markdown",
      "metadata": {
        "id": "Yr9H-JxZlnJK"
      },
      "source": [
        "### 6 bundle Pickup rate vs adoption and usage\n",
        "\n",
        "We are going to vary the acceptance rate of CBDC and see how the usage and acceptance probability changes with it."
      ]
    },
    {
      "cell_type": "code",
      "execution_count": null,
      "metadata": {
        "id": "GWfqOghGlnJK"
      },
      "outputs": [],
      "source": [
        "# Cash like\n",
        "# X_bc = X_ca.clone()\n",
        "\n",
        "# Debit like\n",
        "# X_bc = X_dc.clone()\n",
        "\n",
        "# Best of both\n",
        "X_bc = torch.max(X_ca, X_dc).clone()\n",
        "X_bc[:,4] = X_dc[:,4].clone()\n",
        "\n",
        "alpha_bc = alpha_dc\n",
        "\n",
        "X_ca_renorm, X_bc_renorm, X_dc_renorm, X_cc_renorm = renormalize(X_bc)"
      ]
    },
    {
      "cell_type": "code",
      "execution_count": null,
      "metadata": {
        "scrolled": true,
        "id": "OUgAKULilnJK"
      },
      "outputs": [],
      "source": [
        "multiplier_range = np.array(range(0, 101, 10))\n",
        "\n",
        "beta = draws[:, nid_index, :] * torch.exp(sd) + mu\n",
        "delta_ca = (beta * X_ca_renorm).sum(2, keepdim=True) + (Zbj * alpha_ca).sum(1, keepdim=True)\n",
        "delta_bc = (beta * X_bc_renorm).sum(2, keepdim=True) + (Zbj * alpha_bc).sum(1, keepdim=True)\n",
        "delta_dc = (beta * X_dc_renorm).sum(2, keepdim=True) + (Zbj * alpha_dc).sum(1, keepdim=True)\n",
        "delta_cc = (beta * X_cc_renorm).sum(2, keepdim=True) + (Zbj * alpha_cc).sum(1, keepdim=True)\n",
        "\n",
        "adopt_probs_t = []\n",
        "usage_probs_t = []\n",
        "for multiplier in multiplier_range:\n",
        "    # Assume Bernoulli and bifurcates store acceptance between CBDC and no-CBDC\n",
        "    pickup_rate = multiplier/100\n",
        "    accept_prob_0 = Ms_0 * (1 - pickup_rate)\n",
        "    accept_prob_1 = Ms_1 * (1 - pickup_rate)\n",
        "    accept_prob_2 = Ms_2 * (1 - pickup_rate)\n",
        "    accept_prob_3 = Ms_0 * pickup_rate\n",
        "    accept_prob_4 = Ms_1 * pickup_rate\n",
        "    accept_prob_5 = Ms_2 * pickup_rate\n",
        "\n",
        "    # Compute the adopt and usage rate\n",
        "    util = stage2_bundle_emax_ctf_6(delta_ca, delta_bc, delta_dc, delta_cc, accept_prob_0, accept_prob_1, accept_prob_2, accept_prob_3, accept_prob_4, accept_prob_5)\n",
        "    short_adopt = adoption_prob_ctf_6(F, gamma, util, bcost=0)\n",
        "    adopt_prob_tm = short_adopt[:, nid_index.long(), :]\n",
        "    usage_prob_tm = usage_prob_ctf_6(delta_ca, delta_bc, delta_dc, delta_cc, \\\n",
        "                   adopt_prob_tm[:, :, 0:1], adopt_prob_tm[:, :, 1:2], adopt_prob_tm[:, :, 2:3], adopt_prob_tm[:, :, 3:4], adopt_prob_tm[:, :, 4:5], adopt_prob_tm[:, :, 5:6], \\\n",
        "                   accept_prob_0, accept_prob_1, accept_prob_2, accept_prob_3, accept_prob_4, accept_prob_5)\n",
        "    adopt_probs_t.append(short_adopt.mean(0)[nid[year_idx].unique().long()].mean(0))\n",
        "    usage_probs_t.append(usage_prob_tm.mean(0)[year_idx].mean(0))\n",
        "adopt_prob = torch.stack(adopt_probs_t).detach().cpu().numpy()\n",
        "usage_prob = torch.stack(usage_probs_t).detach().cpu().numpy()"
      ]
    },
    {
      "cell_type": "code",
      "execution_count": null,
      "metadata": {
        "id": "6SVF3sAylnJK"
      },
      "outputs": [],
      "source": [
        "print('Usage prob\\n', usage_prob.T.round(2))\n",
        "print('Adopt prob\\n', adopt_prob.T.round(2))\n",
        "\n",
        "# Plot it as a function of the multiplier\n",
        "gs = gridspec.GridSpec(2,1)\n",
        "plt.figure(figsize=(16,12))\n",
        "ax1 = plt.subplot(gs[0, 0])\n",
        "plt.plot(multiplier_range, usage_prob[:,0], color='#E69F00', linewidth=5, label='Cash')\n",
        "plt.plot(multiplier_range, usage_prob[:,1], color='#56B4E9', linewidth=5, label='CBDC')\n",
        "plt.plot(multiplier_range, usage_prob[:,2], color='#009E73', linewidth=5, label='Debit')\n",
        "plt.plot(multiplier_range, usage_prob[:,3], color='#CC79A7', linewidth=5, label='Credit')\n",
        "plt.legend()\n",
        "plt.xticks(range(0,101, 10))\n",
        "plt.xlim([0,100])\n",
        "plt.ylim([0,0.5])\n",
        "plt.ylabel('Usage rate')\n",
        "\n",
        "ax2 = plt.subplot(gs[1, 0], sharex=ax1)\n",
        "plt.plot(multiplier_range, adopt_prob[:,0:3].sum(1), color='darkorange', linewidth=5, label='Do not adopt CBDC')\n",
        "plt.plot(multiplier_range, adopt_prob[:,3:6].sum(1), color='navy', linewidth=5, label='Adopt CBDC')\n",
        "plt.legend()\n",
        "plt.xlabel('CBDC Merchant pickup rate (%)')\n",
        "plt.ylim([0,1])\n",
        "plt.ylabel('CBDC adoption rate')\n",
        "plt.setp(ax1.get_xticklabels(), visible=False)\n",
        "\n",
        "plt.tight_layout()\n",
        "plt.show()"
      ]
    },
    {
      "cell_type": "markdown",
      "metadata": {
        "id": "E5LSEMhHlnJK"
      },
      "source": [
        "### 6 bundle Pickup rate vs adoption and usage (CBDC is default)\n",
        "\n",
        "We are going to vary the acceptance rate of CBDC and see how the usage and acceptance probability changes with it."
      ]
    },
    {
      "cell_type": "code",
      "execution_count": null,
      "metadata": {
        "id": "0GPzTAmflnJK"
      },
      "outputs": [],
      "source": [
        "# Cash like\n",
        "# X_bc = X_ca.clone()\n",
        "\n",
        "# Debit like\n",
        "# X_bc = X_dc.clone()\n",
        "\n",
        "# Best of both\n",
        "X_bc = torch.max(X_ca, X_dc).clone()\n",
        "X_bc[:,4] = X_dc[:,4].clone()\n",
        "\n",
        "alpha_bc = alpha_dc\n",
        "\n",
        "X_ca_renorm, X_bc_renorm, X_dc_renorm, X_cc_renorm = renormalize(X_bc)"
      ]
    },
    {
      "cell_type": "code",
      "execution_count": null,
      "metadata": {
        "id": "3eYs3MQXlnJK"
      },
      "outputs": [],
      "source": [
        "multiplier_range = np.array(range(0, 101, 10))\n",
        "\n",
        "beta = draws[:, nid_index, :] * torch.exp(sd) + mu\n",
        "delta_ca = (beta * X_ca_renorm).sum(2, keepdim=True) + (Zbj * alpha_ca).sum(1, keepdim=True)\n",
        "delta_bc = (beta * X_bc_renorm).sum(2, keepdim=True) + (Zbj * alpha_bc).sum(1, keepdim=True)\n",
        "delta_dc = (beta * X_dc_renorm).sum(2, keepdim=True) + (Zbj * alpha_dc).sum(1, keepdim=True)\n",
        "delta_cc = (beta * X_cc_renorm).sum(2, keepdim=True) + (Zbj * alpha_cc).sum(1, keepdim=True)\n",
        "\n",
        "adopt_probs_t = []\n",
        "usage_probs_t = []\n",
        "for multiplier in multiplier_range:\n",
        "    # Assume Bernoulli and bifurcates store acceptance between CBDC and no-CBDC\n",
        "    pickup_rate = multiplier/100\n",
        "    accept_prob_0 = Ms_0 * (1 - pickup_rate)\n",
        "    accept_prob_1 = Ms_1 * (1 - pickup_rate)\n",
        "    accept_prob_2 = Ms_2 * (1 - pickup_rate)\n",
        "    accept_prob_3 = Ms_0 * pickup_rate\n",
        "    accept_prob_4 = Ms_1 * pickup_rate\n",
        "    accept_prob_5 = Ms_2 * pickup_rate\n",
        "\n",
        "    # Compute the adopt and usage rate\n",
        "    util = stage2_bundle_emax_ctf_6(delta_bc, delta_ca, delta_dc, delta_cc, accept_prob_0, accept_prob_1, accept_prob_2, accept_prob_3, accept_prob_4, accept_prob_5)\n",
        "    short_adopt = adoption_prob_ctf_6(F, gamma, util, bcost=0)\n",
        "    adopt_prob_tm = short_adopt[:, nid_index.long(), :]\n",
        "    usage_prob_tm = usage_prob_ctf_6(delta_bc, delta_ca, delta_dc, delta_cc, \\\n",
        "                   adopt_prob_tm[:, :, 0:1], adopt_prob_tm[:, :, 1:2], adopt_prob_tm[:, :, 2:3], adopt_prob_tm[:, :, 3:4], adopt_prob_tm[:, :, 4:5], adopt_prob_tm[:, :, 5:6], \\\n",
        "                   accept_prob_0, accept_prob_1, accept_prob_2, accept_prob_3, accept_prob_4, accept_prob_5)\n",
        "    adopt_probs_t.append(short_adopt.mean(0)[nid[year_idx].unique().long()].mean(0))\n",
        "    usage_probs_t.append(usage_prob_tm.mean(0)[year_idx].mean(0))\n",
        "adopt_prob = torch.stack(adopt_probs_t).detach().cpu().numpy()\n",
        "usage_prob = torch.stack(usage_probs_t).detach().cpu().numpy()"
      ]
    },
    {
      "cell_type": "code",
      "execution_count": null,
      "metadata": {
        "id": "guViCySglnJL"
      },
      "outputs": [],
      "source": [
        "print('Usage prob\\n', usage_prob.T.round(2))\n",
        "print('Adopt prob\\n', adopt_prob.T.round(2))\n",
        "\n",
        "# Plot it as a function of the multiplier\n",
        "gs = gridspec.GridSpec(2,1)\n",
        "plt.figure(figsize=(16,12))\n",
        "ax1 = plt.subplot(gs[0, 0])\n",
        "plt.plot(multiplier_range, usage_prob[:,1], color='#E69F00', linewidth=5, label='Cash')\n",
        "plt.plot(multiplier_range, usage_prob[:,0], color='#56B4E9', linewidth=5, label='CBDC')\n",
        "plt.plot(multiplier_range, usage_prob[:,2], color='#009E73', linewidth=5, label='Debit')\n",
        "plt.plot(multiplier_range, usage_prob[:,3], color='#CC79A7', linewidth=5, label='Credit')\n",
        "plt.legend()\n",
        "plt.xticks(range(0,101, 10))\n",
        "plt.xlim([0,100])\n",
        "plt.ylim([0,0.5])\n",
        "plt.ylabel('Usage rate')\n",
        "\n",
        "ax2 = plt.subplot(gs[1, 0], sharex=ax1)\n",
        "plt.plot(multiplier_range, adopt_prob[:,0:3].sum(1), color='darkorange', linewidth=5, label='Do not adopt cash')\n",
        "plt.plot(multiplier_range, adopt_prob[:,3:6].sum(1), color='navy', linewidth=5, label='Adopt cash')\n",
        "plt.legend()\n",
        "plt.xlabel('Cash Merchant pickup rate (%)')\n",
        "plt.ylim([0,1])\n",
        "plt.ylabel('Cash adoption rate')\n",
        "plt.setp(ax1.get_xticklabels(), visible=False)\n",
        "\n",
        "plt.tight_layout()\n",
        "plt.show()"
      ]
    },
    {
      "cell_type": "code",
      "execution_count": null,
      "metadata": {
        "id": "cAg3luiIlnJL"
      },
      "outputs": [],
      "source": []
    }
  ],
  "metadata": {
    "kernelspec": {
      "display_name": "Python 3",
      "name": "python3"
    },
    "language_info": {
      "codemirror_mode": {
        "name": "ipython",
        "version": 3
      },
      "file_extension": ".py",
      "mimetype": "text/x-python",
      "name": "python",
      "nbconvert_exporter": "python",
      "pygments_lexer": "ipython3",
      "version": "3.6.9"
    },
    "colab": {
      "provenance": [],
      "gpuType": "T4"
    },
    "accelerator": "GPU"
  },
  "nbformat": 4,
  "nbformat_minor": 0
}